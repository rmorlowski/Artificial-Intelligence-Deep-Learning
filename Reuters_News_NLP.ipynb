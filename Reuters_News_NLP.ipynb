{
  "nbformat": 4,
  "nbformat_minor": 0,
  "metadata": {
    "colab": {
      "name": "Reuters_News_NLP.ipynb",
      "version": "0.3.2",
      "provenance": [],
      "collapsed_sections": [],
      "include_colab_link": true
    },
    "kernelspec": {
      "name": "python3",
      "display_name": "Python 3"
    },
    "accelerator": "GPU"
  },
  "cells": [
    {
      "cell_type": "markdown",
      "metadata": {
        "id": "view-in-github",
        "colab_type": "text"
      },
      "source": [
        "<a href=\"https://colab.research.google.com/github/rmorlowski/Artificial-Intelligence-Deep-Learning/blob/master/Reuters_News_NLP.ipynb\" target=\"_parent\"><img src=\"https://colab.research.google.com/assets/colab-badge.svg\" alt=\"Open In Colab\"/></a>"
      ]
    },
    {
      "cell_type": "markdown",
      "metadata": {
        "id": "2TAHw3FAAcMV",
        "colab_type": "text"
      },
      "source": [
        "# Reuters Natural Language Processing - News Categorization"
      ]
    },
    {
      "cell_type": "markdown",
      "metadata": {
        "id": "8Q2wvXVmOjis",
        "colab_type": "text"
      },
      "source": [
        "This assignment concerns natural language processing. You are asked to create deep neural networks for language processing and to analyze how various factors affect the fitting and ultimate test set performance of these networks."
      ]
    },
    {
      "cell_type": "markdown",
      "metadata": {
        "id": "B39nM5ukQWWF",
        "colab_type": "text"
      },
      "source": [
        "![Reuters-logo](https://logos-download.com/wp-content/uploads/2016/05/Reuters_logo_emblem-700x168.png)"
      ]
    },
    {
      "cell_type": "markdown",
      "metadata": {
        "id": "5avC3qlPVpW2",
        "colab_type": "text"
      },
      "source": [
        "**The Benchmark Experiment:** Network Topologies. Think in terms of exploring alternative network structures/topologies, such as (1) dense versus convolutional neural networks, (2) single- versus multi-hidden-layer networks, and/or (3) convolutional neural networks with differing structures in terms of convolution and pooling layers. Explain your motivation for choosing each topology."
      ]
    },
    {
      "cell_type": "markdown",
      "metadata": {
        "id": "j29pMh5PJAXn",
        "colab_type": "text"
      },
      "source": [
        "Relevant documentation includes:\n",
        "*   [M. Chen - RNN with Reuters Dataset](https://medium.com/@minhao_chen/rnn-with-reuters-dataset-228ddc9d1f42)\n",
        "*   [F. Chollet - Deep Learning with Python](https://github.com/fchollet/deep-learning-with-python-notebooks/blob/master/6.1-one-hot-encoding-of-words-or-characters.ipynb)\n",
        "*   [A. Geron - handson-ml2](https://github.com/ageron/handson-ml2/blob/master/16_nlp_with_rnns_and_attention.ipynb)\n",
        "*   [P. Huynh - reuters.py](https://canvas.northwestern.edu/courses/90349/pages/keras-tutorial-video-and-code-paul-huynh?module_item_id=1184249)\n",
        "*   [Keras Documentation- Sequence Classfication with LSTM](http://faroit.com/keras-docs/0.3.3/examples/)\n",
        "*   [Yale - Word Embeddings](http://euler.stat.yale.edu/~tba3/stat665/lectures/lec20/notebook20.html)"
      ]
    },
    {
      "cell_type": "markdown",
      "metadata": {
        "id": "UkFEg6mATpnT",
        "colab_type": "text"
      },
      "source": [
        "Among the network topologies (structures) you test in this assignment, there should be at least one network with the ability to take the sequence of words into consideration. A useful exercise is to compare processing requirements and predictive accuracy of dense versus recurrent neural networks with long short-term memory.\n",
        "\n",
        "---\n",
        "\n"
      ]
    },
    {
      "cell_type": "markdown",
      "metadata": {
        "id": "ODBgiaZMhup3",
        "colab_type": "text"
      },
      "source": [
        "### Section 1: Ingest"
      ]
    },
    {
      "cell_type": "markdown",
      "metadata": {
        "id": "9x_4iOfYZ5Zq",
        "colab_type": "text"
      },
      "source": [
        "The initial Reuters corpus has 10,788 documents from the Reuters financial newswire service, partitioned into a training set with 7769 documents and a test set with 3019 documents. The total size of the initial corpus is about 43 MB. The Reuters corpus may be used for various language tasks. A common task is text classification.\n",
        "\n",
        "---\n"
      ]
    },
    {
      "cell_type": "markdown",
      "metadata": {
        "id": "a7gQpBJChxxv",
        "colab_type": "text"
      },
      "source": [
        "For this assignment we will develop a DNN, CNN, and RNN to predict the categories for news articles."
      ]
    },
    {
      "cell_type": "markdown",
      "metadata": {
        "id": "YtBt4wvQFtgs",
        "colab_type": "text"
      },
      "source": [
        "Check for GPU"
      ]
    },
    {
      "cell_type": "code",
      "metadata": {
        "id": "T5qZnho4Z-3k",
        "colab_type": "code",
        "outputId": "d07e8e1d-d08a-4304-dcd3-fcbc28494eb7",
        "colab": {
          "base_uri": "https://localhost:8080/",
          "height": 34
        }
      },
      "source": [
        "import tensorflow as tf\n",
        "tf.test.gpu_device_name()"
      ],
      "execution_count": 0,
      "outputs": [
        {
          "output_type": "execute_result",
          "data": {
            "text/plain": [
              "'/device:GPU:0'"
            ]
          },
          "metadata": {
            "tags": []
          },
          "execution_count": 30
        }
      ]
    },
    {
      "cell_type": "code",
      "metadata": {
        "id": "KLIbF2vcRVQ0",
        "colab_type": "code",
        "outputId": "cb67c8ca-3911-4839-da94-2f7eca38699e",
        "colab": {
          "base_uri": "https://localhost:8080/",
          "height": 34
        }
      },
      "source": [
        "#!/usr/bin/env python3 \n",
        "!pip install -q keras   # This only required for Google's Colab\n",
        "import keras\n",
        "keras.__version__"
      ],
      "execution_count": 0,
      "outputs": [
        {
          "output_type": "execute_result",
          "data": {
            "text/plain": [
              "'2.2.4'"
            ]
          },
          "metadata": {
            "tags": []
          },
          "execution_count": 31
        }
      ]
    },
    {
      "cell_type": "code",
      "metadata": {
        "id": "GJ7y_u0AUbyA",
        "colab_type": "code",
        "outputId": "635b7f5a-472b-482f-cc6f-984454f76f88",
        "colab": {
          "base_uri": "https://localhost:8080/",
          "height": 34
        }
      },
      "source": [
        "!pip install numpy==1.16.1 #install old version of np\n",
        "import numpy as np"
      ],
      "execution_count": 0,
      "outputs": [
        {
          "output_type": "stream",
          "text": [
            "Requirement already satisfied: numpy==1.16.1 in /usr/local/lib/python3.6/dist-packages (1.16.1)\n"
          ],
          "name": "stdout"
        }
      ]
    },
    {
      "cell_type": "markdown",
      "metadata": {
        "id": "2QTeKxhOFwzx",
        "colab_type": "text"
      },
      "source": [
        "Import packages"
      ]
    },
    {
      "cell_type": "code",
      "metadata": {
        "id": "wkgOE0M7lEpW",
        "colab_type": "code",
        "colab": {}
      },
      "source": [
        "from keras.models import Sequential\n",
        "from keras.layers.core import Dense, Dropout, Activation, Flatten\n",
        "from keras.optimizers import SGD, RMSprop\n",
        "from keras.utils import np_utils\n",
        "from keras.layers.convolutional import Convolution1D, MaxPooling1D, ZeroPadding1D, AveragePooling1D\n",
        "from keras.callbacks import EarlyStopping\n",
        "from keras.layers.normalization import BatchNormalization\n",
        "from keras.preprocessing import sequence\n",
        "from keras.layers.embeddings import Embedding\n",
        "from keras.layers import SimpleRNN, LSTM\n",
        "from keras.datasets import reuters\n",
        "\n",
        "from sklearn.metrics import confusion_matrix, accuracy_score, auc\n",
        "\n",
        "import pandas as pd\n",
        "import seaborn as sns\n",
        "import time as time\n",
        "import matplotlib.pyplot as plt"
      ],
      "execution_count": 0,
      "outputs": []
    },
    {
      "cell_type": "markdown",
      "metadata": {
        "id": "tsRhCuUcG0ay",
        "colab_type": "text"
      },
      "source": [
        "**Reuters Dataset**"
      ]
    },
    {
      "cell_type": "code",
      "metadata": {
        "id": "-x_3wyUno-pM",
        "colab_type": "code",
        "colab": {}
      },
      "source": [
        "#loaded data\n",
        "(x_train, y_train), (x_test, y_test) = reuters.load_data(num_words = 10000)"
      ],
      "execution_count": 0,
      "outputs": []
    },
    {
      "cell_type": "markdown",
      "metadata": {
        "id": "wXA8fwkLqIt8",
        "colab_type": "text"
      },
      "source": [
        "Gather data from Reuter's, load Train/Test split of the dataset in preparation for modeling."
      ]
    },
    {
      "cell_type": "code",
      "metadata": {
        "id": "ncbXnpPmEAlm",
        "colab_type": "code",
        "colab": {}
      },
      "source": [
        "#word index if desired to understand what each number represents\n",
        "word_index = reuters.get_word_index(path=\"reuters_word_index.json\")"
      ],
      "execution_count": 0,
      "outputs": []
    },
    {
      "cell_type": "markdown",
      "metadata": {
        "colab_type": "text",
        "id": "FXvdz2vJhy2g"
      },
      "source": [
        "### Section 2: EDA"
      ]
    },
    {
      "cell_type": "markdown",
      "metadata": {
        "id": "sFMK56bOruS0",
        "colab_type": "text"
      },
      "source": [
        "**Explore Reuters data**"
      ]
    },
    {
      "cell_type": "code",
      "metadata": {
        "id": "-tB84dqy5EYe",
        "colab_type": "code",
        "outputId": "f38eb24f-648f-44d0-d954-354c4ff992e6",
        "colab": {
          "base_uri": "https://localhost:8080/",
          "height": 34
        }
      },
      "source": [
        "#How many training examples?\n",
        "len(x_train)"
      ],
      "execution_count": 0,
      "outputs": [
        {
          "output_type": "execute_result",
          "data": {
            "text/plain": [
              "8982"
            ]
          },
          "metadata": {
            "tags": []
          },
          "execution_count": 36
        }
      ]
    },
    {
      "cell_type": "code",
      "metadata": {
        "id": "n03nJnxn5i63",
        "colab_type": "code",
        "outputId": "ed11a4f5-d4cb-4b01-e978-d2a9f0defe64",
        "colab": {
          "base_uri": "https://localhost:8080/",
          "height": 34
        }
      },
      "source": [
        "#How many test examples?\n",
        "len(x_test)"
      ],
      "execution_count": 0,
      "outputs": [
        {
          "output_type": "execute_result",
          "data": {
            "text/plain": [
              "2246"
            ]
          },
          "metadata": {
            "tags": []
          },
          "execution_count": 37
        }
      ]
    },
    {
      "cell_type": "code",
      "metadata": {
        "id": "MEI3KHIYOCfQ",
        "colab_type": "code",
        "outputId": "47e967c2-e3aa-4c20-98fa-aa83dcc7b87c",
        "colab": {
          "base_uri": "https://localhost:8080/",
          "height": 34
        }
      },
      "source": [
        "#How many classes?\n",
        "num_classes = max(y_train) + 1\n",
        "print('# of Classes: {}'.format(num_classes))"
      ],
      "execution_count": 0,
      "outputs": [
        {
          "output_type": "stream",
          "text": [
            "# of Classes: 46\n"
          ],
          "name": "stdout"
        }
      ]
    },
    {
      "cell_type": "code",
      "metadata": {
        "id": "hNAGAbF95r9y",
        "colab_type": "code",
        "outputId": "a3099e02-ac83-419d-f0ce-95c41b6c02cd",
        "colab": {
          "base_uri": "https://localhost:8080/",
          "height": 544
        }
      },
      "source": [
        "#each example is a list of integers (word indices)\n",
        "x_train[10]"
      ],
      "execution_count": 0,
      "outputs": [
        {
          "output_type": "execute_result",
          "data": {
            "text/plain": [
              "[1,\n",
              " 245,\n",
              " 273,\n",
              " 207,\n",
              " 156,\n",
              " 53,\n",
              " 74,\n",
              " 160,\n",
              " 26,\n",
              " 14,\n",
              " 46,\n",
              " 296,\n",
              " 26,\n",
              " 39,\n",
              " 74,\n",
              " 2979,\n",
              " 3554,\n",
              " 14,\n",
              " 46,\n",
              " 4689,\n",
              " 4329,\n",
              " 86,\n",
              " 61,\n",
              " 3499,\n",
              " 4795,\n",
              " 14,\n",
              " 61,\n",
              " 451,\n",
              " 4329,\n",
              " 17,\n",
              " 12]"
            ]
          },
          "metadata": {
            "tags": []
          },
          "execution_count": 39
        }
      ]
    },
    {
      "cell_type": "code",
      "metadata": {
        "id": "ssEM2D7G55ey",
        "colab_type": "code",
        "outputId": "a8eb9802-6efd-4dcc-f941-cd4b267c1d14",
        "colab": {
          "base_uri": "https://localhost:8080/",
          "height": 34
        }
      },
      "source": [
        "#decode it back to words, in case you're curious\n",
        "word_index = reuters.get_word_index()\n",
        "reverse_word_index = dict([(value, key) for (key, value) in word_index.items()])\n",
        "decoded_newswire = ' '.join([reverse_word_index.get(i - 3, '?') for i in x_train[10]])\n",
        "print(decoded_newswire)"
      ],
      "execution_count": 0,
      "outputs": [
        {
          "output_type": "stream",
          "text": [
            "? period ended december 31 shr profit 11 cts vs loss 24 cts net profit 224 271 vs loss 511 349 revs 7 258 688 vs 7 200 349 reuter 3\n"
          ],
          "name": "stdout"
        }
      ]
    },
    {
      "cell_type": "code",
      "metadata": {
        "id": "tE_Ar4M37JG3",
        "colab_type": "code",
        "outputId": "7848e4d1-e99f-4bc0-a4a3-7a1ceb3023d1",
        "colab": {
          "base_uri": "https://localhost:8080/",
          "height": 34
        }
      },
      "source": [
        "#label associated with an example is an integer between 0 and 45 -- a topic index:\n",
        "y_train[10]"
      ],
      "execution_count": 0,
      "outputs": [
        {
          "output_type": "execute_result",
          "data": {
            "text/plain": [
              "3"
            ]
          },
          "metadata": {
            "tags": []
          },
          "execution_count": 41
        }
      ]
    },
    {
      "cell_type": "markdown",
      "metadata": {
        "id": "CdzzNjjiSuQC",
        "colab_type": "text"
      },
      "source": [
        "#### Prepare Data"
      ]
    },
    {
      "cell_type": "code",
      "metadata": {
        "id": "GjbOErSdost3",
        "colab_type": "code",
        "colab": {}
      },
      "source": [
        "#function used to transform the data into indivual documents to be fed into model\n",
        "def vec_seq(seqs, dim = 10000):\n",
        "    results = np.zeros((len(seqs), dim))\n",
        "    for i, seq in enumerate(seqs):\n",
        "        results[i,seq] = 1\n",
        "    return results"
      ],
      "execution_count": 0,
      "outputs": []
    },
    {
      "cell_type": "code",
      "metadata": {
        "id": "LzwyklMTR4rM",
        "colab_type": "code",
        "colab": {}
      },
      "source": [
        "#one hot encoding labels\n",
        "def one_hot(labels, dim = 46):\n",
        "    results = np.zeros((len(labels),dim))\n",
        "    for i, label in enumerate(labels):\n",
        "        results[i,label] = 1\n",
        "    return results"
      ],
      "execution_count": 0,
      "outputs": []
    },
    {
      "cell_type": "code",
      "metadata": {
        "colab_type": "code",
        "id": "0FQxf7dcrY-Q",
        "colab": {}
      },
      "source": [
        "#creating datasets to be used for model\n",
        "x_train_seq = vec_seq(x_train)\n",
        "x_test_seq = vec_seq(x_test)\n",
        "\n",
        "y_train_one_hot = one_hot(y_train)\n",
        "y_test_one_hot = one_hot(y_test)"
      ],
      "execution_count": 0,
      "outputs": []
    },
    {
      "cell_type": "code",
      "metadata": {
        "id": "zB2Tfiko-3LE",
        "colab_type": "code",
        "colab": {}
      },
      "source": [
        "max_features = 10000  # number of words to consider as features\n",
        "batch_size = 64"
      ],
      "execution_count": 0,
      "outputs": []
    },
    {
      "cell_type": "markdown",
      "metadata": {
        "colab_type": "text",
        "id": "lRgrtJslkAmu"
      },
      "source": [
        "### Section 3: Modeling"
      ]
    },
    {
      "cell_type": "markdown",
      "metadata": {
        "id": "kheV-Q6qm6cz",
        "colab_type": "text"
      },
      "source": [
        "This is a text classification problem using the Reuters document collections introduced in chapter 3 of Chollet (2018) and demonstrated in the tutorial presented by Paul Huynh (under Modules / Technology Resources). Begin by fitting a fully connected (dense) network, evaluating alternative network structures in terms of their classification performance. Then pursue either a one-dimensional convolutional neural network (CNN) or a recurrent neural network (RNN or LSTM) to classify the same documents. Compare the performance of the word-sequence-enhanced model to the fully-connected model. Sequence models are discussed in chapter 6 of Chollet (2018\n",
        "\n",
        "---\n",
        "\n"
      ]
    },
    {
      "cell_type": "markdown",
      "metadata": {
        "colab_type": "text",
        "id": "0FVGLlbHXVcq"
      },
      "source": [
        "#### DNN Model"
      ]
    },
    {
      "cell_type": "markdown",
      "metadata": {
        "colab_type": "text",
        "id": "LF-4uwRMXVcr"
      },
      "source": [
        "DNN Model - 1 hidden layer with a fully connected dense neural network, 20 epochs"
      ]
    },
    {
      "cell_type": "code",
      "metadata": {
        "colab_type": "code",
        "id": "milwg9voXVcs",
        "colab": {}
      },
      "source": [
        "#function to create model\n",
        "def model():\n",
        "    model = Sequential()\n",
        "    model.add(Dense(100, input_dim = 10000, activation = 'relu'))\n",
        "    model.add(Dense(50, activation = 'relu'))\n",
        "    model.add(Dense(46, activation ='softmax'))\n",
        "    model.compile(optimizer = 'adam', loss = 'categorical_crossentropy', metrics = ['accuracy'])\n",
        "    return model"
      ],
      "execution_count": 0,
      "outputs": []
    },
    {
      "cell_type": "code",
      "metadata": {
        "colab_type": "code",
        "id": "xnD1wa-nXVcx",
        "outputId": "cb4bb678-2dea-44aa-83d6-91bef18c6d63",
        "colab": {
          "base_uri": "https://localhost:8080/",
          "height": 748
        }
      },
      "source": [
        "# Train the model\n",
        "%%time\n",
        "model = model()\n",
        "history = model.fit(x_train_seq, y_train_one_hot, epochs = 20, batch_size = batch_size, verbose = True, validation_data=(x_test_seq, y_test_one_hot))"
      ],
      "execution_count": 0,
      "outputs": [
        {
          "output_type": "stream",
          "text": [
            "Train on 8982 samples, validate on 2246 samples\n",
            "Epoch 1/20\n",
            "8982/8982 [==============================] - 2s 174us/step - loss: 1.7119 - acc: 0.6426 - val_loss: 1.1481 - val_acc: 0.7382\n",
            "Epoch 2/20\n",
            "8982/8982 [==============================] - 1s 132us/step - loss: 0.7371 - acc: 0.8367 - val_loss: 0.9189 - val_acc: 0.7912\n",
            "Epoch 3/20\n",
            "8982/8982 [==============================] - 1s 132us/step - loss: 0.3980 - acc: 0.9134 - val_loss: 0.9164 - val_acc: 0.7939\n",
            "Epoch 4/20\n",
            "8982/8982 [==============================] - 1s 131us/step - loss: 0.2577 - acc: 0.9421 - val_loss: 0.9158 - val_acc: 0.8068\n",
            "Epoch 5/20\n",
            "8982/8982 [==============================] - 1s 133us/step - loss: 0.2038 - acc: 0.9492 - val_loss: 0.9586 - val_acc: 0.7974\n",
            "Epoch 6/20\n",
            "8982/8982 [==============================] - 1s 131us/step - loss: 0.1786 - acc: 0.9508 - val_loss: 1.0012 - val_acc: 0.7930\n",
            "Epoch 7/20\n",
            "8982/8982 [==============================] - 1s 132us/step - loss: 0.1575 - acc: 0.9525 - val_loss: 1.0052 - val_acc: 0.7965\n",
            "Epoch 8/20\n",
            "8982/8982 [==============================] - 1s 135us/step - loss: 0.1527 - acc: 0.9513 - val_loss: 1.0278 - val_acc: 0.7992\n",
            "Epoch 9/20\n",
            "8982/8982 [==============================] - 1s 132us/step - loss: 0.1377 - acc: 0.9538 - val_loss: 1.0340 - val_acc: 0.8001\n",
            "Epoch 10/20\n",
            "8982/8982 [==============================] - 1s 133us/step - loss: 0.1319 - acc: 0.9532 - val_loss: 1.1263 - val_acc: 0.7876\n",
            "Epoch 11/20\n",
            "8982/8982 [==============================] - 1s 131us/step - loss: 0.1255 - acc: 0.9528 - val_loss: 1.0993 - val_acc: 0.7925\n",
            "Epoch 12/20\n",
            "8982/8982 [==============================] - 1s 138us/step - loss: 0.1229 - acc: 0.9539 - val_loss: 1.0996 - val_acc: 0.7947\n",
            "Epoch 13/20\n",
            "8982/8982 [==============================] - 1s 132us/step - loss: 0.1186 - acc: 0.9523 - val_loss: 1.0821 - val_acc: 0.7961\n",
            "Epoch 14/20\n",
            "8982/8982 [==============================] - 1s 131us/step - loss: 0.1176 - acc: 0.9529 - val_loss: 1.1065 - val_acc: 0.7898\n",
            "Epoch 15/20\n",
            "8982/8982 [==============================] - 1s 133us/step - loss: 0.1078 - acc: 0.9554 - val_loss: 1.1198 - val_acc: 0.7952\n",
            "Epoch 16/20\n",
            "8982/8982 [==============================] - 1s 133us/step - loss: 0.1056 - acc: 0.9552 - val_loss: 1.1125 - val_acc: 0.7939\n",
            "Epoch 17/20\n",
            "8982/8982 [==============================] - 1s 133us/step - loss: 0.1013 - acc: 0.9568 - val_loss: 1.1685 - val_acc: 0.7894\n",
            "Epoch 18/20\n",
            "8982/8982 [==============================] - 1s 132us/step - loss: 0.1040 - acc: 0.9545 - val_loss: 1.1479 - val_acc: 0.7939\n",
            "Epoch 19/20\n",
            "8982/8982 [==============================] - 1s 131us/step - loss: 0.1017 - acc: 0.9538 - val_loss: 1.1335 - val_acc: 0.7965\n",
            "Epoch 20/20\n",
            "8982/8982 [==============================] - 1s 134us/step - loss: 0.0982 - acc: 0.9557 - val_loss: 1.1682 - val_acc: 0.7890\n",
            "CPU times: user 23.5 s, sys: 5.32 s, total: 28.8 s\n",
            "Wall time: 24.8 s\n"
          ],
          "name": "stdout"
        }
      ]
    },
    {
      "cell_type": "code",
      "metadata": {
        "colab_type": "code",
        "outputId": "de863ccf-139a-4610-b662-ada6003284a6",
        "id": "vnkGCuEQXVcu",
        "colab": {
          "base_uri": "https://localhost:8080/",
          "height": 255
        }
      },
      "source": [
        "# Print a summary of the model\n",
        "print(model.summary())"
      ],
      "execution_count": 0,
      "outputs": [
        {
          "output_type": "stream",
          "text": [
            "_________________________________________________________________\n",
            "Layer (type)                 Output Shape              Param #   \n",
            "=================================================================\n",
            "dense_6 (Dense)              (None, 100)               1000100   \n",
            "_________________________________________________________________\n",
            "dense_7 (Dense)              (None, 50)                5050      \n",
            "_________________________________________________________________\n",
            "dense_8 (Dense)              (None, 46)                2346      \n",
            "=================================================================\n",
            "Total params: 1,007,496\n",
            "Trainable params: 1,007,496\n",
            "Non-trainable params: 0\n",
            "_________________________________________________________________\n",
            "None\n"
          ],
          "name": "stdout"
        }
      ]
    },
    {
      "cell_type": "code",
      "metadata": {
        "colab_type": "code",
        "outputId": "083c8b45-48d8-4aef-bcc2-0d320d975964",
        "id": "ZyhMCx2xu3Jv",
        "colab": {
          "base_uri": "https://localhost:8080/",
          "height": 295
        }
      },
      "source": [
        "# Plotting the training and validation loss\n",
        "loss = history.history['loss']\n",
        "val_loss = history.history['val_loss']\n",
        "\n",
        "epochs = range(1, len(loss) + 1)\n",
        "\n",
        "plt.plot(epochs, loss, 'go', label='Training loss')\n",
        "plt.plot(epochs, val_loss, 'b', label='Validation loss')\n",
        "plt.title('Training and validation loss')\n",
        "plt.xlabel('Epochs')\n",
        "plt.ylabel('Loss')\n",
        "plt.legend()\n",
        "\n",
        "plt.show()"
      ],
      "execution_count": 0,
      "outputs": [
        {
          "output_type": "display_data",
          "data": {
            "image/png": "[encoded data removed]",
            "text/plain": [
              "<Figure size 432x288 with 1 Axes>"
            ]
          },
          "metadata": {
            "tags": []
          }
        }
      ]
    },
    {
      "cell_type": "code",
      "metadata": {
        "colab_type": "code",
        "outputId": "7507b354-7b6c-43a1-faa6-f4a71a9a879e",
        "id": "vczuIWfmu3Rx",
        "colab": {
          "base_uri": "https://localhost:8080/",
          "height": 295
        }
      },
      "source": [
        "# Plotting the training and validation accuracy\n",
        "plt.clf()   # clear figure\n",
        "\n",
        "acc = history.history['acc']\n",
        "val_acc = history.history['val_acc']\n",
        "\n",
        "plt.plot(epochs, acc, 'go', label='Training acc')\n",
        "plt.plot(epochs, val_acc, 'b', label='Validation acc')\n",
        "plt.title('Training and validation accuracy')\n",
        "plt.xlabel('Epochs')\n",
        "plt.ylabel('Loss')\n",
        "plt.legend()\n",
        "\n",
        "plt.show()"
      ],
      "execution_count": 0,
      "outputs": [
        {
          "output_type": "display_data",
          "data": {
            "image/png": "[encoded data removed]",
            "text/plain": [
              "<Figure size 432x288 with 1 Axes>"
            ]
          },
          "metadata": {
            "tags": []
          }
        }
      ]
    },
    {
      "cell_type": "code",
      "metadata": {
        "id": "yUeWX3AFVr09",
        "colab_type": "code",
        "colab": {}
      },
      "source": [
        "#predictions\n",
        "pred = model.predict_classes(x_test_seq)"
      ],
      "execution_count": 0,
      "outputs": []
    },
    {
      "cell_type": "code",
      "metadata": {
        "id": "J6yp34ebrt6a",
        "colab_type": "code",
        "outputId": "656729df-e6f3-416a-b617-e42a2aec1e42",
        "colab": {
          "base_uri": "https://localhost:8080/",
          "height": 34
        }
      },
      "source": [
        "#accuracy\n",
        "accuracy_score(y_test,pred)"
      ],
      "execution_count": 0,
      "outputs": [
        {
          "output_type": "execute_result",
          "data": {
            "text/plain": [
              "0.7889581478183437"
            ]
          },
          "metadata": {
            "tags": []
          },
          "execution_count": 52
        }
      ]
    },
    {
      "cell_type": "code",
      "metadata": {
        "id": "m5GISvxcV-Cl",
        "colab_type": "code",
        "colab": {}
      },
      "source": [
        "#create confusion matrix\n",
        "matrix = pd.DataFrame(confusion_matrix(y_test,pred, labels = [x for x in range(0,46)]))"
      ],
      "execution_count": 0,
      "outputs": []
    },
    {
      "cell_type": "code",
      "metadata": {
        "id": "szYodfxLQ8yp",
        "colab_type": "code",
        "outputId": "3201d73b-85cf-43dd-89e6-9bfcd1634fe7",
        "colab": {
          "base_uri": "https://localhost:8080/",
          "height": 449
        }
      },
      "source": [
        "#visualize confusion matrix\n",
        "plt.figure(figsize = (10,7))\n",
        "\n",
        "sns.heatmap(matrix, annot=True)"
      ],
      "execution_count": 0,
      "outputs": [
        {
          "output_type": "execute_result",
          "data": {
            "text/plain": [
              "<matplotlib.axes._subplots.AxesSubplot at 0x7f39693ab898>"
            ]
          },
          "metadata": {
            "tags": []
          },
          "execution_count": 54
        },
        {
          "output_type": "display_data",
          "data": {
            "image/png": "[encoded data removed]",
            "text/plain": [
              "<Figure size 720x504 with 2 Axes>"
            ]
          },
          "metadata": {
            "tags": []
          }
        }
      ]
    },
    {
      "cell_type": "markdown",
      "metadata": {
        "id": "oSoAABlnV2en",
        "colab_type": "text"
      },
      "source": [
        "#### Conv1D Model"
      ]
    },
    {
      "cell_type": "markdown",
      "metadata": {
        "id": "5MMeVlO7WcNU",
        "colab_type": "text"
      },
      "source": [
        "We can use 1-dimensional convolutions to learn local associations between words, rather than having to rely on global associations."
      ]
    },
    {
      "cell_type": "code",
      "metadata": {
        "id": "Elz2fzLVjND2",
        "colab_type": "code",
        "colab": {}
      },
      "source": [
        "#prep data for Conv1D model\n",
        "X_train = sequence.pad_sequences(x_train, maxlen=100)\n",
        "X_test = sequence.pad_sequences(x_test, maxlen=100)\n",
        "Y_train = np_utils.to_categorical(y_train, 46)\n",
        "Y_test = np_utils.to_categorical(y_test, 46)"
      ],
      "execution_count": 0,
      "outputs": []
    },
    {
      "cell_type": "code",
      "metadata": {
        "id": "ivJiDZLmWbJl",
        "colab_type": "code",
        "outputId": "50888dfa-0f33-4320-8c83-4a8eb2b0e276",
        "colab": {
          "base_uri": "https://localhost:8080/",
          "height": 105
        }
      },
      "source": [
        "model = Sequential()\n",
        "\n",
        "# embedding\n",
        "model.add(Embedding(500, 32, input_length=100))\n",
        "model.add(Dropout(0.25))\n",
        "\n",
        "# convolution layers\n",
        "model.add(Convolution1D(nb_filter=32,\n",
        "                        filter_length=4,\n",
        "                        border_mode='valid',\n",
        "                        activation='relu'))\n",
        "model.add(MaxPooling1D(pool_length=2))\n",
        "\n",
        "# dense layers\n",
        "model.add(Flatten())\n",
        "model.add(Dense(256))\n",
        "model.add(Dropout(0.25))\n",
        "model.add(Activation('relu'))\n",
        "\n",
        "# output layer\n",
        "model.add(Dense(46))\n",
        "model.add(Activation('sigmoid'))\n",
        "\n",
        "model.compile(loss='binary_crossentropy', optimizer='rmsprop', metrics=['accuracy'])"
      ],
      "execution_count": 0,
      "outputs": [
        {
          "output_type": "stream",
          "text": [
            "/usr/local/lib/python3.6/dist-packages/ipykernel_launcher.py:11: UserWarning: Update your `Conv1D` call to the Keras 2 API: `Conv1D(activation=\"relu\", filters=32, kernel_size=4, padding=\"valid\")`\n",
            "  # This is added back by InteractiveShellApp.init_path()\n",
            "/usr/local/lib/python3.6/dist-packages/ipykernel_launcher.py:12: UserWarning: Update your `MaxPooling1D` call to the Keras 2 API: `MaxPooling1D(pool_size=2)`\n",
            "  if sys.path[0] == '':\n"
          ],
          "name": "stderr"
        }
      ]
    },
    {
      "cell_type": "code",
      "metadata": {
        "id": "JjOm6r8Z8-Ka",
        "colab_type": "code",
        "outputId": "d201f0de-5574-4cb0-989b-69cf67beb548",
        "colab": {
          "base_uri": "https://localhost:8080/",
          "height": 802
        }
      },
      "source": [
        "%%time\n",
        "history = model.fit(X_train, Y_train, batch_size=batch_size, nb_epoch=20, verbose=True, validation_data=(X_test, Y_test))"
      ],
      "execution_count": 0,
      "outputs": [
        {
          "output_type": "stream",
          "text": [
            "/usr/local/lib/python3.6/dist-packages/ipykernel_launcher.py:1: UserWarning: The `nb_epoch` argument in `fit` has been renamed `epochs`.\n",
            "  \"\"\"Entry point for launching an IPython kernel.\n"
          ],
          "name": "stderr"
        },
        {
          "output_type": "stream",
          "text": [
            "Train on 8982 samples, validate on 2246 samples\n",
            "Epoch 1/20\n",
            "8982/8982 [==============================] - 1s 140us/step - loss: 0.0818 - acc: 0.9776 - val_loss: 0.0558 - val_acc: 0.9864\n",
            "Epoch 2/20\n",
            "8982/8982 [==============================] - 1s 80us/step - loss: 0.0517 - acc: 0.9870 - val_loss: 0.0502 - val_acc: 0.9875\n",
            "Epoch 3/20\n",
            "8982/8982 [==============================] - 1s 80us/step - loss: 0.0476 - acc: 0.9878 - val_loss: 0.0478 - val_acc: 0.9879\n",
            "Epoch 4/20\n",
            "8982/8982 [==============================] - 1s 82us/step - loss: 0.0434 - acc: 0.9884 - val_loss: 0.0441 - val_acc: 0.9882\n",
            "Epoch 5/20\n",
            "8982/8982 [==============================] - 1s 81us/step - loss: 0.0392 - acc: 0.9893 - val_loss: 0.0423 - val_acc: 0.9885\n",
            "Epoch 6/20\n",
            "8982/8982 [==============================] - 1s 82us/step - loss: 0.0588 - acc: 0.9873 - val_loss: 0.0442 - val_acc: 0.9881\n",
            "Epoch 7/20\n",
            "8982/8982 [==============================] - 1s 79us/step - loss: 0.0380 - acc: 0.9895 - val_loss: 0.0424 - val_acc: 0.9887\n",
            "Epoch 8/20\n",
            "8982/8982 [==============================] - 1s 71us/step - loss: 0.0903 - acc: 0.9854 - val_loss: 0.0571 - val_acc: 0.9863\n",
            "Epoch 9/20\n",
            "8982/8982 [==============================] - 1s 68us/step - loss: 0.0502 - acc: 0.9869 - val_loss: 0.0488 - val_acc: 0.9883\n",
            "Epoch 10/20\n",
            "8982/8982 [==============================] - 1s 69us/step - loss: 0.0417 - acc: 0.9888 - val_loss: 0.0458 - val_acc: 0.9885\n",
            "Epoch 11/20\n",
            "8982/8982 [==============================] - 1s 70us/step - loss: 0.0381 - acc: 0.9895 - val_loss: 0.0444 - val_acc: 0.9886\n",
            "Epoch 12/20\n",
            "8982/8982 [==============================] - 1s 68us/step - loss: 0.0363 - acc: 0.9898 - val_loss: 0.0447 - val_acc: 0.9885\n",
            "Epoch 13/20\n",
            "8982/8982 [==============================] - 1s 69us/step - loss: 0.0337 - acc: 0.9903 - val_loss: 0.0447 - val_acc: 0.9886\n",
            "Epoch 14/20\n",
            "8982/8982 [==============================] - 1s 70us/step - loss: 0.0326 - acc: 0.9906 - val_loss: 0.0453 - val_acc: 0.9884\n",
            "Epoch 15/20\n",
            "8982/8982 [==============================] - 1s 71us/step - loss: 0.0301 - acc: 0.9910 - val_loss: 0.0460 - val_acc: 0.9884\n",
            "Epoch 16/20\n",
            "8982/8982 [==============================] - 1s 69us/step - loss: 0.0307 - acc: 0.9912 - val_loss: 0.0520 - val_acc: 0.9876\n",
            "Epoch 17/20\n",
            "8982/8982 [==============================] - 1s 67us/step - loss: 0.0314 - acc: 0.9909 - val_loss: 0.0487 - val_acc: 0.9882\n",
            "Epoch 18/20\n",
            "8982/8982 [==============================] - 1s 69us/step - loss: 0.0301 - acc: 0.9909 - val_loss: 0.0478 - val_acc: 0.9881\n",
            "Epoch 19/20\n",
            "8982/8982 [==============================] - 1s 70us/step - loss: 0.0277 - acc: 0.9916 - val_loss: 0.0481 - val_acc: 0.9881\n",
            "Epoch 20/20\n",
            "8982/8982 [==============================] - 1s 68us/step - loss: 0.0263 - acc: 0.9919 - val_loss: 0.0509 - val_acc: 0.9882\n",
            "CPU times: user 17.3 s, sys: 1.6 s, total: 18.9 s\n",
            "Wall time: 14.1 s\n"
          ],
          "name": "stdout"
        }
      ]
    },
    {
      "cell_type": "code",
      "metadata": {
        "id": "B32xz9j9vDrQ",
        "colab_type": "code",
        "outputId": "f20bc02a-b8a6-4483-d16f-83a41918ee84",
        "colab": {
          "base_uri": "https://localhost:8080/",
          "height": 493
        }
      },
      "source": [
        "# Print a summary of the model\n",
        "print(model.summary())"
      ],
      "execution_count": 0,
      "outputs": [
        {
          "output_type": "stream",
          "text": [
            "_________________________________________________________________\n",
            "Layer (type)                 Output Shape              Param #   \n",
            "=================================================================\n",
            "embedding_2 (Embedding)      (None, 100, 32)           16000     \n",
            "_________________________________________________________________\n",
            "dropout_3 (Dropout)          (None, 100, 32)           0         \n",
            "_________________________________________________________________\n",
            "conv1d_2 (Conv1D)            (None, 97, 32)            4128      \n",
            "_________________________________________________________________\n",
            "max_pooling1d_2 (MaxPooling1 (None, 48, 32)            0         \n",
            "_________________________________________________________________\n",
            "flatten_2 (Flatten)          (None, 1536)              0         \n",
            "_________________________________________________________________\n",
            "dense_9 (Dense)              (None, 256)               393472    \n",
            "_________________________________________________________________\n",
            "dropout_4 (Dropout)          (None, 256)               0         \n",
            "_________________________________________________________________\n",
            "activation_3 (Activation)    (None, 256)               0         \n",
            "_________________________________________________________________\n",
            "dense_10 (Dense)             (None, 46)                11822     \n",
            "_________________________________________________________________\n",
            "activation_4 (Activation)    (None, 46)                0         \n",
            "=================================================================\n",
            "Total params: 425,422\n",
            "Trainable params: 425,422\n",
            "Non-trainable params: 0\n",
            "_________________________________________________________________\n",
            "None\n"
          ],
          "name": "stdout"
        }
      ]
    },
    {
      "cell_type": "code",
      "metadata": {
        "colab_type": "code",
        "outputId": "c7959dd5-122e-446f-bab8-2db59c19cf1e",
        "id": "adJRZqC_XVdG",
        "colab": {
          "base_uri": "https://localhost:8080/",
          "height": 295
        }
      },
      "source": [
        "# Plotting the training and validation loss\n",
        "loss = history.history['loss']\n",
        "val_loss = history.history['val_loss']\n",
        "\n",
        "epochs = range(1, len(loss) + 1)\n",
        "\n",
        "plt.plot(epochs, loss, 'go', label='Training loss')\n",
        "plt.plot(epochs, val_loss, 'b', label='Validation loss')\n",
        "plt.title('Training and validation loss')\n",
        "plt.xlabel('Epochs')\n",
        "plt.ylabel('Loss')\n",
        "plt.legend()\n",
        "\n",
        "plt.show()"
      ],
      "execution_count": 0,
      "outputs": [
        {
          "output_type": "display_data",
          "data": {
            "image/png": "[encoded data removed]",
            "text/plain": [
              "<Figure size 432x288 with 1 Axes>"
            ]
          },
          "metadata": {
            "tags": []
          }
        }
      ]
    },
    {
      "cell_type": "code",
      "metadata": {
        "colab_type": "code",
        "outputId": "22e770e4-c9b9-47b5-85c4-b251b4d552e1",
        "id": "6xzf1RYxXVdJ",
        "colab": {
          "base_uri": "https://localhost:8080/",
          "height": 295
        }
      },
      "source": [
        "# Plotting the training and validation accuracy\n",
        "plt.clf()   # clear figure\n",
        "\n",
        "acc = history.history['acc']\n",
        "val_acc = history.history['val_acc']\n",
        "\n",
        "plt.plot(epochs, acc, 'go', label='Training acc')\n",
        "plt.plot(epochs, val_acc, 'b', label='Validation acc')\n",
        "plt.title('Training and validation accuracy')\n",
        "plt.xlabel('Epochs')\n",
        "plt.ylabel('Loss')\n",
        "plt.legend()\n",
        "\n",
        "plt.show()"
      ],
      "execution_count": 0,
      "outputs": [
        {
          "output_type": "display_data",
          "data": {
            "image/png": "[encoded data removed]",
            "text/plain": [
              "<Figure size 432x288 with 1 Axes>"
            ]
          },
          "metadata": {
            "tags": []
          }
        }
      ]
    },
    {
      "cell_type": "markdown",
      "metadata": {
        "id": "o29DehXQ7BA1",
        "colab_type": "text"
      },
      "source": [
        "#### RNN Model"
      ]
    },
    {
      "cell_type": "code",
      "metadata": {
        "id": "85zskX9A6x-e",
        "colab_type": "code",
        "colab": {}
      },
      "source": [
        "model = Sequential()\n",
        "model.add(Embedding(max_features, 64))\n",
        "model.add(SimpleRNN(64, return_sequences=True))\n",
        "model.add(SimpleRNN(64, return_sequences=True))\n",
        "model.add(SimpleRNN(64, return_sequences=True))\n",
        "model.add(SimpleRNN(64))\n",
        "model.add(Dense(46, activation='softmax'))\n",
        "\n",
        "model.compile(optimizer='rmsprop', loss='categorical_crossentropy', metrics=['accuracy'])"
      ],
      "execution_count": 0,
      "outputs": []
    },
    {
      "cell_type": "code",
      "metadata": {
        "id": "rDTiLVRU61Ci",
        "colab_type": "code",
        "outputId": "8ca267e2-fcb3-4865-efb1-58ba3fbefdc1",
        "colab": {
          "base_uri": "https://localhost:8080/",
          "height": 748
        }
      },
      "source": [
        "%%time\n",
        "history = model.fit(X_train, Y_train,\n",
        "                    epochs=20,\n",
        "                    verbose=True,\n",
        "                    batch_size=batch_size,\n",
        "                   validation_data=(X_test, Y_test))"
      ],
      "execution_count": 0,
      "outputs": [
        {
          "output_type": "stream",
          "text": [
            "Train on 8982 samples, validate on 2246 samples\n",
            "Epoch 1/20\n",
            "8982/8982 [==============================] - 19s 2ms/step - loss: 2.3892 - acc: 0.3734 - val_loss: 2.1760 - val_acc: 0.4510\n",
            "Epoch 2/20\n",
            "8982/8982 [==============================] - 17s 2ms/step - loss: 1.9636 - acc: 0.5011 - val_loss: 2.0896 - val_acc: 0.4577\n",
            "Epoch 3/20\n",
            "8982/8982 [==============================] - 17s 2ms/step - loss: 1.5119 - acc: 0.6182 - val_loss: 2.1066 - val_acc: 0.4648\n",
            "Epoch 4/20\n",
            "8982/8982 [==============================] - 17s 2ms/step - loss: 1.0954 - acc: 0.7258 - val_loss: 2.1341 - val_acc: 0.5236\n",
            "Epoch 5/20\n",
            "8982/8982 [==============================] - 19s 2ms/step - loss: 0.8024 - acc: 0.8033 - val_loss: 2.3670 - val_acc: 0.4777\n",
            "Epoch 6/20\n",
            "8982/8982 [==============================] - 18s 2ms/step - loss: 0.5972 - acc: 0.8602 - val_loss: 2.5891 - val_acc: 0.4381\n",
            "Epoch 7/20\n",
            "8982/8982 [==============================] - 18s 2ms/step - loss: 0.4552 - acc: 0.8937 - val_loss: 2.5168 - val_acc: 0.4849\n",
            "Epoch 8/20\n",
            "8982/8982 [==============================] - 18s 2ms/step - loss: 0.3554 - acc: 0.9194 - val_loss: 2.7135 - val_acc: 0.4386\n",
            "Epoch 9/20\n",
            "8982/8982 [==============================] - 18s 2ms/step - loss: 0.2912 - acc: 0.9345 - val_loss: 2.6864 - val_acc: 0.4671\n",
            "Epoch 10/20\n",
            "8982/8982 [==============================] - 19s 2ms/step - loss: 0.2439 - acc: 0.9399 - val_loss: 2.8209 - val_acc: 0.4524\n",
            "Epoch 11/20\n",
            "8982/8982 [==============================] - 18s 2ms/step - loss: 0.2116 - acc: 0.9462 - val_loss: 2.9112 - val_acc: 0.4359\n",
            "Epoch 12/20\n",
            "8982/8982 [==============================] - 18s 2ms/step - loss: 0.1921 - acc: 0.9480 - val_loss: 2.7946 - val_acc: 0.4697\n",
            "Epoch 13/20\n",
            "8982/8982 [==============================] - 18s 2ms/step - loss: 0.1709 - acc: 0.9517 - val_loss: 2.8383 - val_acc: 0.4862\n",
            "Epoch 14/20\n",
            "8982/8982 [==============================] - 18s 2ms/step - loss: 0.1602 - acc: 0.9518 - val_loss: 2.8089 - val_acc: 0.4849\n",
            "Epoch 15/20\n",
            "8982/8982 [==============================] - 18s 2ms/step - loss: 0.1476 - acc: 0.9535 - val_loss: 2.8300 - val_acc: 0.4880\n",
            "Epoch 16/20\n",
            "8982/8982 [==============================] - 18s 2ms/step - loss: 0.1417 - acc: 0.9549 - val_loss: 2.8405 - val_acc: 0.5067\n",
            "Epoch 17/20\n",
            "8982/8982 [==============================] - 19s 2ms/step - loss: 0.1324 - acc: 0.9554 - val_loss: 3.2634 - val_acc: 0.4310\n",
            "Epoch 18/20\n",
            "8982/8982 [==============================] - 18s 2ms/step - loss: 0.1330 - acc: 0.9542 - val_loss: 3.0733 - val_acc: 0.4394\n",
            "Epoch 19/20\n",
            "8982/8982 [==============================] - 19s 2ms/step - loss: 0.1249 - acc: 0.9534 - val_loss: 3.0617 - val_acc: 0.4666\n",
            "Epoch 20/20\n",
            "8982/8982 [==============================] - 17s 2ms/step - loss: 0.1223 - acc: 0.9536 - val_loss: 3.0040 - val_acc: 0.4639\n",
            "CPU times: user 8min 41s, sys: 27.2 s, total: 9min 8s\n",
            "Wall time: 5min 59s\n"
          ],
          "name": "stdout"
        }
      ]
    },
    {
      "cell_type": "code",
      "metadata": {
        "colab_type": "code",
        "outputId": "3171bf61-e742-41a5-ecf6-25f1b64889db",
        "id": "GgcKKJ7LCiYq",
        "colab": {
          "base_uri": "https://localhost:8080/",
          "height": 357
        }
      },
      "source": [
        "# Print a summary of the model\n",
        "print(model.summary())"
      ],
      "execution_count": 0,
      "outputs": [
        {
          "output_type": "stream",
          "text": [
            "_________________________________________________________________\n",
            "Layer (type)                 Output Shape              Param #   \n",
            "=================================================================\n",
            "embedding_3 (Embedding)      (None, None, 64)          640000    \n",
            "_________________________________________________________________\n",
            "simple_rnn_1 (SimpleRNN)     (None, None, 64)          8256      \n",
            "_________________________________________________________________\n",
            "simple_rnn_2 (SimpleRNN)     (None, None, 64)          8256      \n",
            "_________________________________________________________________\n",
            "simple_rnn_3 (SimpleRNN)     (None, None, 64)          8256      \n",
            "_________________________________________________________________\n",
            "simple_rnn_4 (SimpleRNN)     (None, 64)                8256      \n",
            "_________________________________________________________________\n",
            "dense_11 (Dense)             (None, 46)                2990      \n",
            "=================================================================\n",
            "Total params: 676,014\n",
            "Trainable params: 676,014\n",
            "Non-trainable params: 0\n",
            "_________________________________________________________________\n",
            "None\n"
          ],
          "name": "stdout"
        }
      ]
    },
    {
      "cell_type": "code",
      "metadata": {
        "colab_type": "code",
        "outputId": "05f95ebc-fd39-489d-97a1-84f9be016909",
        "id": "fSZ_KVJNCiZD",
        "colab": {
          "base_uri": "https://localhost:8080/",
          "height": 295
        }
      },
      "source": [
        "# Plotting the training and validation loss\n",
        "loss = history.history['loss']\n",
        "val_loss = history.history['val_loss']\n",
        "\n",
        "epochs = range(1, len(loss) + 1)\n",
        "\n",
        "plt.plot(epochs, loss, 'go', label='Training loss')\n",
        "plt.plot(epochs, val_loss, 'b', label='Validation loss')\n",
        "plt.title('Training and validation loss')\n",
        "plt.xlabel('Epochs')\n",
        "plt.ylabel('Loss')\n",
        "plt.legend()\n",
        "\n",
        "plt.show()"
      ],
      "execution_count": 0,
      "outputs": [
        {
          "output_type": "display_data",
          "data": {
            "image/png": "[encoded data removed]",
            "text/plain": [
              "<Figure size 432x288 with 1 Axes>"
            ]
          },
          "metadata": {
            "tags": []
          }
        }
      ]
    },
    {
      "cell_type": "code",
      "metadata": {
        "colab_type": "code",
        "outputId": "f38c7570-b7af-4499-eddf-157679df02ea",
        "id": "85d93UjACiZI",
        "colab": {
          "base_uri": "https://localhost:8080/",
          "height": 295
        }
      },
      "source": [
        "# Plotting the training and validation accuracy\n",
        "plt.clf()   # clear figure\n",
        "\n",
        "acc = history.history['acc']\n",
        "val_acc = history.history['val_acc']\n",
        "\n",
        "plt.plot(epochs, acc, 'go', label='Training acc')\n",
        "plt.plot(epochs, val_acc, 'b', label='Validation acc')\n",
        "plt.title('Training and validation accuracy')\n",
        "plt.xlabel('Epochs')\n",
        "plt.ylabel('Loss')\n",
        "plt.legend()\n",
        "\n",
        "plt.show()"
      ],
      "execution_count": 0,
      "outputs": [
        {
          "output_type": "display_data",
          "data": {
            "image/png": "[encoded data removed]",
            "text/plain": [
              "<Figure size 432x288 with 1 Axes>"
            ]
          },
          "metadata": {
            "tags": []
          }
        }
      ]
    },
    {
      "cell_type": "markdown",
      "metadata": {
        "id": "Y5R2B8Bh9MmQ",
        "colab_type": "text"
      },
      "source": [
        "As we can see from the results, the accuracy of training the RNN model exponentially increases and the loss of it exponentially decreases as we have more epochs. The accuracy and loss of validation doesn’t perform very well. It might caused by overfitting."
      ]
    },
    {
      "cell_type": "markdown",
      "metadata": {
        "id": "kf-35Ede_i64",
        "colab_type": "text"
      },
      "source": [
        "#### RNN with LSTM Model"
      ]
    },
    {
      "cell_type": "code",
      "metadata": {
        "id": "EadL3nXP-WT8",
        "colab_type": "code",
        "outputId": "43121dfd-924c-40d0-b35f-5fac05788a6e",
        "colab": {
          "base_uri": "https://localhost:8080/",
          "height": 71
        }
      },
      "source": [
        "model = Sequential()\n",
        "model.add(Embedding(max_features, 64))\n",
        "model.add(LSTM(output_dim=64, activation='sigmoid', recurrent_activation='hard_sigmoid'))\n",
        "model.add(Dropout(0.3))\n",
        "model.add(Dense(46, activation='softmax'))\n",
        "\n",
        "model.compile(optimizer='rmsprop', loss='categorical_crossentropy', metrics=['accuracy'])"
      ],
      "execution_count": 0,
      "outputs": [
        {
          "output_type": "stream",
          "text": [
            "/usr/local/lib/python3.6/dist-packages/ipykernel_launcher.py:3: UserWarning: Update your `LSTM` call to the Keras 2 API: `LSTM(activation=\"sigmoid\", recurrent_activation=\"hard_sigmoid\", units=64)`\n",
            "  This is separate from the ipykernel package so we can avoid doing imports until\n"
          ],
          "name": "stderr"
        }
      ]
    },
    {
      "cell_type": "code",
      "metadata": {
        "id": "97YZ3tG5-Z7_",
        "colab_type": "code",
        "outputId": "9fc7038a-3ce4-4c76-8d22-9cd9948b4141",
        "colab": {
          "base_uri": "https://localhost:8080/",
          "height": 802
        }
      },
      "source": [
        "%%time\n",
        "history = model.fit(X_train, Y_train, batch_size=batch_size, nb_epoch=20, validation_data=(X_test, Y_test))"
      ],
      "execution_count": 0,
      "outputs": [
        {
          "output_type": "stream",
          "text": [
            "/usr/local/lib/python3.6/dist-packages/ipykernel_launcher.py:1: UserWarning: The `nb_epoch` argument in `fit` has been renamed `epochs`.\n",
            "  \"\"\"Entry point for launching an IPython kernel.\n"
          ],
          "name": "stderr"
        },
        {
          "output_type": "stream",
          "text": [
            "Train on 8982 samples, validate on 2246 samples\n",
            "Epoch 1/20\n",
            "8982/8982 [==============================] - 21s 2ms/step - loss: 2.5092 - acc: 0.3409 - val_loss: 2.1120 - val_acc: 0.3673\n",
            "Epoch 2/20\n",
            "8982/8982 [==============================] - 20s 2ms/step - loss: 2.0287 - acc: 0.4388 - val_loss: 1.8664 - val_acc: 0.5027\n",
            "Epoch 3/20\n",
            "8982/8982 [==============================] - 21s 2ms/step - loss: 1.8201 - acc: 0.5120 - val_loss: 1.7584 - val_acc: 0.5419\n",
            "Epoch 4/20\n",
            "8982/8982 [==============================] - 20s 2ms/step - loss: 1.7405 - acc: 0.5487 - val_loss: 1.7696 - val_acc: 0.5312\n",
            "Epoch 5/20\n",
            "8982/8982 [==============================] - 20s 2ms/step - loss: 1.6855 - acc: 0.5620 - val_loss: 1.7478 - val_acc: 0.5499\n",
            "Epoch 6/20\n",
            "8982/8982 [==============================] - 20s 2ms/step - loss: 1.6414 - acc: 0.5714 - val_loss: 1.6630 - val_acc: 0.5721\n",
            "Epoch 7/20\n",
            "8982/8982 [==============================] - 21s 2ms/step - loss: 1.5971 - acc: 0.5794 - val_loss: 1.6483 - val_acc: 0.5752\n",
            "Epoch 8/20\n",
            "8982/8982 [==============================] - 20s 2ms/step - loss: 1.5497 - acc: 0.5934 - val_loss: 1.7206 - val_acc: 0.5557\n",
            "Epoch 9/20\n",
            "8982/8982 [==============================] - 20s 2ms/step - loss: 1.5134 - acc: 0.6021 - val_loss: 1.6172 - val_acc: 0.5877\n",
            "Epoch 10/20\n",
            "8982/8982 [==============================] - 20s 2ms/step - loss: 1.4834 - acc: 0.6098 - val_loss: 1.6159 - val_acc: 0.5873\n",
            "Epoch 11/20\n",
            "8982/8982 [==============================] - 21s 2ms/step - loss: 1.4581 - acc: 0.6169 - val_loss: 1.6399 - val_acc: 0.5797\n",
            "Epoch 12/20\n",
            "8982/8982 [==============================] - 20s 2ms/step - loss: 1.4276 - acc: 0.6192 - val_loss: 1.6226 - val_acc: 0.5864\n",
            "Epoch 13/20\n",
            "8982/8982 [==============================] - 21s 2ms/step - loss: 1.4066 - acc: 0.6219 - val_loss: 1.6487 - val_acc: 0.5793\n",
            "Epoch 14/20\n",
            "8982/8982 [==============================] - 20s 2ms/step - loss: 1.3852 - acc: 0.6218 - val_loss: 1.6942 - val_acc: 0.5752\n",
            "Epoch 15/20\n",
            "8982/8982 [==============================] - 21s 2ms/step - loss: 1.3629 - acc: 0.6251 - val_loss: 1.6376 - val_acc: 0.5864\n",
            "Epoch 16/20\n",
            "8982/8982 [==============================] - 20s 2ms/step - loss: 1.3371 - acc: 0.6304 - val_loss: 1.6398 - val_acc: 0.5837\n",
            "Epoch 17/20\n",
            "8982/8982 [==============================] - 20s 2ms/step - loss: 1.3206 - acc: 0.6284 - val_loss: 1.6687 - val_acc: 0.5775\n",
            "Epoch 18/20\n",
            "8982/8982 [==============================] - 20s 2ms/step - loss: 1.2906 - acc: 0.6324 - val_loss: 1.7345 - val_acc: 0.5712\n",
            "Epoch 19/20\n",
            "8982/8982 [==============================] - 21s 2ms/step - loss: 1.2696 - acc: 0.6404 - val_loss: 1.6615 - val_acc: 0.5868\n",
            "Epoch 20/20\n",
            "8982/8982 [==============================] - 20s 2ms/step - loss: 1.2387 - acc: 0.6438 - val_loss: 1.6492 - val_acc: 0.5966\n",
            "CPU times: user 8min 7s, sys: 32.7 s, total: 8min 39s\n",
            "Wall time: 6min 46s\n"
          ],
          "name": "stdout"
        }
      ]
    },
    {
      "cell_type": "code",
      "metadata": {
        "colab_type": "code",
        "outputId": "50017d0b-a34c-4400-9b3a-8af7b1360f5b",
        "id": "xlq8Fb1hCm40",
        "colab": {
          "base_uri": "https://localhost:8080/",
          "height": 289
        }
      },
      "source": [
        "# Print a summary of the model\n",
        "print(model.summary())"
      ],
      "execution_count": 0,
      "outputs": [
        {
          "output_type": "stream",
          "text": [
            "_________________________________________________________________\n",
            "Layer (type)                 Output Shape              Param #   \n",
            "=================================================================\n",
            "embedding_4 (Embedding)      (None, None, 64)          640000    \n",
            "_________________________________________________________________\n",
            "lstm_1 (LSTM)                (None, 64)                33024     \n",
            "_________________________________________________________________\n",
            "dropout_5 (Dropout)          (None, 64)                0         \n",
            "_________________________________________________________________\n",
            "dense_12 (Dense)             (None, 46)                2990      \n",
            "=================================================================\n",
            "Total params: 676,014\n",
            "Trainable params: 676,014\n",
            "Non-trainable params: 0\n",
            "_________________________________________________________________\n",
            "None\n"
          ],
          "name": "stdout"
        }
      ]
    },
    {
      "cell_type": "code",
      "metadata": {
        "colab_type": "code",
        "outputId": "da3fa54e-b02f-4fe6-e4cb-0befebf8e1d5",
        "id": "MK9FkxgmCm44",
        "colab": {
          "base_uri": "https://localhost:8080/",
          "height": 295
        }
      },
      "source": [
        "# Plotting the training and validation loss\n",
        "loss = history.history['loss']\n",
        "val_loss = history.history['val_loss']\n",
        "\n",
        "epochs = range(1, len(loss) + 1)\n",
        "\n",
        "plt.plot(epochs, loss, 'go', label='Training loss')\n",
        "plt.plot(epochs, val_loss, 'b', label='Validation loss')\n",
        "plt.title('Training and validation loss')\n",
        "plt.xlabel('Epochs')\n",
        "plt.ylabel('Loss')\n",
        "plt.legend()\n",
        "\n",
        "plt.show()"
      ],
      "execution_count": 0,
      "outputs": [
        {
          "output_type": "display_data",
          "data": {
            "image/png": "[encoded data removed]",
            "text/plain": [
              "<Figure size 432x288 with 1 Axes>"
            ]
          },
          "metadata": {
            "tags": []
          }
        }
      ]
    },
    {
      "cell_type": "code",
      "metadata": {
        "colab_type": "code",
        "outputId": "1ac119dc-bd50-41d1-d535-95f2928ea59a",
        "id": "UO5PvVg9Cm47",
        "colab": {
          "base_uri": "https://localhost:8080/",
          "height": 295
        }
      },
      "source": [
        "# Plotting the training and validation accuracy\n",
        "plt.clf()   # clear figure\n",
        "\n",
        "acc = history.history['acc']\n",
        "val_acc = history.history['val_acc']\n",
        "\n",
        "plt.plot(epochs, acc, 'go', label='Training acc')\n",
        "plt.plot(epochs, val_acc, 'b', label='Validation acc')\n",
        "plt.title('Training and validation accuracy')\n",
        "plt.xlabel('Epochs')\n",
        "plt.ylabel('Loss')\n",
        "plt.legend()\n",
        "\n",
        "plt.show()"
      ],
      "execution_count": 0,
      "outputs": [
        {
          "output_type": "display_data",
          "data": {
            "image/png": "[encoded data removed]",
            "text/plain": [
              "<Figure size 432x288 with 1 Axes>"
            ]
          },
          "metadata": {
            "tags": []
          }
        }
      ]
    },
    {
      "cell_type": "code",
      "metadata": {
        "id": "cKdf6Zj1-Z_y",
        "colab_type": "code",
        "outputId": "033c006a-998e-42f3-b95e-d5d64424441d",
        "colab": {
          "base_uri": "https://localhost:8080/",
          "height": 51
        }
      },
      "source": [
        "score = model.evaluate(X_test, Y_test, batch_size=batch_size)\n",
        "print(score)"
      ],
      "execution_count": 0,
      "outputs": [
        {
          "output_type": "stream",
          "text": [
            "2246/2246 [==============================] - 1s 501us/step\n",
            "[1.6492353330630865, 0.5966162066425686]\n"
          ],
          "name": "stdout"
        }
      ]
    },
    {
      "cell_type": "markdown",
      "metadata": {
        "colab_type": "text",
        "id": "Q02lJoa8h8bJ"
      },
      "source": [
        "### Section 4:  Conclusion"
      ]
    },
    {
      "cell_type": "markdown",
      "metadata": {
        "id": "X2Zs5w5IuIW2",
        "colab_type": "text"
      },
      "source": [
        "**Management problem:** Suppose you are asked by your current employer to develop a conversational agent or chatbot to assist customer support representatives. What advice would you give management about such development? What kinds of methods and models would be needed?  Would this be a substantial development project? Do you have any ideas about the information infrastructure needed to support conversational agents in a production environment?"
      ]
    },
    {
      "cell_type": "markdown",
      "metadata": {
        "id": "pTw7fBUBO3lC",
        "colab_type": "text"
      },
      "source": [
        "\n",
        ">>>> **Summary Table:**\n",
        "\n",
        "\n",
        "\n",
        ">Model Type | Number of Layers | Number of Epochs | Processing Time | Test Accuracy\n",
        ">--- | --- | --- | --- | ---\n",
        ">DNN | 3 | 20| 12.1sec | 0.7903\n",
        ">CNN | 4 | 20| 32.7sec | 0.9865\n",
        ">RNN | 4 | 20| 6min 5sec | 0.4639\n",
        ">LSTM | 3 | 20| 7min 50sec | 0.6428"
      ]
    },
    {
      "cell_type": "markdown",
      "metadata": {
        "colab_type": "text",
        "id": "_vmpE0ikh8bL"
      },
      "source": [
        "**In Conclusion:**\n",
        "\n",
        "After fitting a number of neural networks, processing time and performance was compared across experimental treatments.\n",
        "\n",
        "The results showed:\n",
        "\n",
        "*    The Conv1D model performed well for processing temporal patterns. They offer a fast alternative to RNNs for natural language processing.\n",
        "*    The DNN and Conv1D one-hot-encoded models achieved solid performance while remaining computationally cheap.\n",
        "*    The RNN and LSTM models processed sequences over time, but were relatively expensive compared to the DNN and Conv2D models and did not lead to greater accuracy.\n",
        "\n",
        "In summary, to address management, developing a conversational agent or chatbot to assist customer support representatives is a challenging undertaking. The Conv1D model was able to learn local associations between words, rather than having to rely on global associations. Using pretrained word embeddings may be a helpful way to reduce dimensionality and increase the chatbot vocabulary, but is outside the scope of this analysis. The network architecture is a key element in building a neural network model for natural language processing especially selection of the types of layers. The final recommendation is to implement the Conv1D model for text categorization. However, gated recurrent unit (GRU) or LSTM models may be more appropriate for sequenced text data generation and remain topics for future study. The Conv1D model takes less time to process than the recurrent and LSTM models, results in the most accurate predictions, and is the most trustworthy."
      ]
    }
  ]
}