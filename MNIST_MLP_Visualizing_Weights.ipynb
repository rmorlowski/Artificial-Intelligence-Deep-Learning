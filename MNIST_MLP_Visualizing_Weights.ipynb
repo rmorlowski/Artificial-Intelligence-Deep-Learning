{
  "nbformat": 4,
  "nbformat_minor": 0,
  "metadata": {
    "colab": {
      "name": "MNIST_MLP_Visualizing_Weights.ipynb",
      "version": "0.3.2",
      "provenance": [],
      "collapsed_sections": [],
      "include_colab_link": true
    },
    "kernelspec": {
      "name": "python3",
      "display_name": "Python 3"
    },
    "accelerator": "GPU"
  },
  "cells": [
    {
      "cell_type": "markdown",
      "metadata": {
        "id": "view-in-github",
        "colab_type": "text"
      },
      "source": [
        "<a href=\"https://colab.research.google.com/github/rmorlowski/Artificial-Intelligence-Deep-Learning/blob/master/MNIST_MLP_Visualizing_Weights.ipynb\" target=\"_parent\"><img src=\"https://colab.research.google.com/assets/colab-badge.svg\" alt=\"Open In Colab\"/></a>"
      ]
    },
    {
      "cell_type": "markdown",
      "metadata": {
        "id": "2TAHw3FAAcMV",
        "colab_type": "text"
      },
      "source": [
        "## MNIST Neural Networks"
      ]
    },
    {
      "cell_type": "markdown",
      "metadata": {
        "id": "8Q2wvXVmOjis",
        "colab_type": "text"
      },
      "source": [
        "This individual assignment involves fitting a neural network to the MNIST data, testing alternative network structures, activation functions, optimization methods, and/or hyperparameter settings. For these models, classification performance, accuracy and processing time will be compared across experiments."
      ]
    },
    {
      "cell_type": "markdown",
      "metadata": {
        "id": "5avC3qlPVpW2",
        "colab_type": "text"
      },
      "source": [
        "**The Benchmark Experiment: ** This assignment concerns a single hidden layer. See what happens when you change the number of nodes in that single hidden layer, going from few to many nodes. Note that having a single layer with a single node is similar to employing what is known as a multinomial logit model (logistic regression if there are only two classes).  Due to the time required to fit each neural network, we will observe only one trial for each cell in the design. Also, we will be using a simple training-and-test split with the split having been performed previously. That is, we use the training and test sets that come with MNIST."
      ]
    },
    {
      "cell_type": "markdown",
      "metadata": {
        "id": "j29pMh5PJAXn",
        "colab_type": "text"
      },
      "source": [
        "Relevant documentation includes:\n",
        "\n",
        "*   [A.Géron, handson-ml](https://github.com/ageron/handson-ml/blob/master/11_deep_learning.ipynb)\n",
        "*   [Brownlee - Handwritten Digit Recognition using Convolutional Neural Networks in Python with Keras](https://machinelearningmastery.com/handwritten-digit-recognition-using-convolutional-neural-networks-python-keras/)\n",
        "*   [F.Chollet - Deep Learning with Python](https://github.com/fchollet/deep-learning-with-python-notebooks/blob/master/3.6-classifying-newswires.ipynb)\n",
        "*   [sklearn.neural_network.MLPClassifier (sci-kit learn)](https://scikit-learn.org/stable/modules/generated/sklearn.neural_network.MLPClassifier.html)\n",
        "*   [Visualization of MLP weights on MNIST (sci-kit learn)](https://scikit-learn.org/stable/auto_examples/neural_networks/plot_mnist_filters.html)\n",
        "*   [Visualizing Weights and Convolutions (Keras)](https://github.com/keras-team/keras/issues/431)\n"
      ]
    },
    {
      "cell_type": "markdown",
      "metadata": {
        "id": "9x_4iOfYZ5Zq",
        "colab_type": "text"
      },
      "source": [
        "An example experiment could include ten for the number of nodes per inner layer and two values for the number of inner layers total (with one single hidden layer). Various machine learning hyperparameter settings may be used.\n",
        "\n",
        "\n",
        "---\n"
      ]
    },
    {
      "cell_type": "markdown",
      "metadata": {
        "id": "ODBgiaZMhup3",
        "colab_type": "text"
      },
      "source": [
        "### Section 1: Ingest - Data Survey"
      ]
    },
    {
      "cell_type": "markdown",
      "metadata": {
        "id": "a7gQpBJChxxv",
        "colab_type": "text"
      },
      "source": [
        "For this assignment we will develop a neural network classifier that may be used to predict which of the ten digits is being written."
      ]
    },
    {
      "cell_type": "markdown",
      "metadata": {
        "id": "YtBt4wvQFtgs",
        "colab_type": "text"
      },
      "source": [
        "Check for GPU"
      ]
    },
    {
      "cell_type": "code",
      "metadata": {
        "id": "T5qZnho4Z-3k",
        "colab_type": "code",
        "outputId": "ade0102c-ef25-46d0-f2f6-a5d10206f33b",
        "colab": {
          "base_uri": "https://localhost:8080/",
          "height": 34
        }
      },
      "source": [
        "import tensorflow as tf\n",
        "tf.test.gpu_device_name()"
      ],
      "execution_count": 0,
      "outputs": [
        {
          "output_type": "execute_result",
          "data": {
            "text/plain": [
              "'/device:GPU:0'"
            ]
          },
          "metadata": {
            "tags": []
          },
          "execution_count": 1
        }
      ]
    },
    {
      "cell_type": "markdown",
      "metadata": {
        "id": "2QTeKxhOFwzx",
        "colab_type": "text"
      },
      "source": [
        "Import packages"
      ]
    },
    {
      "cell_type": "code",
      "metadata": {
        "id": "ibH6Vr8PlEkA",
        "colab_type": "code",
        "colab": {}
      },
      "source": [
        "import time\n",
        "from sklearn.neural_network import MLPClassifier\n",
        "from sklearn.metrics import classification_report, confusion_matrix"
      ],
      "execution_count": 0,
      "outputs": []
    },
    {
      "cell_type": "code",
      "metadata": {
        "id": "wkgOE0M7lEpW",
        "colab_type": "code",
        "outputId": "92ef9d3b-d01f-4389-abc2-440ea3dae333",
        "colab": {
          "base_uri": "https://localhost:8080/",
          "height": 34
        }
      },
      "source": [
        "from keras.datasets import mnist\n",
        "from keras.models import Sequential\n",
        "from keras import layers\n",
        "from keras.layers import Dense\n",
        "from keras.layers import Dropout\n",
        "from keras.utils import np_utils"
      ],
      "execution_count": 0,
      "outputs": [
        {
          "output_type": "stream",
          "text": [
            "Using TensorFlow backend.\n"
          ],
          "name": "stderr"
        }
      ]
    },
    {
      "cell_type": "code",
      "metadata": {
        "id": "3orXoyOilEuN",
        "colab_type": "code",
        "colab": {}
      },
      "source": [
        "import pandas as pd\n",
        "import statsmodels.formula.api as smf  # R-like model specification\n",
        "import seaborn as sns\n",
        "from sklearn.metrics import mean_squared_error, r2_score, make_scorer \n",
        "from sklearn.model_selection import cross_val_score, train_test_split"
      ],
      "execution_count": 0,
      "outputs": []
    },
    {
      "cell_type": "code",
      "metadata": {
        "id": "n6vKfV3jmytC",
        "colab_type": "code",
        "colab": {}
      },
      "source": [
        "# Common imports\n",
        "import numpy as np\n",
        "import os\n",
        "\n",
        "# to make this notebook's output stable across runs\n",
        "np.random.seed(42)\n",
        "\n",
        "# To plot pretty figures\n",
        "# %matplotlib inline\n",
        "import matplotlib as mpl\n",
        "import matplotlib.pyplot as plt\n",
        "mpl.rc('axes', labelsize=14)\n",
        "mpl.rc('xtick', labelsize=12)\n",
        "mpl.rc('ytick', labelsize=12)\n",
        "\n",
        "# Where to save the figures\n",
        "PROJECT_ROOT_DIR = \".\"\n",
        "CHAPTER_ID = \"classification\"\n",
        "\n",
        "def save_fig(fig_id, tight_layout=True):\n",
        "    path = os.path.join(PROJECT_ROOT_DIR, \"images\", CHAPTER_ID, fig_id + \".png\")\n",
        "    print(\"Saving figure\", fig_id)\n",
        "    if tight_layout:\n",
        "        plt.tight_layout()\n",
        "    plt.savefig(path, format='png', dpi=300)"
      ],
      "execution_count": 0,
      "outputs": []
    },
    {
      "cell_type": "markdown",
      "metadata": {
        "id": "tsRhCuUcG0ay",
        "colab_type": "text"
      },
      "source": [
        "**MNIST Dataset**"
      ]
    },
    {
      "cell_type": "markdown",
      "metadata": {
        "id": "wXA8fwkLqIt8",
        "colab_type": "text"
      },
      "source": [
        "Gather data for the MNIST dataset.  These data consist of 70 thousand observations. Utilize the first 60 thousand as a model development set and the final 10 thousand as a holdout test set."
      ]
    },
    {
      "cell_type": "markdown",
      "metadata": {
        "colab_type": "text",
        "id": "eWi8_Vxuhy2i"
      },
      "source": [
        "Load Train/Test split of the dataset in preparation for modeling.  Split the MNIST dataset into a training set and a test set (take the first 60,000 instances for training, and the remaining 10,000 for testing)."
      ]
    },
    {
      "cell_type": "code",
      "metadata": {
        "id": "lCOqvmN-GvKZ",
        "colab_type": "code",
        "outputId": "93649a53-cae5-45e0-fd1a-ca761b8b82f6",
        "colab": {
          "base_uri": "https://localhost:8080/",
          "height": 51
        }
      },
      "source": [
        "#split train & test data\n",
        "(X_train, y_train), (X_test, y_test) = tf.keras.datasets.mnist.load_data()"
      ],
      "execution_count": 0,
      "outputs": [
        {
          "output_type": "stream",
          "text": [
            "Downloading data from https://storage.googleapis.com/tensorflow/tf-keras-datasets/mnist.npz\n",
            "11493376/11490434 [==============================] - 0s 0us/step\n"
          ],
          "name": "stdout"
        }
      ]
    },
    {
      "cell_type": "code",
      "metadata": {
        "id": "O1BEoQ7kMuDZ",
        "colab_type": "code",
        "outputId": "12f494dc-b11f-4fcc-c6b8-3d8a8179724a",
        "colab": {
          "base_uri": "https://localhost:8080/",
          "height": 226
        }
      },
      "source": [
        "# plot sample training images\n",
        "import matplotlib.pyplot as plt\n",
        "\n",
        "fig, ax = plt.subplots(nrows=2, ncols=5, sharex=True, sharey=True,)\n",
        "ax = ax.flatten()\n",
        "for i in range(10):\n",
        "    img = X_train[y_train == i][0].reshape(28, 28)\n",
        "    ax[i].imshow(img, cmap='Greys', interpolation='nearest')\n",
        "\n",
        "ax[0].set_xticks([])\n",
        "ax[0].set_yticks([])\n",
        "plt.tight_layout()\n",
        "# plt.savefig('./figures/mnist_all.png', dpi=300)\n",
        "plt.show()"
      ],
      "execution_count": 0,
      "outputs": [
        {
          "output_type": "display_data",
          "data": {
            "image/png": "[encoded data removed]",
            "text/plain": [
              "<Figure size 432x288 with 10 Axes>"
            ]
          },
          "metadata": {
            "tags": []
          }
        }
      ]
    },
    {
      "cell_type": "code",
      "metadata": {
        "id": "OsimmacfQft-",
        "colab_type": "code",
        "outputId": "b465c095-7c83-4702-ed11-2e37f04dce43",
        "colab": {
          "base_uri": "https://localhost:8080/",
          "height": 272
        }
      },
      "source": [
        "# Let's plot an image and histogram to quickly visualize the pixel data.\n",
        "%matplotlib inline\n",
        "\n",
        "# We'll show the image and its pixel value histogram side-by-side.\n",
        "_, (ax1, ax2) = plt.subplots(1, 2)\n",
        "\n",
        "# To interpret the values as a 28x28 image, we need to reshape\n",
        "# the numpy array, which is one dimensional.\n",
        "ax1.imshow(X_train[0].reshape(28, 28), cmap=plt.cm.Greys);\n",
        "\n",
        "ax2.hist(X_train[0], bins=20, range=[0,255]);"
      ],
      "execution_count": 0,
      "outputs": [
        {
          "output_type": "display_data",
          "data": {
            "image/png": "[encoded data removed]",
            "text/plain": [
              "<Figure size 432x288 with 2 Axes>"
            ]
          },
          "metadata": {
            "tags": []
          }
        }
      ]
    },
    {
      "cell_type": "markdown",
      "metadata": {
        "id": "etuDSoWaS_vz",
        "colab_type": "text"
      },
      "source": [
        "The large number of 0 values correspond to the background of the image, another large mass of value 255 is black, and a mix of grayscale transition values in between. Both the image and histogram look sensible. But, it's good practice when training image models to normalize values to be centered around 0.\n",
        "\n",
        "We'll do that next. The normalization code is fairly short, and it may be tempting to assume we haven't made mistakes, but we'll double-check by looking at the rendered input and histogram again. Malformed inputs are a surprisingly common source of errors when developing new models."
      ]
    },
    {
      "cell_type": "markdown",
      "metadata": {
        "id": "CdzzNjjiSuQC",
        "colab_type": "text"
      },
      "source": [
        "#### Scale Data"
      ]
    },
    {
      "cell_type": "code",
      "metadata": {
        "id": "GjbOErSdost3",
        "colab_type": "code",
        "colab": {}
      },
      "source": [
        "# flatten 28*28 images to a 784 vector for each image\n",
        "num_pixels = X_train.shape[1] * X_train.shape[2]\n",
        "X_train = X_train.reshape(X_train.shape[0], num_pixels).astype('float32')\n",
        "X_test = X_test.reshape(X_test.shape[0], num_pixels).astype('float32')"
      ],
      "execution_count": 0,
      "outputs": []
    },
    {
      "cell_type": "code",
      "metadata": {
        "id": "LzwyklMTR4rM",
        "colab_type": "code",
        "colab": {}
      },
      "source": [
        "# scale the data for use in the neural network\n",
        "X_train = X_train / 255\n",
        "X_test = X_test / 255"
      ],
      "execution_count": 0,
      "outputs": []
    },
    {
      "cell_type": "code",
      "metadata": {
        "id": "inL8C4KzG-eE",
        "colab_type": "code",
        "outputId": "8aa93907-248d-4694-dc50-fa52be011ec8",
        "colab": {
          "base_uri": "https://localhost:8080/",
          "height": 34
        }
      },
      "source": [
        "#test split 'train'\n",
        "X_train.shape"
      ],
      "execution_count": 0,
      "outputs": [
        {
          "output_type": "execute_result",
          "data": {
            "text/plain": [
              "(60000, 784)"
            ]
          },
          "metadata": {
            "tags": []
          },
          "execution_count": 11
        }
      ]
    },
    {
      "cell_type": "code",
      "metadata": {
        "id": "2kZDi-ZVG-oA",
        "colab_type": "code",
        "outputId": "d6339f1f-1af6-4060-c1c9-5f748d80ef84",
        "colab": {
          "base_uri": "https://localhost:8080/",
          "height": 34
        }
      },
      "source": [
        "#test split 'test'\n",
        "X_test.shape"
      ],
      "execution_count": 0,
      "outputs": [
        {
          "output_type": "execute_result",
          "data": {
            "text/plain": [
              "(10000, 784)"
            ]
          },
          "metadata": {
            "tags": []
          },
          "execution_count": 12
        }
      ]
    },
    {
      "cell_type": "markdown",
      "metadata": {
        "colab_type": "text",
        "id": "FXvdz2vJhy2g"
      },
      "source": [
        "### Section 2: EDA"
      ]
    },
    {
      "cell_type": "markdown",
      "metadata": {
        "id": "sFMK56bOruS0",
        "colab_type": "text"
      },
      "source": [
        "#### Visualize MNIST"
      ]
    },
    {
      "cell_type": "code",
      "metadata": {
        "id": "oewOpENQRQTY",
        "colab_type": "code",
        "outputId": "3dc4e3c0-4b49-4e7f-9d29-b6b1b2f4b38b",
        "colab": {
          "base_uri": "https://localhost:8080/",
          "height": 272
        }
      },
      "source": [
        "# We again plot the image and histogram to check that we \n",
        "# haven't mangled the data.\n",
        "_, (ax1, ax2) = plt.subplots(1, 2)\n",
        "ax1.imshow(X_train[0].reshape(28, 28), cmap=plt.cm.Greys);\n",
        "ax2.hist(X_train[0], bins=20, range=[0, 1]);"
      ],
      "execution_count": 0,
      "outputs": [
        {
          "output_type": "display_data",
          "data": {
            "image/png": "[encoded data removed]",
            "text/plain": [
              "<Figure size 432x288 with 2 Axes>"
            ]
          },
          "metadata": {
            "tags": []
          }
        }
      ]
    },
    {
      "cell_type": "markdown",
      "metadata": {
        "id": "-L8SYzUjUIGL",
        "colab_type": "text"
      },
      "source": [
        "We've retained the correct image data while properly rescaling to the range [0, 1.0]."
      ]
    },
    {
      "cell_type": "code",
      "metadata": {
        "id": "aOcl2p6kHKhi",
        "colab_type": "code",
        "outputId": "d2a32877-1562-496f-e093-f7e286f11020",
        "colab": {
          "base_uri": "https://localhost:8080/",
          "height": 224
        }
      },
      "source": [
        "#check data in training set as visual:\n",
        "print('Training data shape', X_train.shape)\n",
        "_, (ax1, ax2) = plt.subplots(1, 2)\n",
        "ax1.imshow(X_train[0].reshape(28, 28), cmap=plt.cm.Greys);\n",
        "ax2.imshow(X_train[1].reshape(28, 28), cmap=plt.cm.Greys);"
      ],
      "execution_count": 0,
      "outputs": [
        {
          "output_type": "stream",
          "text": [
            "Training data shape (60000, 784)\n"
          ],
          "name": "stdout"
        },
        {
          "output_type": "display_data",
          "data": {
            "image/png": "[encoded data removed]",
            "text/plain": [
              "<Figure size 432x288 with 2 Axes>"
            ]
          },
          "metadata": {
            "tags": []
          }
        }
      ]
    },
    {
      "cell_type": "code",
      "metadata": {
        "id": "GLI2BGnFnsaM",
        "colab_type": "code",
        "colab": {}
      },
      "source": [
        "# one hot encode outputs\n",
        "y_train = np_utils.to_categorical(y_train)\n",
        "y_test = np_utils.to_categorical(y_test)\n",
        "num_classes = y_test.shape[1]"
      ],
      "execution_count": 0,
      "outputs": []
    },
    {
      "cell_type": "code",
      "metadata": {
        "id": "oDSpSw_4-7k7",
        "colab_type": "code",
        "outputId": "cd73a2f9-7807-4544-d7d4-28d10ab4a81d",
        "colab": {
          "base_uri": "https://localhost:8080/",
          "height": 34
        }
      },
      "source": [
        "# check data type\n",
        "X_train.dtype"
      ],
      "execution_count": 0,
      "outputs": [
        {
          "output_type": "execute_result",
          "data": {
            "text/plain": [
              "dtype('float32')"
            ]
          },
          "metadata": {
            "tags": []
          },
          "execution_count": 16
        }
      ]
    },
    {
      "cell_type": "markdown",
      "metadata": {
        "colab_type": "text",
        "id": "lRgrtJslkAmu"
      },
      "source": [
        "### Section 3: Modeling - Neural Networks"
      ]
    },
    {
      "cell_type": "markdown",
      "metadata": {
        "id": "kheV-Q6qm6cz",
        "colab_type": "text"
      },
      "source": [
        "In summary, this section fits a number of neural networks, comparing processing time and performance across experimental treatments."
      ]
    },
    {
      "cell_type": "markdown",
      "metadata": {
        "id": "lOKEhb6x-dAn",
        "colab_type": "text"
      },
      "source": [
        "To make the example run faster, we use very few hidden units, and train only for a very short time. Training longer would result in weights with a much smoother spatial appearance."
      ]
    },
    {
      "cell_type": "markdown",
      "metadata": {
        "colab_type": "text",
        "id": "8ObR9F493PNK"
      },
      "source": [
        "#### MLP Classifier - 10 Neurons per layer"
      ]
    },
    {
      "cell_type": "markdown",
      "metadata": {
        "colab_type": "text",
        "id": "lX15yvLy3PNL"
      },
      "source": [
        "Model 1 - 1 layer with 10 nodes per layer, 10 epochs"
      ]
    },
    {
      "cell_type": "code",
      "metadata": {
        "colab_type": "code",
        "id": "RIT9_RpY3PNO",
        "colab": {}
      },
      "source": [
        "mlp = MLPClassifier(hidden_layer_sizes = (10,), max_iter = 10, alpha = 1e-4,\n",
        "                    solver = 'sgd', verbose = 10, tol = 1e-4, random_state = 1,\n",
        "                    learning_rate_init=.1)"
      ],
      "execution_count": 0,
      "outputs": []
    },
    {
      "cell_type": "code",
      "metadata": {
        "colab_type": "code",
        "outputId": "126a757a-61e0-4ea8-cb00-58da193459ed",
        "id": "7_1BT3QN3PNU",
        "colab": {
          "base_uri": "https://localhost:8080/",
          "height": 309
        }
      },
      "source": [
        "#Model 1 - 1D with 10 Neurons per hidden layer\n",
        "%%time\n",
        "mlp.fit(X_train, y_train)\n",
        "print(\"Training set score:%f\" %mlp.score(X_train, y_train))\n",
        "print(\"Test set score:%f\" %mlp.score(X_test, y_test))"
      ],
      "execution_count": 0,
      "outputs": [
        {
          "output_type": "stream",
          "text": [
            "Iteration 1, loss = 1.10231222\n",
            "Iteration 2, loss = 0.83910444\n",
            "Iteration 3, loss = 0.81156035\n",
            "Iteration 4, loss = 0.78552812\n",
            "Iteration 5, loss = 0.77373954\n",
            "Iteration 6, loss = 0.76237467\n",
            "Iteration 7, loss = 0.75660130\n",
            "Iteration 8, loss = 0.75208621\n",
            "Iteration 9, loss = 0.74717581\n",
            "Iteration 10, loss = 0.74220701\n"
          ],
          "name": "stdout"
        },
        {
          "output_type": "stream",
          "text": [
            "/usr/local/lib/python3.6/dist-packages/sklearn/neural_network/multilayer_perceptron.py:562: ConvergenceWarning: Stochastic Optimizer: Maximum iterations (10) reached and the optimization hasn't converged yet.\n",
            "  % self.max_iter, ConvergenceWarning)\n"
          ],
          "name": "stderr"
        },
        {
          "output_type": "stream",
          "text": [
            "Training set score:0.815417\n",
            "Test set score:0.817700\n",
            "CPU times: user 10.5 s, sys: 4.53 s, total: 15 s\n",
            "Wall time: 7.9 s\n"
          ],
          "name": "stdout"
        }
      ]
    },
    {
      "cell_type": "markdown",
      "metadata": {
        "id": "oUOUSrINPAEF",
        "colab_type": "text"
      },
      "source": [
        "The goal is to understand how the neurons/nodes in a simple single-hidden layer network have learned to represent features within the input data."
      ]
    },
    {
      "cell_type": "code",
      "metadata": {
        "colab_type": "code",
        "outputId": "09ae369c-54a5-495b-f691-4bcc72c484ca",
        "id": "1ZF7OeCt3PNX",
        "colab": {
          "base_uri": "https://localhost:8080/",
          "height": 272
        }
      },
      "source": [
        "# plot MLP weights\n",
        "fig, axes = plt.subplots(3, 3)\n",
        "# use global min/max to ensure all weights are shown on the same scale\n",
        "vmin, vmax = mlp.coefs_[0].min(), mlp.coefs_[0].max()\n",
        "for coef, ax in zip(mlp.coefs_[0].T, axes.ravel()):\n",
        "  ax.matshow(coef.reshape(28, 28), cmap=plt.cm.gray, vmin=.5 *vmin, vmax = .5* vmax)\n",
        "  #ax.set_x_ticks(())\n",
        "  #ax.set_y_ticks(())\n",
        "  \n",
        "plt.show()"
      ],
      "execution_count": 0,
      "outputs": [
        {
          "output_type": "display_data",
          "data": {
            "image/png": "[encoded data removed]",
            "text/plain": [
              "<Figure size 432x288 with 9 Axes>"
            ]
          },
          "metadata": {
            "tags": []
          }
        }
      ]
    },
    {
      "cell_type": "markdown",
      "metadata": {
        "colab_type": "text",
        "id": "PkPcgZ0K66px"
      },
      "source": [
        "Create a confusion matrix to assess accuracy."
      ]
    },
    {
      "cell_type": "code",
      "metadata": {
        "colab_type": "code",
        "id": "fIWHjCWV66py",
        "colab": {}
      },
      "source": [
        "# Predicting the Test set results\n",
        "y_pred = mlp.predict(X_test)\n",
        "y_pred = (y_pred > 0.5)"
      ],
      "execution_count": 0,
      "outputs": []
    },
    {
      "cell_type": "code",
      "metadata": {
        "colab_type": "code",
        "outputId": "52ef5db5-4877-46b8-d904-7c334876767a",
        "id": "A0z79_7j66p0",
        "colab": {
          "base_uri": "https://localhost:8080/",
          "height": 187
        }
      },
      "source": [
        "# Creating the Confusion Matrix\n",
        "cm = confusion_matrix(y_test.argmax(axis=1), y_pred.argmax(axis=1))\n",
        "print(cm)"
      ],
      "execution_count": 0,
      "outputs": [
        {
          "output_type": "stream",
          "text": [
            "[[ 969    0    0    2    4    0    1    1    1    2]\n",
            " [  22 1109    2    1    0    0    1    0    0    0]\n",
            " [ 108    9  877    6    8    1    9    5    7    2]\n",
            " [  83    6   37  853    2   15    0    7    4    3]\n",
            " [  48    6    5    0  891    0    4    1    0   27]\n",
            " [ 176    3    3   74   18  589   11    3   14    1]\n",
            " [  84    2    7    0   21    9  834    0    0    1]\n",
            " [ 122   12   21    2   12    0    0  846    0   13]\n",
            " [ 278   27    5   19   12   21   15    1  595    1]\n",
            " [ 107   11    1    6   39    0    0   10    5  830]]\n"
          ],
          "name": "stdout"
        }
      ]
    },
    {
      "cell_type": "markdown",
      "metadata": {
        "id": "-89NkYpgYoz1",
        "colab_type": "text"
      },
      "source": [
        "#### MLP Classifier - 50 Neurons per layer"
      ]
    },
    {
      "cell_type": "markdown",
      "metadata": {
        "id": "_KlQ6r97clx5",
        "colab_type": "text"
      },
      "source": [
        "Model 2 - 1 layer with 50 nodes per layer, 10 epochs"
      ]
    },
    {
      "cell_type": "code",
      "metadata": {
        "id": "kztu5IFfsO26",
        "colab_type": "code",
        "colab": {}
      },
      "source": [
        "mlp = MLPClassifier(hidden_layer_sizes = (50,), max_iter = 10, alpha = 1e-4,\n",
        "                    solver = 'sgd', verbose = 10, tol = 1e-4, random_state = 1,\n",
        "                    learning_rate_init=.1)"
      ],
      "execution_count": 0,
      "outputs": []
    },
    {
      "cell_type": "code",
      "metadata": {
        "id": "2sQDgaQjeDwI",
        "colab_type": "code",
        "outputId": "028bf0eb-f3da-4036-bdac-dda2776a7d36",
        "colab": {
          "base_uri": "https://localhost:8080/",
          "height": 309
        }
      },
      "source": [
        "#Model 2 - 1D with 50 Neurons per hidden layer\n",
        "%%time\n",
        "mlp.fit(X_train, y_train)\n",
        "print(\"Training set score:%f\" %mlp.score(X_train, y_train))\n",
        "print(\"Test set score:%f\" %mlp.score(X_test, y_test))"
      ],
      "execution_count": 0,
      "outputs": [
        {
          "output_type": "stream",
          "text": [
            "Iteration 1, loss = 0.68406271\n",
            "Iteration 2, loss = 0.37303567\n",
            "Iteration 3, loss = 0.31256934\n",
            "Iteration 4, loss = 0.27838449\n",
            "Iteration 5, loss = 0.25614642\n",
            "Iteration 6, loss = 0.24135793\n",
            "Iteration 7, loss = 0.22529110\n",
            "Iteration 8, loss = 0.21521206\n",
            "Iteration 9, loss = 0.20508928\n",
            "Iteration 10, loss = 0.19783897\n"
          ],
          "name": "stdout"
        },
        {
          "output_type": "stream",
          "text": [
            "/usr/local/lib/python3.6/dist-packages/sklearn/neural_network/multilayer_perceptron.py:562: ConvergenceWarning: Stochastic Optimizer: Maximum iterations (10) reached and the optimization hasn't converged yet.\n",
            "  % self.max_iter, ConvergenceWarning)\n"
          ],
          "name": "stderr"
        },
        {
          "output_type": "stream",
          "text": [
            "Training set score:0.951433\n",
            "Test set score:0.937300\n",
            "CPU times: user 18.1 s, sys: 6.42 s, total: 24.5 s\n",
            "Wall time: 12.7 s\n"
          ],
          "name": "stdout"
        }
      ]
    },
    {
      "cell_type": "code",
      "metadata": {
        "id": "YLumksUesGn7",
        "colab_type": "code",
        "outputId": "2f68b939-9604-4898-d5ee-14b3a557fca6",
        "colab": {
          "base_uri": "https://localhost:8080/",
          "height": 272
        }
      },
      "source": [
        "# plot MLP weights\n",
        "fig, axes = plt.subplots(3, 3)\n",
        "# use global min/max to ensure all weights are shown on the same scale\n",
        "vmin, vmax = mlp.coefs_[0].min(), mlp.coefs_[0].max()\n",
        "for coef, ax in zip(mlp.coefs_[0].T, axes.ravel()):\n",
        "  ax.matshow(coef.reshape(28, 28), cmap=plt.cm.gray, vmin=.5 *vmin, vmax = .5* vmax)\n",
        "  #ax.set_x_ticks(())\n",
        "  #ax.set_y_ticks(())\n",
        "  \n",
        "plt.show()"
      ],
      "execution_count": 0,
      "outputs": [
        {
          "output_type": "display_data",
          "data": {
            "image/png": "[encoded data removed]",
            "text/plain": [
              "<Figure size 432x288 with 9 Axes>"
            ]
          },
          "metadata": {
            "tags": []
          }
        }
      ]
    },
    {
      "cell_type": "markdown",
      "metadata": {
        "colab_type": "text",
        "id": "4KM3uSQ18YAj"
      },
      "source": [
        "Create a confusion matrix to assess accuracy."
      ]
    },
    {
      "cell_type": "code",
      "metadata": {
        "colab_type": "code",
        "id": "9n2Eotd08YAl",
        "colab": {}
      },
      "source": [
        "# Predicting the Test set results\n",
        "y_pred = mlp.predict(X_test)\n",
        "y_pred = (y_pred > 0.5)"
      ],
      "execution_count": 0,
      "outputs": []
    },
    {
      "cell_type": "code",
      "metadata": {
        "colab_type": "code",
        "outputId": "8162afda-bcbf-40d1-9dcc-14119fc67c08",
        "id": "cOUZhrmu8YAn",
        "colab": {
          "base_uri": "https://localhost:8080/",
          "height": 187
        }
      },
      "source": [
        "# Creating the Confusion Matrix\n",
        "cm = confusion_matrix(y_test.argmax(axis=1), y_pred.argmax(axis=1))\n",
        "print(cm)"
      ],
      "execution_count": 0,
      "outputs": [
        {
          "output_type": "stream",
          "text": [
            "[[ 971    0    0    1    0    2    3    1    2    0]\n",
            " [   8 1115    3    1    1    1    3    0    3    0]\n",
            " [  42    0  979    0    2    0    2    3    4    0]\n",
            " [  62    0    3  931    0    7    0    2    5    0]\n",
            " [  24    0    7    1  933    0    3    2    0   12]\n",
            " [  33    0    0    5    1  843    7    1    2    0]\n",
            " [  17    3    3    0    7    9  918    0    1    0]\n",
            " [  38    1   13   13    2    1    0  955    0    5]\n",
            " [  33    2    2    7    4    9    7    6  903    1]\n",
            " [  30    3    0    6   13    9    0    6    5  937]]\n"
          ],
          "name": "stdout"
        }
      ]
    },
    {
      "cell_type": "markdown",
      "metadata": {
        "colab_type": "text",
        "id": "mc9G5aCl1cdE"
      },
      "source": [
        "#### MLP Classifier - 100 Neurons per layer"
      ]
    },
    {
      "cell_type": "markdown",
      "metadata": {
        "colab_type": "text",
        "id": "aqxPnoCj1cdE"
      },
      "source": [
        "Model 3 - 1 layer with 100 nodes per layer, 10 epochs"
      ]
    },
    {
      "cell_type": "code",
      "metadata": {
        "colab_type": "code",
        "id": "qkH7lbHg1cdH",
        "colab": {}
      },
      "source": [
        "mlp = MLPClassifier(hidden_layer_sizes = (100,), max_iter = 10, alpha = 1e-4,\n",
        "                    solver = 'sgd', verbose = 10, tol = 1e-4, random_state = 1,\n",
        "                    learning_rate_init=.1)"
      ],
      "execution_count": 0,
      "outputs": []
    },
    {
      "cell_type": "code",
      "metadata": {
        "colab_type": "code",
        "outputId": "49b0ac85-b6c7-4b12-8c53-851e0c9af6f2",
        "id": "DNZSitRI1cdI",
        "colab": {
          "base_uri": "https://localhost:8080/",
          "height": 309
        }
      },
      "source": [
        "#Model 3 - 1D with 100 Neurons per hidden layer\n",
        "%%time\n",
        "mlp.fit(X_train, y_train)\n",
        "print(\"Training set score:%f\" %mlp.score(X_train, y_train))\n",
        "print(\"Test set score:%f\" %mlp.score(X_test, y_test))"
      ],
      "execution_count": 0,
      "outputs": [
        {
          "output_type": "stream",
          "text": [
            "Iteration 1, loss = 0.57392601\n",
            "Iteration 2, loss = 0.26492191\n",
            "Iteration 3, loss = 0.20341701\n",
            "Iteration 4, loss = 0.17182655\n",
            "Iteration 5, loss = 0.14922503\n",
            "Iteration 6, loss = 0.13269142\n",
            "Iteration 7, loss = 0.11979009\n",
            "Iteration 8, loss = 0.10912481\n",
            "Iteration 9, loss = 0.09910097\n",
            "Iteration 10, loss = 0.09110073\n"
          ],
          "name": "stdout"
        },
        {
          "output_type": "stream",
          "text": [
            "/usr/local/lib/python3.6/dist-packages/sklearn/neural_network/multilayer_perceptron.py:562: ConvergenceWarning: Stochastic Optimizer: Maximum iterations (10) reached and the optimization hasn't converged yet.\n",
            "  % self.max_iter, ConvergenceWarning)\n"
          ],
          "name": "stderr"
        },
        {
          "output_type": "stream",
          "text": [
            "Training set score:0.977500\n",
            "Test set score:0.951800\n",
            "CPU times: user 25.2 s, sys: 7.97 s, total: 33.1 s\n",
            "Wall time: 17 s\n"
          ],
          "name": "stdout"
        }
      ]
    },
    {
      "cell_type": "code",
      "metadata": {
        "colab_type": "code",
        "outputId": "4d0cea4c-eb79-4699-9495-5db3e9c7abc7",
        "id": "Q2wL0fQR1cdL",
        "colab": {
          "base_uri": "https://localhost:8080/",
          "height": 272
        }
      },
      "source": [
        "# plot MLP weights\n",
        "fig, axes = plt.subplots(3, 3)\n",
        "# use global min/max to ensure all weights are shown on the same scale\n",
        "vmin, vmax = mlp.coefs_[0].min(), mlp.coefs_[0].max()\n",
        "for coef, ax in zip(mlp.coefs_[0].T, axes.ravel()):\n",
        "  ax.matshow(coef.reshape(28, 28), cmap=plt.cm.gray, vmin=.5 *vmin, vmax = .5* vmax)\n",
        "  #ax.set_x_ticks(())\n",
        "  #ax.set_y_ticks(())\n",
        "  \n",
        "plt.show()"
      ],
      "execution_count": 0,
      "outputs": [
        {
          "output_type": "display_data",
          "data": {
            "image/png": "[encoded data removed]",
            "text/plain": [
              "<Figure size 432x288 with 9 Axes>"
            ]
          },
          "metadata": {
            "tags": []
          }
        }
      ]
    },
    {
      "cell_type": "markdown",
      "metadata": {
        "colab_type": "text",
        "id": "9vliDnnO8aoq"
      },
      "source": [
        "Create a confusion matrix to assess accuracy."
      ]
    },
    {
      "cell_type": "code",
      "metadata": {
        "colab_type": "code",
        "id": "xCyfYXUm8aor",
        "colab": {}
      },
      "source": [
        "# Predicting the Test set results\n",
        "y_pred = mlp.predict(X_test)\n",
        "y_pred = (y_pred > 0.5)"
      ],
      "execution_count": 0,
      "outputs": []
    },
    {
      "cell_type": "code",
      "metadata": {
        "colab_type": "code",
        "outputId": "a8548e1d-ffd4-4514-e8fe-7cc6defaf181",
        "id": "MI9U4izY8aou",
        "colab": {
          "base_uri": "https://localhost:8080/",
          "height": 187
        }
      },
      "source": [
        "# Creating the Confusion Matrix\n",
        "cm = confusion_matrix(y_test.argmax(axis=1), y_pred.argmax(axis=1))\n",
        "print(cm)"
      ],
      "execution_count": 0,
      "outputs": [
        {
          "output_type": "stream",
          "text": [
            "[[ 973    0    0    1    1    0    1    2    0    2]\n",
            " [   9 1121    0    1    0    1    1    1    1    0]\n",
            " [  33    0  988    0    0    0    2    3    6    0]\n",
            " [  19    0    4  981    0    0    0    1    2    3]\n",
            " [  21    0    7    0  938    0    2    1    1   12]\n",
            " [  49    1    2   12    1  820    1    0    5    1]\n",
            " [  15    3    1    0    3    8  927    0    1    0]\n",
            " [  39    1    6    7    0    0    1  969    1    4]\n",
            " [  35    0    1    4    1    5    5    4  919    0]\n",
            " [  27    3    0    3    4    1    1    3    4  963]]\n"
          ],
          "name": "stdout"
        }
      ]
    },
    {
      "cell_type": "markdown",
      "metadata": {
        "id": "qRNU2hNBoDoS",
        "colab_type": "text"
      },
      "source": [
        "#### Keras DNN Model - 784 Neurons per Layer"
      ]
    },
    {
      "cell_type": "markdown",
      "metadata": {
        "id": "8dEndxCkbESS",
        "colab_type": "text"
      },
      "source": [
        "The model is a simple neural network with one hidden layer with the same number of neurons as there are inputs (784)."
      ]
    },
    {
      "cell_type": "code",
      "metadata": {
        "id": "Jvh1K6K4oECW",
        "colab_type": "code",
        "colab": {}
      },
      "source": [
        "# define baseline model\n",
        "def baseline_model():\n",
        "\t# create model\n",
        "\tmodel = Sequential()\n",
        "\tmodel.add(Dense(num_pixels, input_dim=num_pixels, kernel_initializer='normal', activation='relu'))\n",
        "\tmodel.add(Dense(num_classes, kernel_initializer='normal', activation='softmax'))\n",
        "\t# Compile model\n",
        "\tmodel.compile(loss='categorical_crossentropy', optimizer='adam', metrics=['accuracy'])\n",
        "\treturn model"
      ],
      "execution_count": 0,
      "outputs": []
    },
    {
      "cell_type": "code",
      "metadata": {
        "id": "KNsqy_qsoEJW",
        "colab_type": "code",
        "outputId": "855ab5e0-6bc4-438f-b907-226b117e57d3",
        "colab": {
          "base_uri": "https://localhost:8080/",
          "height": 547
        }
      },
      "source": [
        "# build the model, measure model performance\n",
        "%%time\n",
        "model = baseline_model()\n",
        "\n",
        "# Fit the model\n",
        "history = model.fit(X_train, y_train, validation_data=(X_test, y_test), epochs=10, batch_size=200, verbose=2)\n",
        "# Final evaluation of the model\n",
        "scores = model.evaluate(X_test, y_test, verbose=0)\n",
        "print(\"Baseline Error: %.2f%%\" % (100-scores[1]*100))"
      ],
      "execution_count": 0,
      "outputs": [
        {
          "output_type": "stream",
          "text": [
            "WARNING:tensorflow:From /usr/local/lib/python3.6/dist-packages/tensorflow/python/framework/op_def_library.py:263: colocate_with (from tensorflow.python.framework.ops) is deprecated and will be removed in a future version.\n",
            "Instructions for updating:\n",
            "Colocations handled automatically by placer.\n",
            "WARNING:tensorflow:From /usr/local/lib/python3.6/dist-packages/tensorflow/python/ops/math_ops.py:3066: to_int32 (from tensorflow.python.ops.math_ops) is deprecated and will be removed in a future version.\n",
            "Instructions for updating:\n",
            "Use tf.cast instead.\n",
            "Train on 60000 samples, validate on 10000 samples\n",
            "Epoch 1/10\n",
            " - 2s - loss: 0.2761 - acc: 0.9213 - val_loss: 0.1414 - val_acc: 0.9581\n",
            "Epoch 2/10\n",
            " - 1s - loss: 0.1091 - acc: 0.9687 - val_loss: 0.0933 - val_acc: 0.9712\n",
            "Epoch 3/10\n",
            " - 1s - loss: 0.0714 - acc: 0.9789 - val_loss: 0.0783 - val_acc: 0.9766\n",
            "Epoch 4/10\n",
            " - 1s - loss: 0.0494 - acc: 0.9858 - val_loss: 0.0682 - val_acc: 0.9799\n",
            "Epoch 5/10\n",
            " - 1s - loss: 0.0357 - acc: 0.9899 - val_loss: 0.0648 - val_acc: 0.9799\n",
            "Epoch 6/10\n",
            " - 1s - loss: 0.0262 - acc: 0.9928 - val_loss: 0.0601 - val_acc: 0.9814\n",
            "Epoch 7/10\n",
            " - 1s - loss: 0.0192 - acc: 0.9954 - val_loss: 0.0629 - val_acc: 0.9809\n",
            "Epoch 8/10\n",
            " - 1s - loss: 0.0153 - acc: 0.9962 - val_loss: 0.0560 - val_acc: 0.9822\n",
            "Epoch 9/10\n",
            " - 1s - loss: 0.0105 - acc: 0.9979 - val_loss: 0.0587 - val_acc: 0.9827\n",
            "Epoch 10/10\n",
            " - 1s - loss: 0.0077 - acc: 0.9986 - val_loss: 0.0661 - val_acc: 0.9800\n",
            "Baseline Error: 2.00%\n",
            "CPU times: user 14.3 s, sys: 2.84 s, total: 17.1 s\n",
            "Wall time: 13.4 s\n"
          ],
          "name": "stdout"
        }
      ]
    },
    {
      "cell_type": "code",
      "metadata": {
        "id": "jgrfMdqoskDy",
        "colab_type": "code",
        "outputId": "22bd2b00-180e-4c23-b20e-d41df34453c1",
        "colab": {
          "base_uri": "https://localhost:8080/",
          "height": 221
        }
      },
      "source": [
        "print(model.summary())"
      ],
      "execution_count": 0,
      "outputs": [
        {
          "output_type": "stream",
          "text": [
            "_________________________________________________________________\n",
            "Layer (type)                 Output Shape              Param #   \n",
            "=================================================================\n",
            "dense_1 (Dense)              (None, 784)               615440    \n",
            "_________________________________________________________________\n",
            "dense_2 (Dense)              (None, 10)                7850      \n",
            "=================================================================\n",
            "Total params: 623,290\n",
            "Trainable params: 623,290\n",
            "Non-trainable params: 0\n",
            "_________________________________________________________________\n",
            "None\n"
          ],
          "name": "stdout"
        }
      ]
    },
    {
      "cell_type": "code",
      "metadata": {
        "id": "cArr3lPUoEQ4",
        "colab_type": "code",
        "outputId": "e885ab5a-aa50-44ff-bbd4-8c0d40c46c5a",
        "colab": {
          "base_uri": "https://localhost:8080/",
          "height": 302
        }
      },
      "source": [
        "# Plotting the training and validation loss\n",
        "import matplotlib.pyplot as plt\n",
        "\n",
        "loss = history.history['loss']\n",
        "val_loss = history.history['val_loss']\n",
        "\n",
        "epochs = range(1, len(loss) + 1)\n",
        "\n",
        "plt.plot(epochs, loss, 'go', label='Training loss')\n",
        "plt.plot(epochs, val_loss, 'b', label='Validation loss')\n",
        "plt.title('Training and validation loss')\n",
        "plt.xlabel('Epochs')\n",
        "plt.ylabel('Loss')\n",
        "plt.legend()\n",
        "\n",
        "plt.show()"
      ],
      "execution_count": 0,
      "outputs": [
        {
          "output_type": "display_data",
          "data": {
            "image/png": "[encoded data removed]",
            "text/plain": [
              "<Figure size 432x288 with 1 Axes>"
            ]
          },
          "metadata": {
            "tags": []
          }
        }
      ]
    },
    {
      "cell_type": "code",
      "metadata": {
        "id": "xFB6Nqjpio4c",
        "colab_type": "code",
        "outputId": "39d81ff6-aa00-491d-ec62-6c34b886d455",
        "colab": {
          "base_uri": "https://localhost:8080/",
          "height": 302
        }
      },
      "source": [
        "# Plotting the training and validation accuracy\n",
        "plt.clf()   # clear figure\n",
        "\n",
        "acc = history.history['acc']\n",
        "val_acc = history.history['val_acc']\n",
        "\n",
        "plt.plot(epochs, acc, 'go', label='Training acc')\n",
        "plt.plot(epochs, val_acc, 'b', label='Validation acc')\n",
        "plt.title('Training and validation accuracy')\n",
        "plt.xlabel('Epochs')\n",
        "plt.ylabel('Loss')\n",
        "plt.legend()\n",
        "\n",
        "plt.show()"
      ],
      "execution_count": 0,
      "outputs": [
        {
          "output_type": "display_data",
          "data": {
            "image/png": "[encoded data removed]",
            "text/plain": [
              "<Figure size 432x288 with 1 Axes>"
            ]
          },
          "metadata": {
            "tags": []
          }
        }
      ]
    },
    {
      "cell_type": "markdown",
      "metadata": {
        "id": "tHCrs1dtnYm6",
        "colab_type": "text"
      },
      "source": [
        "Create a confusion matrix to assess accuracy."
      ]
    },
    {
      "cell_type": "code",
      "metadata": {
        "id": "sZWI6atLpv93",
        "colab_type": "code",
        "colab": {}
      },
      "source": [
        "# Predicting the Test set results\n",
        "y_pred = model.predict(X_test)\n",
        "y_pred = (y_pred > 0.5)"
      ],
      "execution_count": 0,
      "outputs": []
    },
    {
      "cell_type": "code",
      "metadata": {
        "id": "c7-m2QnYnb2p",
        "colab_type": "code",
        "outputId": "523a5bbf-f4c0-4e3f-c283-b999834a6617",
        "colab": {
          "base_uri": "https://localhost:8080/",
          "height": 187
        }
      },
      "source": [
        "# Creating the Confusion Matrix\n",
        "cm = confusion_matrix(y_test.argmax(axis=1), y_pred.argmax(axis=1))\n",
        "print(cm)"
      ],
      "execution_count": 0,
      "outputs": [
        {
          "output_type": "stream",
          "text": [
            "[[ 972    1    1    0    1    0    2    1    1    1]\n",
            " [   2 1124    3    0    0    0    2    1    3    0]\n",
            " [   5    1  998    4    1    0    2   15    6    0]\n",
            " [   0    0    2  989    0    4    0    6    0    9]\n",
            " [   4    0    3    0  964    0    1    3    0    7]\n",
            " [   2    0    0    9    1  876    2    0    1    1]\n",
            " [   7    2    1    1    3    7  935    2    0    0]\n",
            " [   5    0    3    0    0    0    0 1017    0    3]\n",
            " [   9    1    3   10    4    5    1    4  928    9]\n",
            " [   3    2    0    3   11    1    0    4    0  985]]\n"
          ],
          "name": "stdout"
        }
      ]
    },
    {
      "cell_type": "code",
      "metadata": {
        "id": "2MKc_HcqoU-m",
        "colab_type": "code",
        "colab": {}
      },
      "source": [
        "# Visualizing weights and convolutions\n",
        "def get_activations(model, model_inputs, print_shape_only=True, layer_name=None):\n",
        "    import keras.backend as K\n",
        "    print('----- activations -----')\n",
        "    activations = []\n",
        "    inp = model.input\n",
        "\n",
        "    model_multi_inputs_cond = True\n",
        "    if not isinstance(inp, list):\n",
        "        # only one input! let's wrap it in a list.\n",
        "        inp = [inp]\n",
        "        model_multi_inputs_cond = False\n",
        "\n",
        "    outputs = [layer.output for layer in model.layers if\n",
        "               layer.name == layer_name or layer_name is None]  # all layer outputs\n",
        "\n",
        "    funcs = [K.function(inp + [K.learning_phase()], [out]) for out in outputs]  # evaluation functions\n",
        "\n",
        "    if model_multi_inputs_cond:\n",
        "        list_inputs = []\n",
        "        list_inputs.extend(model_inputs)\n",
        "        list_inputs.append(1.)\n",
        "    else:\n",
        "        list_inputs = [model_inputs, 1.]\n",
        "\n",
        "    # Learning phase. 1 = Test mode (no dropout or batch normalization)\n",
        "    # layer_outputs = [func([model_inputs, 1.])[0] for func in funcs]\n",
        "    layer_outputs = [func(list_inputs)[0] for func in funcs]\n",
        "    for layer_activations in layer_outputs:\n",
        "        activations.append(layer_activations)\n",
        "        if print_shape_only:\n",
        "            print(layer_activations.shape)\n",
        "        else:\n",
        "            print(layer_activations)\n",
        "    return activations"
      ],
      "execution_count": 0,
      "outputs": []
    },
    {
      "cell_type": "code",
      "metadata": {
        "id": "TvjhSg6pqjvw",
        "colab_type": "code",
        "outputId": "5dffb6d6-1ce9-4929-8b91-2a87e85623a0",
        "colab": {
          "base_uri": "https://localhost:8080/",
          "height": 68
        }
      },
      "source": [
        "activations = get_activations(model, X_test)"
      ],
      "execution_count": 0,
      "outputs": [
        {
          "output_type": "stream",
          "text": [
            "----- activations -----\n",
            "(10000, 784)\n",
            "(10000, 10)\n"
          ],
          "name": "stdout"
        }
      ]
    },
    {
      "cell_type": "code",
      "metadata": {
        "id": "bgUQ544vrO4U",
        "colab_type": "code",
        "outputId": "7d31e9a9-39e2-4b28-8846-c1cf92c377e8",
        "colab": {
          "base_uri": "https://localhost:8080/",
          "height": 136
        }
      },
      "source": [
        "print(activations[0])"
      ],
      "execution_count": 0,
      "outputs": [
        {
          "output_type": "stream",
          "text": [
            "[[1.0245473  0.14888251 0.         ... 0.         0.3187959  0.55733323]\n",
            " [0.1265097  0.         1.005538   ... 0.         0.         0.        ]\n",
            " [0.         1.2314919  0.3135202  ... 0.         0.         0.        ]\n",
            " ...\n",
            " [0.78791666 0.         0.         ... 0.4846087  1.4207877  0.        ]\n",
            " [0.35620636 0.         0.42138952 ... 0.03311625 0.21738215 0.        ]\n",
            " [0.8332108  1.2875623  0.         ... 0.         0.         0.        ]]\n"
          ],
          "name": "stdout"
        }
      ]
    },
    {
      "cell_type": "markdown",
      "metadata": {
        "colab_type": "text",
        "id": "Q02lJoa8h8bJ"
      },
      "source": [
        "### Section 4:  Conclusion"
      ]
    },
    {
      "cell_type": "markdown",
      "metadata": {
        "id": "X2Zs5w5IuIW2",
        "colab_type": "text"
      },
      "source": [
        "**Management problem: ** Regarding the management problem for this assignment. Suppose you are asked to develop a neural network model for digit classification. How would you go about training such a model? How would you judge the model's accuracy in digit classification with real data examples, such as customer or client handwritten digits on paper?"
      ]
    },
    {
      "cell_type": "markdown",
      "metadata": {
        "id": "pTw7fBUBO3lC",
        "colab_type": "text"
      },
      "source": [
        ">**Summary Table of Models:**\n",
        "\n",
        "\n",
        ">Number of Layers | Nodes Per Layer | Processing Time | Train Accuracy | Test Accuracy\n",
        ">--- | ---\n",
        ">1 | 10  | 6.62 s | 0.8154 | 0.8177\n",
        ">1 | 50  | 10.8 s | 0.9514 | 0.9373\n",
        ">1 | 100  | 15.8 s | 0.9775 | 0.9518\n",
        ">1 | 784 | 12.6 s | 0.9986| 0.9803"
      ]
    },
    {
      "cell_type": "markdown",
      "metadata": {
        "colab_type": "text",
        "id": "_vmpE0ikh8bL"
      },
      "source": [
        "**In Conclusion:**\n",
        "\n",
        "After fitting a number of neural networks, processing time and performance was compared across experimental treatments.\n",
        "\n",
        "The results showed:\n",
        "\n",
        "*    The Keras neural network classification model with 1 hidden layer and 784 nodes per layer resulted in the most accurate predictions for handwritten digits.\n",
        "*    Increasing the number nodes per layer increased accuracy.\n",
        "*    As the number of nodes increased, the processing time was slower, with the exception of the Keras model.\n",
        "\n",
        "The final recommendation is to implement the Keras neural network classificaiton model with 1 layers and 784 nodes per layer.  This model takes less time to process than other models with fewer nodes, it results in the most accurate predictions and is the most trustworthy."
      ]
    }
  ]
}