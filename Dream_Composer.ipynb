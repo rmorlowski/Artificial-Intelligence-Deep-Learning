{
  "nbformat": 4,
  "nbformat_minor": 0,
  "metadata": {
    "colab": {
      "name": "Dream_Composer.ipynb",
      "version": "0.3.2",
      "provenance": [],
      "collapsed_sections": [],
      "include_colab_link": true
    },
    "kernelspec": {
      "name": "python3",
      "display_name": "Python 3"
    },
    "accelerator": "GPU"
  },
  "cells": [
    {
      "cell_type": "markdown",
      "metadata": {
        "id": "view-in-github",
        "colab_type": "text"
      },
      "source": [
        "<a href=\"https://colab.research.google.com/github/rmorlowski/Artificial-Intelligence-Deep-Learning/blob/master/Dream_Composer.ipynb\" target=\"_parent\"><img src=\"https://colab.research.google.com/assets/colab-badge.svg\" alt=\"Open In Colab\"/></a>"
      ]
    },
    {
      "cell_type": "markdown",
      "metadata": {
        "id": "TRqJHwAaChkZ",
        "colab_type": "text"
      },
      "source": [
        "#Dream Composer"
      ]
    },
    {
      "cell_type": "markdown",
      "metadata": {
        "id": "esGFNN8rCmsq",
        "colab_type": "text"
      },
      "source": [
        "Deep learning / A.I. model that turns trained midi data into original compositions.\n",
        "\n",
        "*Deep RNN with LSTM*"
      ]
    },
    {
      "cell_type": "markdown",
      "metadata": {
        "id": "krTPqtpQG5wP",
        "colab_type": "text"
      },
      "source": [
        "The purpose of this assignment is to create “bots” to explore electronic music generation. This will be accomplished by comparing recurrent neural networks (RNN) with long-short-term memory (LSTM) and different inputs. A paired comparison test will be used to see if the model is capable of producing genre-specific music. The initial results prove promising for future research applying RNN with LSTM to music creation with both models generating pleasant sequences.\n",
        "\n",
        "\n",
        "---\n",
        "\n"
      ]
    },
    {
      "cell_type": "markdown",
      "metadata": {
        "id": "SVCEkCsbhxgc",
        "colab_type": "text"
      },
      "source": [
        "Relevant documentation includes:\n",
        "*   [F. Chollet - Deep Learning with Python](https://github.com/fchollet/deep-learning-with-python-notebooks/blob/master/8.1-text-generation-with-lstm.ipynb)\n",
        "*   [M. Cuthbert - M.I.T. Music21: A toolkit for computer-aided musicology.](http://web.mit.edu/music21/)\n",
        "*   [S. Skúli - How to Generate Music using a LSTM Neural Network in Keras](https://towardsdatascience.com/how-to-generate-music-using-a-lstm-neural-network-in-keras-68786834d4c5)"
      ]
    },
    {
      "cell_type": "markdown",
      "metadata": {
        "id": "mh7iGndpEQGl",
        "colab_type": "text"
      },
      "source": [
        "Import packages"
      ]
    },
    {
      "cell_type": "code",
      "metadata": {
        "id": "R2XGw3dnCas6",
        "colab_type": "code",
        "colab": {}
      },
      "source": [
        "\"\"\" This module prepares midi file data and feeds it to the neural\n",
        "    network for training \"\"\"\n",
        "import glob\n",
        "import pickle\n",
        "import numpy\n",
        "import time\n",
        "import music21\n",
        "from music21 import converter, instrument, note, chord\n",
        "from keras.models import Sequential, load_model\n",
        "from keras.layers import Dense\n",
        "from keras.layers import Dropout\n",
        "from keras.layers import LSTM\n",
        "from keras.layers import Activation\n",
        "from keras.optimizers import SGD\n",
        "from keras.utils import np_utils\n",
        "from keras.callbacks import ModelCheckpoint"
      ],
      "execution_count": 0,
      "outputs": []
    },
    {
      "cell_type": "code",
      "metadata": {
        "id": "C62WSq9WEpfn",
        "colab_type": "code",
        "outputId": "f474e666-100f-439f-e175-6d5689e153c1",
        "colab": {
          "base_uri": "https://localhost:8080/",
          "height": 51
        }
      },
      "source": [
        "%matplotlib inline     \n",
        "# imports the matplot library to plot graphs etc.\n",
        "# re-definition of sho()-method ---> \"HACK\" from https://github.com/psychemedia/showntell/blob/music/index_music.ipynb\n",
        "# see also this music21 issue: https://github.com/cuthbertLab/music21/issues/260\n",
        "%load_ext music21.ipython21\n",
        "\n",
        "from IPython.display import Image"
      ],
      "execution_count": 0,
      "outputs": [
        {
          "output_type": "stream",
          "text": [
            "The music21.ipython21 extension is already loaded. To reload it, use:\n",
            "  %reload_ext music21.ipython21\n"
          ],
          "name": "stdout"
        }
      ]
    },
    {
      "cell_type": "markdown",
      "metadata": {
        "id": "mIifLqnQXs1j",
        "colab_type": "text"
      },
      "source": [
        "Setup ngrok and run TensorBoard on Colab"
      ]
    },
    {
      "cell_type": "code",
      "metadata": {
        "id": "0YqOuxXjX85O",
        "colab_type": "code",
        "outputId": "2517ade9-ecb6-4d62-83a8-efed6569b066",
        "colab": {
          "base_uri": "https://localhost:8080/",
          "height": 255
        }
      },
      "source": [
        "!wget https://bin.equinox.io/c/4VmDzA7iaHb/ngrok-stable-linux-amd64.zip\n",
        "!unzip ngrok-stable-linux-amd64.zip"
      ],
      "execution_count": 0,
      "outputs": [
        {
          "output_type": "stream",
          "text": [
            "--2019-06-09 21:57:32--  https://bin.equinox.io/c/4VmDzA7iaHb/ngrok-stable-linux-amd64.zip\n",
            "Resolving bin.equinox.io (bin.equinox.io)... 35.173.3.255, 34.231.75.48, 3.214.163.243, ...\n",
            "Connecting to bin.equinox.io (bin.equinox.io)|35.173.3.255|:443... connected.\n",
            "HTTP request sent, awaiting response... 200 OK\n",
            "Length: 16648024 (16M) [application/octet-stream]\n",
            "Saving to: ‘ngrok-stable-linux-amd64.zip.2’\n",
            "\n",
            "ngrok-stable-linux- 100%[===================>]  15.88M  36.2MB/s    in 0.4s    \n",
            "\n",
            "2019-06-09 21:57:33 (36.2 MB/s) - ‘ngrok-stable-linux-amd64.zip.2’ saved [16648024/16648024]\n",
            "\n",
            "Archive:  ngrok-stable-linux-amd64.zip\n",
            "replace ngrok? [y]es, [n]o, [A]ll, [N]one, [r]ename: y\n",
            "  inflating: ngrok                   \n"
          ],
          "name": "stdout"
        }
      ]
    },
    {
      "cell_type": "code",
      "metadata": {
        "id": "frG2SLV8X8_o",
        "colab_type": "code",
        "colab": {}
      },
      "source": [
        "LOG_DIR = './log'\n",
        "get_ipython().system_raw(\n",
        "    'tensorboard --logdir {} --host 0.0.0.0 --port 6006 &'\n",
        "    .format(LOG_DIR)\n",
        ")"
      ],
      "execution_count": 0,
      "outputs": []
    },
    {
      "cell_type": "code",
      "metadata": {
        "id": "PeEP-7DhX9C6",
        "colab_type": "code",
        "colab": {}
      },
      "source": [
        "get_ipython().system_raw('./ngrok http 6006 &')"
      ],
      "execution_count": 0,
      "outputs": []
    },
    {
      "cell_type": "markdown",
      "metadata": {
        "id": "xerJBp29EVB1",
        "colab_type": "text"
      },
      "source": [
        "#### Ingest Data"
      ]
    },
    {
      "cell_type": "markdown",
      "metadata": {
        "id": "h9aQKCXL-ZJS",
        "colab_type": "text"
      },
      "source": [
        "**Mount zip folder to your Google Drive.**"
      ]
    },
    {
      "cell_type": "markdown",
      "metadata": {
        "id": "CpcTaXj00Qx_",
        "colab_type": "text"
      },
      "source": [
        "Add the folders with the midi data files to your Google 'My Drive' in a folder labeled 'midi_data'."
      ]
    },
    {
      "cell_type": "code",
      "metadata": {
        "id": "a503Swvg7ra6",
        "colab_type": "code",
        "outputId": "f9957ff8-943e-4b5b-d13a-735189750d34",
        "colab": {
          "base_uri": "https://localhost:8080/",
          "height": 34
        }
      },
      "source": [
        "# Mount G Drive\n",
        "from google.colab import drive\n",
        "drive.mount('/content/gdrive')"
      ],
      "execution_count": 0,
      "outputs": [
        {
          "output_type": "stream",
          "text": [
            "Drive already mounted at /content/gdrive; to attempt to forcibly remount, call drive.mount(\"/content/gdrive\", force_remount=True).\n"
          ],
          "name": "stdout"
        }
      ]
    },
    {
      "cell_type": "markdown",
      "metadata": {
        "id": "jAnBTcRn-p_i",
        "colab_type": "text"
      },
      "source": [
        "Enter your authorization code:"
      ]
    },
    {
      "cell_type": "markdown",
      "metadata": {
        "id": "F4_AQVSpF_9k",
        "colab_type": "text"
      },
      "source": [
        "---\n",
        "\n",
        "\n",
        "The problem is to develop two music generators, distinct in terms of the artist style or genre of music composition. “Electronic” music will represent genre A and “psychedelic rock” will represent genre B, and the resulting music generators will be Bot A and Bot B. The experimental design was created by training Bot A with transcribed songs by the artist “Odesza” to build an electronic music generator with these data. Next, Bot B was trained with transcribed songs by the artist “Tame Impala” to build a psychedelic rock music generator. \n",
        "\n",
        "\n",
        "---"
      ]
    },
    {
      "cell_type": "markdown",
      "metadata": {
        "id": "hnoeLFuFW9cd",
        "colab_type": "text"
      },
      "source": [
        "**NOTE:** Load the midi contents of the \"BotA\" or \"BotB\" folder to your gdrive in a folder labeled **midi_files** or load midi data to experiment on your own:"
      ]
    },
    {
      "cell_type": "markdown",
      "metadata": {
        "id": "tsRhCuUcG0ay",
        "colab_type": "text"
      },
      "source": [
        "**Midi Data**"
      ]
    },
    {
      "cell_type": "markdown",
      "metadata": {
        "id": "KUEPmhMshn7j",
        "colab_type": "text"
      },
      "source": [
        "Sort artists and songs alphabetically."
      ]
    },
    {
      "cell_type": "code",
      "metadata": {
        "id": "rm-MMdCBgGRv",
        "colab_type": "code",
        "outputId": "2f540911-1f07-4d32-e3e2-82da25674b3a",
        "colab": {
          "base_uri": "https://localhost:8080/",
          "height": 255
        }
      },
      "source": [
        "import os;\n",
        "for filename in sorted(os.listdir(\"/content/gdrive/My Drive/midi_files\")):\n",
        "        print (filename)"
      ],
      "execution_count": 0,
      "outputs": [
        {
          "output_type": "stream",
          "text": [
            "Hayden_James_-_Something_About_You_ODESZA_Remix.mid\n",
            "Jai_Wolf_-_Indian_Summer.mid\n",
            "ODESZA_-_A_Moment_Apart.mid\n",
            "ODESZA_-_Boy.mid\n",
            "ODESZA_-_Falls_ft_Sasha_Sloan.mid\n",
            "ODESZA_-_Higher_Ground_ft_Naomi_Wild.mid\n",
            "ODESZA_-_IPlayYouListen.mid\n",
            "ODESZA_-_It_s_Only_ft_Zyra.mid\n",
            "ODESZA_-_Late_Night.mid\n",
            "ODESZA_-_Line_of_Sight_ft_Wynne_Mansionair.mid\n",
            "ODESZA_-_Memories_That_You_Call.mid\n",
            "ODESZA_-_Say_My_Name_ft_Zyra.mid\n",
            "Porter_Robinson_-_Divinity_ODESZA_Remix.mid\n",
            "RUFUS_-_You_Were_Right.mid\n"
          ],
          "name": "stdout"
        }
      ]
    },
    {
      "cell_type": "code",
      "metadata": {
        "id": "bm383i_19pPl",
        "colab_type": "code",
        "outputId": "749ace78-6b10-4fe9-d441-8a86941b238a",
        "colab": {
          "base_uri": "https://localhost:8080/",
          "height": 34
        }
      },
      "source": [
        "# get the data\n",
        "cd '/content/gdrive/My Drive/'"
      ],
      "execution_count": 0,
      "outputs": [
        {
          "output_type": "stream",
          "text": [
            "/content/gdrive/My Drive\n"
          ],
          "name": "stdout"
        }
      ]
    },
    {
      "cell_type": "code",
      "metadata": {
        "id": "5Iw_AW_tgSYT",
        "colab_type": "code",
        "outputId": "33218612-9222-4c59-ea04-f4a4359dd30a",
        "colab": {
          "base_uri": "https://localhost:8080/",
          "height": 34
        }
      },
      "source": [
        "pwd"
      ],
      "execution_count": 0,
      "outputs": [
        {
          "output_type": "execute_result",
          "data": {
            "text/plain": [
              "'/content/gdrive/My Drive'"
            ]
          },
          "metadata": {
            "tags": []
          },
          "execution_count": 45
        }
      ]
    },
    {
      "cell_type": "markdown",
      "metadata": {
        "id": "WXBRRj8n_uhQ",
        "colab_type": "text"
      },
      "source": [
        "### EDA"
      ]
    },
    {
      "cell_type": "code",
      "metadata": {
        "id": "ip9nLzlE_OKF",
        "colab_type": "code",
        "outputId": "dda643da-6c24-483b-aaef-3e2e7efc33d8",
        "colab": {
          "base_uri": "https://localhost:8080/",
          "height": 34
        }
      },
      "source": [
        "# Count number of midi files in directory\n",
        "os.path\n",
        "\n",
        "# path joining version for other paths, location of midi files\n",
        "DIR = '/content/gdrive/My Drive/midi_files'\n",
        "print (len([name for name in os.listdir(DIR) if os.path.isfile(os.path.join(DIR, name))]))"
      ],
      "execution_count": 0,
      "outputs": [
        {
          "output_type": "stream",
          "text": [
            "14\n"
          ],
          "name": "stdout"
        }
      ]
    },
    {
      "cell_type": "markdown",
      "metadata": {
        "id": "9M83KzuB1331",
        "colab_type": "text"
      },
      "source": [
        "**Visualize data with music21**"
      ]
    },
    {
      "cell_type": "markdown",
      "metadata": {
        "id": "Y1pm55KlHa7I",
        "colab_type": "text"
      },
      "source": [
        "Let's choose a song from the directory listed above for further analysis."
      ]
    },
    {
      "cell_type": "code",
      "metadata": {
        "id": "oVPawfwO19tA",
        "colab_type": "code",
        "colab": {}
      },
      "source": [
        "#try data visualization with music21\n",
        "#https://web.mit.edu/music21/doc/about/what.html"
      ],
      "execution_count": 0,
      "outputs": []
    },
    {
      "cell_type": "code",
      "metadata": {
        "id": "hmVGb0AvpcOQ",
        "colab_type": "code",
        "outputId": "d50fb7eb-3add-41a7-ca46-a11fd78c7808",
        "colab": {
          "base_uri": "https://localhost:8080/",
          "height": 399
        }
      },
      "source": [
        "# Get a quick graph showing how common various pitches are in a a modern electronic piece:\n",
        "p = converter.parse('/content/gdrive/My Drive/midi_files/ODESZA_-_IPlayYouListen.mid')\n",
        "p.plot('histogram', 'pitch')"
      ],
      "execution_count": 0,
      "outputs": [
        {
          "output_type": "display_data",
          "data": {
            "image/png": "[encoded data removed]",
            "text/plain": [
              "<Figure size 720x432 with 1 Axes>"
            ]
          },
          "metadata": {
            "tags": [],
            "image/png": {
              "width": 585,
              "height": 382
            }
          }
        }
      ]
    },
    {
      "cell_type": "code",
      "metadata": {
        "id": "i3nm3z__qYES",
        "colab_type": "code",
        "colab": {}
      },
      "source": [
        "# Let's look at the musical notation for this piece:"
      ],
      "execution_count": 0,
      "outputs": []
    },
    {
      "cell_type": "code",
      "metadata": {
        "id": "LI0g_GndDq8b",
        "colab_type": "code",
        "outputId": "588776dd-bb8e-437b-be53-76b0d9ed057c",
        "colab": {
          "base_uri": "https://localhost:8080/",
          "height": 34
        }
      },
      "source": [
        "# What is the key of this song?\n",
        "p.analyze('key')"
      ],
      "execution_count": 0,
      "outputs": [
        {
          "output_type": "execute_result",
          "data": {
            "text/plain": [
              "<music21.key.Key of A major>"
            ]
          },
          "metadata": {
            "tags": []
          },
          "execution_count": 52
        }
      ]
    },
    {
      "cell_type": "markdown",
      "metadata": {
        "id": "C4nDENlgH_9O",
        "colab_type": "text"
      },
      "source": [
        "Below we have another excerpt from a midi file that has been read using Music21, only this time we have added the offset of the object behind it. This allows us to see the interval between each note and chord."
      ]
    },
    {
      "cell_type": "code",
      "metadata": {
        "id": "eqVXnuYhDw4m",
        "colab_type": "code",
        "outputId": "1200826f-1223-4957-a66f-24be0380195c",
        "colab": {
          "base_uri": "https://localhost:8080/",
          "height": 8364
        }
      },
      "source": [
        "# What does this song look like when translated to notes and chords?\n",
        "p.show('text')"
      ],
      "execution_count": 0,
      "outputs": [
        {
          "output_type": "stream",
          "text": [
            "{0.0} <music21.stream.Part 0x7fd0137f9588>\n",
            "    {0.0} <music21.instrument.Piano Piano>\n",
            "    {0.0} <music21.tempo.MetronomeMark animato Quarter=120.0>\n",
            "    {0.0} <music21.meter.TimeSignature 4/4>\n",
            "    {0.0} <music21.stream.Voice 0x7fd013585f60>\n",
            "        {0.0} <music21.note.Rest rest>\n",
            "        {0.25} <music21.note.Note F#>\n",
            "        {2.0} <music21.note.Note A>\n",
            "        {3.3333} <music21.note.Note F#>\n",
            "        {4.25} <music21.note.Note B>\n",
            "        {5.25} <music21.note.Note A>\n",
            "        {6.25} <music21.note.Note F#>\n",
            "        {6.6667} <music21.note.Note E>\n",
            "        {7.0} <music21.note.Note D>\n",
            "        {7.5} <music21.note.Note E>\n",
            "        {8.5} <music21.note.Note A>\n",
            "        {9.3333} <music21.note.Note F#>\n",
            "        {10.75} <music21.note.Note E>\n",
            "        {10.75} <music21.chord.Chord E6 E7>\n",
            "        {11.6667} <music21.note.Note A>\n",
            "        {12.6667} <music21.note.Note F#>\n",
            "        {13.5} <music21.note.Note E>\n",
            "        {14.0} <music21.note.Note D>\n",
            "        {14.75} <music21.note.Note C#>\n",
            "        {15.75} <music21.note.Note F#>\n",
            "        {16.6667} <music21.note.Note E>\n",
            "        {18.0} <music21.note.Note C#>\n",
            "        {19.0} <music21.note.Note F#>\n",
            "        {20.0} <music21.note.Note E>\n",
            "        {20.75} <music21.note.Note C#>\n",
            "        {22.25} <music21.note.Note A>\n",
            "        {22.75} <music21.note.Note B>\n",
            "        {23.25} <music21.note.Note C#>\n",
            "        {24.25} <music21.note.Note A>\n",
            "        {25.0} <music21.note.Note C#>\n",
            "        {26.0} <music21.note.Note A>\n",
            "        {26.5} <music21.note.Note B>\n",
            "        {27.3333} <music21.note.Note F#>\n",
            "        {29.6667} <music21.note.Note B>\n",
            "        {31.0} <music21.note.Note F#>\n",
            "        {31.5} <music21.note.Note B>\n",
            "        {33.0} <music21.note.Note F#>\n",
            "        {33.75} <music21.note.Note B>\n",
            "        {34.75} <music21.note.Note F#>\n",
            "        {35.25} <music21.note.Note B>\n",
            "        {36.6667} <music21.chord.Chord F#4 D6>\n",
            "        {37.75} <music21.note.Note D>\n",
            "        {39.0} <music21.note.Note A>\n",
            "        {40.25} <music21.note.Note E>\n",
            "        {40.75} <music21.note.Note A>\n",
            "        {42.0} <music21.note.Note F#>\n",
            "        {42.5} <music21.note.Note A>\n",
            "        {43.5} <music21.note.Note D>\n",
            "        {44.5} <music21.note.Note A>\n",
            "        {45.75} <music21.note.Note E>\n",
            "        {46.25} <music21.note.Note A>\n",
            "        {47.6667} <music21.note.Note E>\n",
            "        {48.25} <music21.note.Note A>\n",
            "        {49.5} <music21.note.Note E>\n",
            "        {50.0} <music21.note.Note A>\n",
            "        {51.0} <music21.note.Note B>\n",
            "        {52.25} <music21.note.Note B>\n",
            "        {52.75} <music21.note.Note C#>\n",
            "        {54.25} <music21.note.Note B>\n",
            "        {55.0} <music21.note.Note B>\n",
            "        {55.5} <music21.note.Note E>\n",
            "        {56.5} <music21.note.Note C#>\n",
            "        {57.3333} <music21.note.Note E>\n",
            "        {58.75} <music21.note.Note B>\n",
            "        {59.25} <music21.chord.Chord B2 B3 D4 F#4>\n",
            "        {60.0} <music21.note.Note D>\n",
            "        {60.25} <music21.chord.Chord B2 D4>\n",
            "        {61.0} <music21.chord.Chord B2 B3 F#4>\n",
            "        {61.75} <music21.note.Note D>\n",
            "        {62.0} <music21.chord.Chord B2 B3 D4>\n",
            "        {62.5} <music21.chord.Chord B2 D4>\n",
            "        {63.0} <music21.note.Note B>\n",
            "        {64.25} <music21.note.Note B>\n",
            "        {64.75} <music21.note.Note B>\n",
            "        {65.25} <music21.note.Note F#>\n",
            "        {66.5} <music21.note.Note A>\n",
            "        {67.5} <music21.chord.Chord A3 D4>\n",
            "        {68.0} <music21.note.Note F#>\n",
            "        {68.5} <music21.note.Note A>\n",
            "        {69.3333} <music21.chord.Chord A3 D4 F#4>\n",
            "        {70.25} <music21.note.Note A>\n",
            "        {70.75} <music21.chord.Chord A3 F#4>\n",
            "        {71.6667} <music21.chord.Chord A3 D4>\n",
            "        {72.25} <music21.note.Note A>\n",
            "        {73.0} <music21.chord.Chord A3 D4>\n",
            "        {73.5} <music21.note.Note F#>\n",
            "        {74.0} <music21.chord.Chord A2 E4>\n",
            "        {74.6667} <music21.note.Note C#>\n",
            "        {75.0} <music21.chord.Chord A2 A3 C#4 F#6>\n",
            "        {75.75} <music21.note.Note A>\n",
            "        {76.5} <music21.note.Note C#>\n",
            "        {76.75} <music21.note.Note A>\n",
            "        {77.25} <music21.chord.Chord A2 C#4 E4>\n",
            "        {78.25} <music21.chord.Chord A2 E4>\n",
            "        {79.0} <music21.chord.Chord A2 C#4 E4>\n",
            "        {79.5} <music21.note.Note A>\n",
            "        {80.0} <music21.note.Note C#>\n",
            "        {81.0} <music21.note.Note E>\n",
            "        {81.75} <music21.note.Note B>\n",
            "        {82.3333} <music21.note.Note E>\n",
            "        {82.75} <music21.note.Note B>\n",
            "        {83.6667} <music21.note.Note B>\n",
            "        {86.3333} <music21.chord.Chord E3 B3>\n",
            "        {87.0} <music21.chord.Chord E3 G#3 B3>\n",
            "        {87.6667} <music21.note.Note G#>\n",
            "        {88.25} <music21.note.Note B>\n",
            "        {88.6667} <music21.note.Note B>\n",
            "        {89.3333} <music21.note.Note D>\n",
            "        {89.6667} <music21.chord.Chord B2 B3 D4>\n",
            "        {90.5} <music21.note.Note B>\n",
            "        {91.25} <music21.note.Note D>\n",
            "        {91.5} <music21.chord.Chord B2 B3 D4>\n",
            "        {92.0} <music21.chord.Chord B2 B3 D4>\n",
            "        {92.5} <music21.note.Note B>\n",
            "        {93.0} <music21.note.Note B>\n",
            "        {93.75} <music21.chord.Chord B2 B3 D4 F#4>\n",
            "        {94.25} <music21.note.Note B>\n",
            "        {94.75} <music21.note.Note F#>\n",
            "        {96.25} <music21.chord.Chord D3 D4 F#4>\n",
            "        {96.75} <music21.note.Note D>\n",
            "        {97.0} <music21.note.Note A>\n",
            "        {97.5} <music21.note.Note F#>\n",
            "        {98.0} <music21.note.Note A>\n",
            "        {99.0} <music21.chord.Chord A3 D4>\n",
            "        {99.75} <music21.note.Note A>\n",
            "        {100.25} <music21.note.Note D>\n",
            "        {101.25} <music21.chord.Chord A3 F#4>\n",
            "        {102.25} <music21.note.Note A>\n",
            "        {103.0} <music21.note.Note F#>\n",
            "        {103.5} <music21.chord.Chord A2 C#4 E4>\n",
            "        {104.25} <music21.note.Note C#>\n",
            "        {104.5} <music21.chord.Chord A2 C#4 F#6>\n",
            "        {105.0} <music21.note.Note E>\n",
            "        {106.0} <music21.note.Note C#>\n",
            "        {106.3333} <music21.note.Note A>\n",
            "        {106.75} <music21.chord.Chord A2 C#4 E4>\n",
            "        {107.25} <music21.note.Note A>\n",
            "        {107.6667} <music21.note.Note A>\n",
            "        {108.6667} <music21.note.Note A>\n",
            "        {109.0} <music21.chord.Chord A2 E4>\n",
            "        {109.5} <music21.note.Note C#>\n",
            "        {110.5} <music21.note.Note E>\n",
            "        {111.0} <music21.chord.Chord E2 E3 G#3 B3>\n",
            "        {111.6667} <music21.note.Note G#>\n",
            "        {112.75} <music21.chord.Chord E2 A5>\n",
            "        {113.25} <music21.note.Note B>\n",
            "        {114.25} <music21.note.Note E>\n",
            "        {114.25} <music21.note.Note G#>\n",
            "        {115.0} <music21.chord.Chord E2 G#2>\n",
            "        {115.0} <music21.note.Note E>\n",
            "        {115.5} <music21.note.Note C#>\n",
            "        {116.0} <music21.chord.Chord E2 F#6>\n",
            "        {116.5} <music21.chord.Chord E3 G#3 B3 E4>\n",
            "        {117.0} <music21.note.Note G#>\n",
            "        {117.75} <music21.note.Note B>\n",
            "        {118.25} <music21.note.Note F#>\n",
            "        {119.25} <music21.note.Note B>\n",
            "        {120.25} <music21.note.Note A>\n",
            "        {121.5} <music21.note.Note F#>\n",
            "        {122.5} <music21.note.Note B>\n",
            "        {123.3333} <music21.note.Note A>\n",
            "        {124.25} <music21.note.Note F#>\n",
            "        {124.75} <music21.note.Note E>\n",
            "        {125.25} <music21.note.Note D>\n",
            "        {125.6667} <music21.note.Note E>\n",
            "        {126.6667} <music21.note.Note A>\n",
            "        {127.5} <music21.note.Note F#>\n",
            "        {129.0} <music21.chord.Chord E2 E6 E7>\n",
            "        {129.75} <music21.note.Note A>\n",
            "        {130.75} <music21.note.Note F#>\n",
            "        {131.6667} <music21.chord.Chord E6 E7>\n",
            "        {132.0} <music21.note.Note D>\n",
            "        {133.0} <music21.note.Note C#>\n",
            "        {134.0} <music21.chord.Chord F#6 F#7>\n",
            "        {135.0} <music21.note.Note E>\n",
            "        {136.25} <music21.note.Note C#>\n",
            "        {137.25} <music21.note.Note F#>\n",
            "        {138.0} <music21.note.Note E>\n",
            "        {138.25} <music21.note.Note E>\n",
            "        {139.0} <music21.note.Note C#>\n",
            "        {140.5} <music21.note.Note A>\n",
            "        {141.3333} <music21.note.Note C#>\n",
            "        {142.75} <music21.note.Note B>\n",
            "        {144.25} <music21.note.Note A>\n",
            "        {145.0} <music21.note.Note C#>\n",
            "        {145.5} <music21.note.Note F#>\n",
            "        {147.0} <music21.note.Note E>\n",
            "        {148.75} <music21.note.Note B>\n",
            "        {151.0} <music21.note.Note F#>\n",
            "        {152.0} <music21.note.Note B>\n",
            "        {153.0} <music21.note.Note A>\n",
            "        {153.75} <music21.chord.Chord F#6 F#7>\n",
            "        {154.25} <music21.note.Note E>\n",
            "        {154.75} <music21.note.Note D>\n",
            "        {155.25} <music21.note.Note E>\n",
            "        {156.0} <music21.chord.Chord F#2 A6>\n",
            "        {157.0} <music21.note.Note F#>\n",
            "        {158.3333} <music21.note.Note E>\n",
            "        {159.3333} <music21.note.Note A>\n",
            "        {160.25} <music21.note.Note F#>\n",
            "        {161.25} <music21.chord.Chord E2 E7>\n",
            "        {161.25} <music21.note.Note E>\n",
            "        {161.6667} <music21.note.Note D>\n",
            "        {162.5} <music21.note.Note C#>\n",
            "        {163.5} <music21.note.Note F#>\n",
            "        {164.5} <music21.note.Note E>\n",
            "        {165.75} <music21.note.Note C#>\n",
            "        {166.75} <music21.note.Note F#>\n",
            "        {167.6667} <music21.note.Note E>\n",
            "        {167.6667} <music21.note.Note E>\n",
            "        {168.5} <music21.note.Note C#>\n",
            "        {169.0} <music21.note.Note B>\n",
            "        {170.0} <music21.note.Note A>\n",
            "        {170.5} <music21.note.Note B>\n",
            "        {171.0} <music21.note.Note C#>\n",
            "        {172.25} <music21.note.Note B>\n",
            "        {172.75} <music21.note.Note C#>\n",
            "        {174.25} <music21.note.Note B>\n",
            "        {175.0} <music21.note.Note F#>\n",
            "        {176.5} <music21.note.Note E>\n",
            "        {176.5} <music21.note.Note E>\n",
            "    {0.0} <music21.stream.Voice 0x7fd00369dc50>\n",
            "        {0.0} <music21.note.Rest rest>\n",
            "        {1.0} <music21.note.Note B>\n",
            "        {1.25} <music21.note.Rest rest>\n",
            "        {2.0} <music21.note.Rest rest>\n",
            "        {9.3333} <music21.note.Note F#>\n",
            "        {12.6667} <music21.note.Note F#>\n",
            "        {16.75} <music21.note.Note E>\n",
            "        {21.3333} <music21.note.Note B>\n",
            "        {24.5} <music21.note.Note B>\n",
            "        {27.0} <music21.note.Note C#>\n",
            "        {28.75} <music21.note.Note E>\n",
            "        {29.6667} <music21.note.Note F#>\n",
            "        {32.25} <music21.note.Note D>\n",
            "        {34.0} <music21.note.Note D>\n",
            "        {35.6667} <music21.note.Note F#>\n",
            "        {37.0} <music21.note.Note A>\n",
            "        {38.5} <music21.note.Note F#>\n",
            "        {39.0} <music21.note.Note F#>\n",
            "        {40.3333} <music21.note.Note F#>\n",
            "        {41.25} <music21.note.Note A>\n",
            "        {42.0} <music21.note.Note F#>\n",
            "        {43.0} <music21.note.Note E>\n",
            "        {44.0} <music21.note.Note F#>\n",
            "        {44.5} <music21.note.Note C#>\n",
            "        {46.25} <music21.note.Note E>\n",
            "        {48.5} <music21.note.Note F#>\n",
            "        {50.5} <music21.note.Note C#>\n",
            "        {51.3333} <music21.note.Note E>\n",
            "        {52.5} <music21.note.Note G#>\n",
            "        {53.6667} <music21.note.Note E>\n",
            "        {54.6667} <music21.note.Note C#>\n",
            "        {56.0} <music21.note.Note B>\n",
            "        {57.0} <music21.note.Note B>\n",
            "        {60.0} <music21.note.Note B>\n",
            "        {60.6667} <music21.note.Note F#>\n",
            "        {62.0} <music21.note.Note F#>\n",
            "        {62.5} <music21.note.Note B>\n",
            "        {63.3333} <music21.note.Note B>\n",
            "        {64.25} <music21.chord.Chord B3 D4 F#4>\n",
            "        {64.75} <music21.chord.Chord B3 D4 F#4>\n",
            "        {65.3333} <music21.note.Note D>\n",
            "        {65.6667} <music21.chord.Chord B2 D4>\n",
            "        {66.5} <music21.note.Note D>\n",
            "        {67.25} <music21.note.Note D>\n",
            "        {67.5} <music21.note.Note F#>\n",
            "        {68.5} <music21.note.Note D>\n",
            "        {69.75} <music21.note.Note A>\n",
            "        {70.75} <music21.note.Note D>\n",
            "        {72.25} <music21.chord.Chord D4 F#4>\n",
            "        {72.75} <music21.note.Note D>\n",
            "        {73.0} <music21.note.Note F#>\n",
            "        {74.0} <music21.note.Note A>\n",
            "        {75.0} <music21.note.Note E>\n",
            "        {75.75} <music21.chord.Chord A3 E4>\n",
            "        {76.75} <music21.note.Note A>\n",
            "        {77.25} <music21.note.Note A>\n",
            "        {78.25} <music21.chord.Chord A3 F#6>\n",
            "        {79.0} <music21.note.Note A>\n",
            "        {79.5} <music21.note.Note A>\n",
            "        {80.25} <music21.note.Note C#>\n",
            "        {80.5} <music21.chord.Chord A2 C#4>\n",
            "        {81.3333} <music21.chord.Chord E2 E3 G#3>\n",
            "        {82.0} <music21.note.Note G#>\n",
            "        {83.25} <music21.chord.Chord E3 G#3 B3>\n",
            "        {84.0} <music21.note.Note G#>\n",
            "        {85.0} <music21.chord.Chord E4 A5>\n",
            "        {85.5} <music21.chord.Chord E3 B3>\n",
            "        {86.0} <music21.note.Note C#>\n",
            "        {87.75} <music21.note.Note E>\n",
            "        {88.75} <music21.chord.Chord B2 D4>\n",
            "        {89.6667} <music21.note.Note B>\n",
            "        {90.5} <music21.note.Note B>\n",
            "        {91.5} <music21.note.Note F#>\n",
            "        {92.0} <music21.note.Note F#>\n",
            "        {92.75} <music21.chord.Chord B3 B6>\n",
            "        {93.75} <music21.note.Note A>\n",
            "        {95.0} <music21.note.Note D>\n",
            "        {95.25} <music21.note.Note B>\n",
            "        {95.6667} <music21.note.Note D>\n",
            "        {96.25} <music21.note.Note A>\n",
            "        {97.0} <music21.note.Note A>\n",
            "        {99.0} <music21.note.Note F#>\n",
            "        {100.25} <music21.chord.Chord A3 D4>\n",
            "        {101.25} <music21.note.Note D>\n",
            "        {102.25} <music21.note.Note E>\n",
            "        {103.5} <music21.note.Note A>\n",
            "        {104.5} <music21.note.Note A>\n",
            "        {105.3333} <music21.note.Note A>\n",
            "        {106.3333} <music21.chord.Chord A3 C#4 E4>\n",
            "        {107.6667} <music21.note.Note A>\n",
            "        {108.6667} <music21.note.Note A>\n",
            "        {109.0} <music21.chord.Chord A3 C#4>\n",
            "        {109.75} <music21.note.Note C#>\n",
            "        {110.0} <music21.chord.Chord A2 E4>\n",
            "        {111.0} <music21.note.Note E>\n",
            "        {111.3333} <music21.note.Note B>\n",
            "        {111.75} <music21.note.Note E>\n",
            "        {112.25} <music21.note.Note B>\n",
            "        {112.75} <music21.note.Note G#>\n",
            "        {112.75} <music21.chord.Chord E3 G#3 B3>\n",
            "        {113.6667} <music21.chord.Chord E2 G#2>\n",
            "        {114.0} <music21.chord.Chord E3 G#3>\n",
            "        {114.5} <music21.chord.Chord E4 A5>\n",
            "        {115.0} <music21.chord.Chord G#3 B3>\n",
            "        {116.0} <music21.note.Note G#>\n",
            "        {116.5} <music21.chord.Chord E2 G#2>\n",
            "        {117.3333} <music21.note.Note E>\n",
            "        {125.6667} <music21.note.Note E>\n",
            "        {127.5} <music21.note.Note F#>\n",
            "        {129.75} <music21.note.Note A>\n",
            "        {130.75} <music21.note.Note F#>\n",
            "        {135.0} <music21.note.Note E>\n",
            "        {137.25} <music21.note.Note F#>\n",
            "        {138.0} <music21.note.Note E>\n",
            "        {139.5} <music21.note.Note B>\n",
            "        {140.75} <music21.note.Note B>\n",
            "        {142.25} <music21.note.Note A>\n",
            "        {143.25} <music21.note.Note C#>\n",
            "        {144.5} <music21.note.Note B>\n",
            "        {147.0} <music21.note.Note E>\n",
            "        {147.75} <music21.note.Note F#>\n",
            "        {149.6667} <music21.note.Note A>\n",
            "        {151.0} <music21.note.Note F#>\n",
            "        {157.0} <music21.note.Note F#>\n",
            "        {158.3333} <music21.chord.Chord E6 E7>\n",
            "        {160.25} <music21.note.Note F#>\n",
            "        {163.5} <music21.note.Note F#>\n",
            "        {164.5} <music21.note.Note E>\n",
            "        {171.75} <music21.note.Note A>\n",
            "        {173.6667} <music21.note.Note A>\n",
            "        {174.6667} <music21.note.Note C#>\n",
            "        {175.1667} <music21.note.Rest rest>\n",
            "    {0.0} <music21.stream.Voice 0x7fcfaf939ba8>\n",
            "        {0.0} <music21.note.Rest rest>\n",
            "        {30.3333} <music21.note.Note D>\n",
            "        {30.3333} <music21.note.Rest rest>\n",
            "        {33.0} <music21.note.Note F#>\n",
            "        {34.75} <music21.note.Note A>\n",
            "        {36.0} <music21.note.Note D>\n",
            "        {38.0} <music21.note.Note A>\n",
            "        {39.6667} <music21.note.Note D>\n",
            "        {41.3333} <music21.note.Note D>\n",
            "        {43.25} <music21.note.Note D>\n",
            "        {45.0} <music21.note.Note C#>\n",
            "        {47.0} <music21.note.Note C#>\n",
            "        {48.75} <music21.note.Note C#>\n",
            "        {50.6667} <music21.note.Note C#>\n",
            "        {51.75} <music21.note.Note A>\n",
            "        {53.25} <music21.note.Note B>\n",
            "        {54.3333} <music21.note.Note G#>\n",
            "        {55.5} <music21.note.Note A>\n",
            "        {56.25} <music21.note.Note G#>\n",
            "        {58.0} <music21.note.Note G#>\n",
            "        {60.25} <music21.note.Note F#>\n",
            "        {61.0} <music21.note.Note D>\n",
            "        {62.3333} <music21.note.Note F#>\n",
            "        {63.3333} <music21.note.Note B>\n",
            "        {65.6667} <music21.chord.Chord B3 F#4 E6>\n",
            "        {66.6667} <music21.note.Note D>\n",
            "        {67.5} <music21.note.Note A>\n",
            "        {69.75} <music21.chord.Chord D4 F#4>\n",
            "        {71.6667} <music21.note.Note F#>\n",
            "        {73.0} <music21.note.Note D>\n",
            "        {74.0} <music21.note.Note C#>\n",
            "        {75.3333} <music21.note.Note E>\n",
            "        {76.75} <music21.chord.Chord C#4 E4>\n",
            "        {77.6667} <music21.note.Note A>\n",
            "        {78.25} <music21.note.Note C#>\n",
            "        {79.5} <music21.chord.Chord C#4 E4>\n",
            "        {80.5} <music21.note.Note A>\n",
            "        {81.3333} <music21.chord.Chord B3 A5>\n",
            "        {82.3333} <music21.chord.Chord E3 G#3 B3>\n",
            "        {83.25} <music21.note.Note E>\n",
            "        {84.0} <music21.chord.Chord E3 G#3 B3>\n",
            "        {84.6667} <music21.chord.Chord E3 G#3 B3>\n",
            "        {85.5} <music21.note.Note G#>\n",
            "        {86.5} <music21.note.Note E>\n",
            "        {87.75} <music21.chord.Chord G#3 B3>\n",
            "        {90.0} <music21.note.Note F#>\n",
            "        {90.5} <music21.note.Note D>\n",
            "        {92.75} <music21.note.Note D>\n",
            "        {94.25} <music21.chord.Chord B3 D4>\n",
            "        {95.25} <music21.chord.Chord B3 D4 E6>\n",
            "        {97.0} <music21.note.Note D>\n",
            "        {98.0} <music21.note.Note D>\n",
            "        {99.3333} <music21.note.Note A>\n",
            "        {100.25} <music21.note.Note F#>\n",
            "        {101.25} <music21.note.Note F#>\n",
            "        {102.3333} <music21.note.Note D>\n",
            "        {102.6667} <music21.chord.Chord A3 D4 D6>\n",
            "        {104.5} <music21.note.Note E>\n",
            "        {105.3333} <music21.chord.Chord A3 E4>\n",
            "        {106.75} <music21.note.Note A>\n",
            "        {107.6667} <music21.note.Note C#>\n",
            "        {108.6667} <music21.chord.Chord C#4 E4>\n",
            "        {110.0} <music21.note.Note C#>\n",
            "        {111.0} <music21.note.Note A>\n",
            "        {111.75} <music21.note.Note E>\n",
            "        {113.3333} <music21.note.Note G#>\n",
            "        {114.0} <music21.note.Note B>\n",
            "        {115.25} <music21.note.Note E>\n",
            "        {115.25} <music21.note.Note G#>\n",
            "        {116.0} <music21.chord.Chord E3 G#3 B3>\n",
            "        {117.3333} <music21.chord.Chord E3 E6>\n",
            "        {147.75} <music21.note.Note F#>\n",
            "        {147.75} <music21.note.Rest rest>\n",
            "    {0.0} <music21.stream.Voice 0x7fcfaf899e48>\n",
            "        {0.0} <music21.note.Rest rest>\n",
            "        {30.6667} <music21.note.Note B>\n",
            "        {30.6667} <music21.note.Rest rest>\n",
            "        {31.5} <music21.note.Note A>\n",
            "        {33.3333} <music21.note.Note B>\n",
            "        {34.75} <music21.note.Note F#>\n",
            "        {36.0} <music21.note.Note E>\n",
            "        {37.0} <music21.note.Note E>\n",
            "        {45.3333} <music21.note.Note F#>\n",
            "        {47.6667} <music21.note.Note C#>\n",
            "        {49.5} <music21.note.Note E>\n",
            "        {51.75} <music21.note.Note E>\n",
            "        {53.6667} <music21.note.Note A>\n",
            "        {57.0} <music21.note.Note F#>\n",
            "        {58.25} <music21.note.Note E>\n",
            "        {62.5} <music21.note.Note F#>\n",
            "        {63.3333} <music21.note.Note D>\n",
            "        {66.0} <music21.note.Note D>\n",
            "        {68.5} <music21.note.Note F#>\n",
            "        {72.5} <music21.note.Note E>\n",
            "        {75.75} <music21.note.Note C#>\n",
            "        {80.5} <music21.note.Note E>\n",
            "        {81.3333} <music21.note.Note E>\n",
            "        {85.75} <music21.note.Note G#>\n",
            "        {86.5} <music21.note.Note G#>\n",
            "        {87.75} <music21.note.Note E>\n",
            "        {90.5} <music21.note.Note F#>\n",
            "        {94.25} <music21.note.Note F#>\n",
            "        {95.25} <music21.note.Note F#>\n",
            "        {97.0} <music21.chord.Chord D4 F#4>\n",
            "        {98.0} <music21.note.Note F#>\n",
            "        {99.3333} <music21.note.Note D>\n",
            "        {100.25} <music21.note.Note A>\n",
            "        {101.6667} <music21.note.Note D>\n",
            "        {102.6667} <music21.note.Note F#>\n",
            "        {105.3333} <music21.note.Note C#>\n",
            "        {107.6667} <music21.note.Note E>\n",
            "        {111.75} <music21.chord.Chord G#3 B3>\n",
            "        {113.6667} <music21.chord.Chord E3 G#3 B3>\n",
            "        {117.3333} <music21.chord.Chord G#3 B3>\n",
            "        {117.8333} <music21.note.Rest rest>\n",
            "    {0.0} <music21.stream.Voice 0x7fcfaf84e898>\n",
            "        {0.0} <music21.note.Rest rest>\n",
            "        {66.6667} <music21.note.Note F#>\n",
            "        {66.6667} <music21.note.Rest rest>\n",
            "        {68.5} <music21.note.Note F#>\n",
            "        {75.75} <music21.note.Note E>\n",
            "        {98.0} <music21.note.Note F#>\n",
            "        {99.3333} <music21.note.Note F#>\n",
            "        {101.6667} <music21.note.Note A>\n",
            "        {107.6667} <music21.note.Note F#>\n",
            "        {111.75} <music21.note.Note G#>\n",
            "        {111.75} <music21.note.Rest rest>\n",
            "    {0.0} <music21.stream.Voice 0x7fcfaf860320>\n",
            "        {69.0} <music21.note.Note D>\n",
            "        {98.6667} <music21.note.Note D>\n",
            "        {101.6667} <music21.note.Note F#>\n"
          ],
          "name": "stdout"
        }
      ]
    },
    {
      "cell_type": "markdown",
      "metadata": {
        "id": "nX8HcpUhHxOw",
        "colab_type": "text"
      },
      "source": [
        "The data splits into two object types: Notes and Chords. Note objects contain information about the pitch, octave, and offset of the Note."
      ]
    },
    {
      "cell_type": "code",
      "metadata": {
        "id": "dGJr09uQDw-g",
        "colab_type": "code",
        "outputId": "9f48335e-bd4f-407c-a8de-2aa8eeb40334",
        "colab": {
          "base_uri": "https://localhost:8080/",
          "height": 34
        }
      },
      "source": [
        "# How many parts are there to this song?\n",
        "# Note: it should be = 1 if the .midi is a piano instrument\n",
        "len(p.parts)"
      ],
      "execution_count": 0,
      "outputs": [
        {
          "output_type": "execute_result",
          "data": {
            "text/plain": [
              "1"
            ]
          },
          "metadata": {
            "tags": []
          },
          "execution_count": 54
        }
      ]
    },
    {
      "cell_type": "code",
      "metadata": {
        "id": "DreoOC76DxEs",
        "colab_type": "code",
        "outputId": "6c674a1b-b557-44cd-e977-6249d26497da",
        "colab": {
          "base_uri": "https://localhost:8080/",
          "height": 34
        }
      },
      "source": [
        "# How many notes are in this song?\n",
        "len(p.flat.notes)"
      ],
      "execution_count": 0,
      "outputs": [
        {
          "output_type": "execute_result",
          "data": {
            "text/plain": [
              "467"
            ]
          },
          "metadata": {
            "tags": []
          },
          "execution_count": 55
        }
      ]
    },
    {
      "cell_type": "code",
      "metadata": {
        "id": "QKm0E5qnD5lG",
        "colab_type": "code",
        "outputId": "2e0cae93-734d-4d42-ef8c-89429877caa1",
        "colab": {
          "base_uri": "https://localhost:8080/",
          "height": 399
        }
      },
      "source": [
        "# Plot the piano roll:\n",
        "p.plot('pianoroll')"
      ],
      "execution_count": 0,
      "outputs": [
        {
          "output_type": "display_data",
          "data": {
            "image/png": "[encoded data removed]",
            "text/plain": [
              "<Figure size 720x432 with 1 Axes>"
            ]
          },
          "metadata": {
            "tags": [],
            "image/png": {
              "width": 589,
              "height": 382
            }
          }
        }
      ]
    },
    {
      "cell_type": "code",
      "metadata": {
        "id": "0d-3DS2RD8G-",
        "colab_type": "code",
        "outputId": "95b2ba5f-43d7-48de-c1c0-dafb80b11f69",
        "colab": {
          "base_uri": "https://localhost:8080/",
          "height": 945
        }
      },
      "source": [
        "# Plot a horizontal bar chart loking at pitch and offset in more detail:\n",
        "p.plot('horizontalbar')"
      ],
      "execution_count": 0,
      "outputs": [
        {
          "output_type": "display_data",
          "data": {
            "image/png": "[encoded data removed]",
            "text/plain": [
              "<Figure size 720x288 with 1 Axes>"
            ]
          },
          "metadata": {
            "tags": [],
            "image/png": {
              "width": 589,
              "height": 273
            }
          }
        },
        {
          "output_type": "display_data",
          "data": {
            "image/png": "[encoded data removed]",
            "text/plain": [
              "<Figure size 720x288 with 1 Axes>"
            ]
          },
          "metadata": {
            "tags": [],
            "image/png": {
              "width": 585,
              "height": 273
            }
          }
        },
        {
          "output_type": "display_data",
          "data": {
            "image/png": "[encoded data removed]",
            "text/plain": [
              "<Figure size 720x432 with 1 Axes>"
            ]
          },
          "metadata": {
            "tags": [],
            "image/png": {
              "width": 589,
              "height": 382
            }
          }
        }
      ]
    },
    {
      "cell_type": "markdown",
      "metadata": {
        "id": "d2h0rMlBKM2y",
        "colab_type": "text"
      },
      "source": [
        "### Train the Model"
      ]
    },
    {
      "cell_type": "markdown",
      "metadata": {
        "id": "RIKimPjvILfv",
        "colab_type": "text"
      },
      "source": [
        "First, we will load the data into an array as can be seen in the code snippet below:"
      ]
    },
    {
      "cell_type": "code",
      "metadata": {
        "id": "0dIieuOnCg7l",
        "colab_type": "code",
        "colab": {}
      },
      "source": [
        "def train_network():\n",
        "    \"\"\" Train a Neural Network to generate music \"\"\"\n",
        "    notes = get_notes()\n",
        "\n",
        "    # get amount of pitch names\n",
        "    n_vocab = len(set(notes))\n",
        "\n",
        "    network_input, network_output = prepare_sequences(notes, n_vocab)\n",
        "\n",
        "    model = create_network(network_input, n_vocab)\n",
        "\n",
        "    train(model, network_input, network_output)"
      ],
      "execution_count": 0,
      "outputs": []
    },
    {
      "cell_type": "markdown",
      "metadata": {
        "id": "ANyU0NsOIZtc",
        "colab_type": "text"
      },
      "source": [
        "Start by loading each file into a Music21 stream object using the converter.parse(file) function. Using that stream object we get a list of all the notes and chords in the file."
      ]
    },
    {
      "cell_type": "markdown",
      "metadata": {
        "id": "8zpLwC7oFGWb",
        "colab_type": "text"
      },
      "source": [
        "Load data from working directory with midi songs."
      ]
    },
    {
      "cell_type": "code",
      "metadata": {
        "id": "iX1kxq66ChCL",
        "colab_type": "code",
        "colab": {}
      },
      "source": [
        "def get_notes():\n",
        "    \"\"\" Get all the notes and chords from the midi files in the ./midi_songs directory \"\"\"\n",
        "    notes = []\n",
        "\n",
        "    for file in glob.glob(\"/content/gdrive/My Drive/midi_files/*.mid\"):\n",
        "        midi = converter.parse(file)\n",
        "\n",
        "        print(\"Parsing %s\" % file)\n",
        "\n",
        "        notes_to_parse = None\n",
        "\n",
        "        try: # file has instrument parts\n",
        "            s2 = instrument.partitionByInstrument(midi)\n",
        "            notes_to_parse = s2.parts[0].recurse() \n",
        "        except: # file has notes in a flat structure\n",
        "            notes_to_parse = midi.flat.notes\n",
        "\n",
        "        for element in notes_to_parse:\n",
        "            if isinstance(element, note.Note):\n",
        "                notes.append(str(element.pitch))\n",
        "            elif isinstance(element, chord.Chord):\n",
        "                notes.append('.'.join(str(n) for n in element.normalOrder))\n",
        "\n",
        "    with open('data/notes', 'wb') as filepath:\n",
        "        pickle.dump(notes, filepath)\n",
        "\n",
        "    return notes"
      ],
      "execution_count": 0,
      "outputs": []
    },
    {
      "cell_type": "markdown",
      "metadata": {
        "id": "t8ynqusUIf-5",
        "colab_type": "text"
      },
      "source": [
        "Now that we have put all the notes and chords into a sequential list we can create the sequences that will serve as the input of our network."
      ]
    },
    {
      "cell_type": "markdown",
      "metadata": {
        "id": "JuGb92fEIpV5",
        "colab_type": "text"
      },
      "source": [
        "Next, we have to create input sequences for the network and their respective outputs. The output for each input sequence will be the first note or chord that comes after the sequence of notes in the input sequence in our list of notes."
      ]
    },
    {
      "cell_type": "markdown",
      "metadata": {
        "id": "Ry0xF_TDIxhj",
        "colab_type": "text"
      },
      "source": [
        "The final step in preparing the data for the network is to normalise the input and one-hot encode the output."
      ]
    },
    {
      "cell_type": "code",
      "metadata": {
        "id": "33b5J8U9ChFg",
        "colab_type": "code",
        "colab": {}
      },
      "source": [
        "def prepare_sequences(notes, n_vocab):\n",
        "    \"\"\" Prepare the sequences used by the Neural Network \"\"\"\n",
        "    sequence_length = 25\n",
        "\n",
        "    # get all pitch names\n",
        "    pitchnames = sorted(set(item for item in notes))\n",
        "\n",
        "     # create a dictionary to map pitches to integers\n",
        "    note_to_int = dict((note, number) for number, note in enumerate(pitchnames))\n",
        "\n",
        "    network_input = []\n",
        "    network_output = []\n",
        "\n",
        "    # create input sequences and the corresponding outputs\n",
        "    for i in range(0, len(notes) - sequence_length, 1):\n",
        "        sequence_in = notes[i:i + sequence_length]\n",
        "        sequence_out = notes[i + sequence_length]\n",
        "        network_input.append([note_to_int[char] for char in sequence_in])\n",
        "        network_output.append(note_to_int[sequence_out])\n",
        "\n",
        "    n_patterns = len(network_input)\n",
        "\n",
        "    # reshape the input into a format compatible with LSTM layers\n",
        "    network_input = numpy.reshape(network_input, (n_patterns, sequence_length, 1))\n",
        "    # normalize input\n",
        "    network_input = network_input / float(n_vocab)\n",
        "\n",
        "    network_output = np_utils.to_categorical(network_output)\n",
        "\n",
        "    return (network_input, network_output)"
      ],
      "execution_count": 0,
      "outputs": []
    },
    {
      "cell_type": "code",
      "metadata": {
        "id": "Aey9A2sw4WlW",
        "colab_type": "code",
        "colab": {}
      },
      "source": [
        "# define hyperparameters:\n",
        "# Time-Based Learning Rate Schedule\n",
        "epochs = 200\n",
        "#learning_rate = 0.1\n",
        "#decay_rate = learning_rate / epochs\n",
        "#momentum = 0.8\n",
        "#sgd = SGD(lr=learning_rate, momentum=momentum, decay=decay_rate, nesterov=False)"
      ],
      "execution_count": 0,
      "outputs": []
    },
    {
      "cell_type": "markdown",
      "metadata": {
        "id": "8m5pZmVuKBdk",
        "colab_type": "text"
      },
      "source": [
        "### Keras Model"
      ]
    },
    {
      "cell_type": "markdown",
      "metadata": {
        "id": "7i96vjYdI4o2",
        "colab_type": "text"
      },
      "source": [
        "Finally we get to designing the model architecture."
      ]
    },
    {
      "cell_type": "code",
      "metadata": {
        "id": "LdiF3c_fChKe",
        "colab_type": "code",
        "colab": {}
      },
      "source": [
        "def create_network(network_input, n_vocab):\n",
        "    \"\"\" create the structure of the neural network \"\"\"\n",
        "    model = Sequential()\n",
        "    model.add(LSTM(\n",
        "        512,\n",
        "        input_shape=(network_input.shape[1], network_input.shape[2]),\n",
        "        return_sequences=True\n",
        "    ))\n",
        "    model.add(Dropout(0.2))\n",
        "    model.add(LSTM(512, return_sequences=True))\n",
        "    model.add(Dropout(0.3))\n",
        "    model.add(LSTM(512))\n",
        "    model.add(Dense(256))\n",
        "    model.add(Dropout(0.4))\n",
        "    model.add(Dense(n_vocab))\n",
        "    model.add(Activation('softmax'))\n",
        "    model.compile(loss='categorical_crossentropy', optimizer='rmsprop')\n",
        "\n",
        "    return model"
      ],
      "execution_count": 0,
      "outputs": []
    },
    {
      "cell_type": "markdown",
      "metadata": {
        "id": "eEh5ZRKbTDPZ",
        "colab_type": "text"
      },
      "source": [
        "**NOTE:** You can stop the process at any point in time and the weights from the latest completed epoch will be available for sequence generation purposes."
      ]
    },
    {
      "cell_type": "code",
      "metadata": {
        "id": "t-iUHri4Jw7L",
        "colab_type": "code",
        "colab": {}
      },
      "source": [
        "from keras.callbacks import TensorBoard"
      ],
      "execution_count": 0,
      "outputs": []
    },
    {
      "cell_type": "markdown",
      "metadata": {
        "id": "IZS-X4x8JEk6",
        "colab_type": "text"
      },
      "source": [
        "To calculate the loss for each iteration of the training we will be using categorical cross entropy since each of our outputs only belongs to a single class and we have more than two classes to work with. And to optimise our network we will use a RMSprop optimizer as it is usually a very good choice for recurrent neural networks."
      ]
    },
    {
      "cell_type": "code",
      "metadata": {
        "id": "iq6te5APD5Y7",
        "colab_type": "code",
        "outputId": "414387be-5a30-435e-b04d-93d4df974fa9",
        "colab": {
          "base_uri": "https://localhost:8080/",
          "height": 3961
        }
      },
      "source": [
        "%%time\n",
        "def train(model, network_input, network_output):\n",
        "    \"\"\" train the neural network \"\"\"\n",
        "    filepath = \"Real.hdf5\"\n",
        "    checkpoint = ModelCheckpoint(\n",
        "        filepath,\n",
        "        monitor='loss',\n",
        "        verbose=0,\n",
        "        save_best_only=True,\n",
        "        mode='min'\n",
        "    )\n",
        "    tbCallBack = TensorBoard(log_dir='./log',\n",
        "                         write_graph=True,\n",
        "                         write_grads=True,\n",
        "                         write_images=True)\n",
        "    callbacks_list = [checkpoint, tbCallBack]\n",
        "    \n",
        "    #model = load_model('Real.hdf5')\n",
        "    model.fit(network_input, network_output, epochs=epochs, batch_size=32, callbacks=callbacks_list)\n",
        "    model.save('Real.hdf5')\n",
        "\n",
        "if __name__ == '__main__':\n",
        "    train_network()"
      ],
      "execution_count": 0,
      "outputs": [
        {
          "output_type": "stream",
          "text": [
            "Parsing /content/gdrive/My Drive/midi_files/Porter_Robinson_-_Divinity_ODESZA_Remix.mid\n",
            "Parsing /content/gdrive/My Drive/midi_files/ODESZA_-_Say_My_Name_ft_Zyra.mid\n",
            "Parsing /content/gdrive/My Drive/midi_files/ODESZA_-_Memories_That_You_Call.mid\n",
            "Parsing /content/gdrive/My Drive/midi_files/ODESZA_-_Line_of_Sight_ft_Wynne_Mansionair.mid\n",
            "Parsing /content/gdrive/My Drive/midi_files/ODESZA_-_Late_Night.mid\n",
            "Parsing /content/gdrive/My Drive/midi_files/ODESZA_-_It_s_Only_ft_Zyra.mid\n",
            "Parsing /content/gdrive/My Drive/midi_files/ODESZA_-_Boy.mid\n",
            "Parsing /content/gdrive/My Drive/midi_files/ODESZA_-_Higher_Ground_ft_Naomi_Wild.mid\n",
            "Parsing /content/gdrive/My Drive/midi_files/ODESZA_-_IPlayYouListen.mid\n",
            "Parsing /content/gdrive/My Drive/midi_files/ODESZA_-_A_Moment_Apart.mid\n",
            "Parsing /content/gdrive/My Drive/midi_files/ODESZA_-_Falls_ft_Sasha_Sloan.mid\n",
            "Parsing /content/gdrive/My Drive/midi_files/Hayden_James_-_Something_About_You_ODESZA_Remix.mid\n",
            "Parsing /content/gdrive/My Drive/midi_files/RUFUS_-_You_Were_Right.mid\n",
            "Parsing /content/gdrive/My Drive/midi_files/Jai_Wolf_-_Indian_Summer.mid\n",
            "Epoch 1/200\n",
            "18105/18105 [==============================] - 65s 4ms/step - loss: 4.5282\n",
            "Epoch 2/200\n",
            "18105/18105 [==============================] - 64s 4ms/step - loss: 4.4102\n",
            "Epoch 3/200\n",
            "18105/18105 [==============================] - 63s 3ms/step - loss: 4.3966\n",
            "Epoch 4/200\n",
            "18105/18105 [==============================] - 63s 4ms/step - loss: 4.3524\n",
            "Epoch 5/200\n",
            "18105/18105 [==============================] - 63s 4ms/step - loss: 4.3061\n",
            "Epoch 6/200\n",
            "18105/18105 [==============================] - 63s 3ms/step - loss: 4.2658\n",
            "Epoch 7/200\n",
            "18105/18105 [==============================] - 63s 3ms/step - loss: 4.2005\n",
            "Epoch 8/200\n",
            "18105/18105 [==============================] - 63s 3ms/step - loss: 4.1605\n",
            "Epoch 9/200\n",
            "18105/18105 [==============================] - 63s 3ms/step - loss: 4.1012\n",
            "Epoch 10/200\n",
            "18105/18105 [==============================] - 63s 3ms/step - loss: 4.0537\n",
            "Epoch 11/200\n",
            "18105/18105 [==============================] - 63s 3ms/step - loss: 4.0104\n",
            "Epoch 12/200\n",
            "18105/18105 [==============================] - 63s 3ms/step - loss: 3.9538\n",
            "Epoch 13/200\n",
            "18105/18105 [==============================] - 64s 4ms/step - loss: 3.8774\n",
            "Epoch 14/200\n",
            "18105/18105 [==============================] - 64s 4ms/step - loss: 3.8146\n",
            "Epoch 15/200\n",
            "18105/18105 [==============================] - 63s 3ms/step - loss: 3.7324\n",
            "Epoch 16/200\n",
            "18105/18105 [==============================] - 63s 3ms/step - loss: 3.6430\n",
            "Epoch 17/200\n",
            "18105/18105 [==============================] - 63s 3ms/step - loss: 3.5370\n",
            "Epoch 18/200\n",
            "18105/18105 [==============================] - 63s 3ms/step - loss: 3.4147\n",
            "Epoch 19/200\n",
            "18105/18105 [==============================] - 63s 3ms/step - loss: 3.2833\n",
            "Epoch 20/200\n",
            "18105/18105 [==============================] - 63s 3ms/step - loss: 3.1391\n",
            "Epoch 21/200\n",
            "18105/18105 [==============================] - 63s 3ms/step - loss: 2.9840\n",
            "Epoch 22/200\n",
            "18105/18105 [==============================] - 63s 3ms/step - loss: 2.8274\n",
            "Epoch 23/200\n",
            "18105/18105 [==============================] - 63s 3ms/step - loss: 2.6619\n",
            "Epoch 24/200\n",
            "18105/18105 [==============================] - 63s 3ms/step - loss: 2.5143\n",
            "Epoch 25/200\n",
            "18105/18105 [==============================] - 62s 3ms/step - loss: 2.3983\n",
            "Epoch 26/200\n",
            "18105/18105 [==============================] - 63s 3ms/step - loss: 2.2841\n",
            "Epoch 27/200\n",
            "18105/18105 [==============================] - 63s 4ms/step - loss: 2.1638\n",
            "Epoch 28/200\n",
            "18105/18105 [==============================] - 64s 4ms/step - loss: 2.0198\n",
            "Epoch 29/200\n",
            "18105/18105 [==============================] - 64s 4ms/step - loss: 1.8826\n",
            "Epoch 30/200\n",
            "18105/18105 [==============================] - 64s 4ms/step - loss: 1.7420\n",
            "Epoch 31/200\n",
            "18105/18105 [==============================] - 64s 4ms/step - loss: 1.6113\n",
            "Epoch 32/200\n",
            "18105/18105 [==============================] - 63s 3ms/step - loss: 1.4874\n",
            "Epoch 33/200\n",
            "18105/18105 [==============================] - 64s 4ms/step - loss: 1.3706\n",
            "Epoch 34/200\n",
            "18105/18105 [==============================] - 64s 4ms/step - loss: 1.2668\n",
            "Epoch 35/200\n",
            "18105/18105 [==============================] - 63s 3ms/step - loss: 1.1720\n",
            "Epoch 36/200\n",
            "18105/18105 [==============================] - 62s 3ms/step - loss: 1.0727\n",
            "Epoch 37/200\n",
            "18105/18105 [==============================] - 62s 3ms/step - loss: 1.0032\n",
            "Epoch 38/200\n",
            "18105/18105 [==============================] - 62s 3ms/step - loss: 0.9213\n",
            "Epoch 39/200\n",
            "18105/18105 [==============================] - 61s 3ms/step - loss: 0.8687\n",
            "Epoch 40/200\n",
            "18105/18105 [==============================] - 61s 3ms/step - loss: 0.8066\n",
            "Epoch 41/200\n",
            "18105/18105 [==============================] - 61s 3ms/step - loss: 0.7571\n",
            "Epoch 42/200\n",
            "18105/18105 [==============================] - 61s 3ms/step - loss: 0.7215\n",
            "Epoch 43/200\n",
            "18105/18105 [==============================] - 61s 3ms/step - loss: 0.6784\n",
            "Epoch 44/200\n",
            "18105/18105 [==============================] - 61s 3ms/step - loss: 0.6379\n",
            "Epoch 45/200\n",
            "18105/18105 [==============================] - 61s 3ms/step - loss: 0.6044\n",
            "Epoch 46/200\n",
            "18105/18105 [==============================] - 61s 3ms/step - loss: 0.5877\n",
            "Epoch 47/200\n",
            "18105/18105 [==============================] - 60s 3ms/step - loss: 0.5533\n",
            "Epoch 48/200\n",
            "18105/18105 [==============================] - 61s 3ms/step - loss: 0.5309\n",
            "Epoch 49/200\n",
            "18105/18105 [==============================] - 61s 3ms/step - loss: 0.5082\n",
            "Epoch 50/200\n",
            "18105/18105 [==============================] - 60s 3ms/step - loss: 0.4948\n",
            "Epoch 51/200\n",
            "18105/18105 [==============================] - 60s 3ms/step - loss: 0.4765\n",
            "Epoch 52/200\n",
            "18105/18105 [==============================] - 60s 3ms/step - loss: 0.4578\n",
            "Epoch 53/200\n",
            "18105/18105 [==============================] - 60s 3ms/step - loss: 0.4454\n",
            "Epoch 54/200\n",
            "18105/18105 [==============================] - 60s 3ms/step - loss: 0.4272\n",
            "Epoch 55/200\n",
            "18105/18105 [==============================] - 60s 3ms/step - loss: 0.4199\n",
            "Epoch 56/200\n",
            "18105/18105 [==============================] - 59s 3ms/step - loss: 0.4134\n",
            "Epoch 57/200\n",
            "18105/18105 [==============================] - 59s 3ms/step - loss: 0.3899\n",
            "Epoch 58/200\n",
            "18105/18105 [==============================] - 59s 3ms/step - loss: 0.3824\n",
            "Epoch 59/200\n",
            "18105/18105 [==============================] - 59s 3ms/step - loss: 0.3778\n",
            "Epoch 60/200\n",
            "18105/18105 [==============================] - 58s 3ms/step - loss: 0.3748\n",
            "Epoch 61/200\n",
            "18105/18105 [==============================] - 58s 3ms/step - loss: 0.3555\n",
            "Epoch 62/200\n",
            "18105/18105 [==============================] - 62s 3ms/step - loss: 0.3443\n",
            "Epoch 63/200\n",
            "18105/18105 [==============================] - 61s 3ms/step - loss: 0.3402\n",
            "Epoch 64/200\n",
            "18105/18105 [==============================] - 61s 3ms/step - loss: 0.3321\n",
            "Epoch 65/200\n",
            "18105/18105 [==============================] - 60s 3ms/step - loss: 0.3292\n",
            "Epoch 66/200\n",
            "18105/18105 [==============================] - 60s 3ms/step - loss: 0.3369\n",
            "Epoch 67/200\n",
            "18105/18105 [==============================] - 60s 3ms/step - loss: 0.3271\n",
            "Epoch 68/200\n",
            "18105/18105 [==============================] - 60s 3ms/step - loss: 0.3276\n",
            "Epoch 69/200\n",
            "18105/18105 [==============================] - 60s 3ms/step - loss: 0.3173\n",
            "Epoch 70/200\n",
            "18105/18105 [==============================] - 60s 3ms/step - loss: 0.3114\n",
            "Epoch 71/200\n",
            "18105/18105 [==============================] - 60s 3ms/step - loss: 0.3051\n",
            "Epoch 72/200\n",
            "18105/18105 [==============================] - 60s 3ms/step - loss: 0.3007\n",
            "Epoch 73/200\n",
            "18105/18105 [==============================] - 61s 3ms/step - loss: 0.2995\n",
            "Epoch 74/200\n",
            "18105/18105 [==============================] - 61s 3ms/step - loss: 0.2881\n",
            "Epoch 75/200\n",
            "18105/18105 [==============================] - 60s 3ms/step - loss: 0.2918\n",
            "Epoch 76/200\n",
            "18105/18105 [==============================] - 60s 3ms/step - loss: 0.2901\n",
            "Epoch 77/200\n",
            "18105/18105 [==============================] - 60s 3ms/step - loss: 0.2823\n",
            "Epoch 78/200\n",
            "18105/18105 [==============================] - 60s 3ms/step - loss: 0.2862\n",
            "Epoch 79/200\n",
            "18105/18105 [==============================] - 60s 3ms/step - loss: 0.2741\n",
            "Epoch 80/200\n",
            "18105/18105 [==============================] - 60s 3ms/step - loss: 0.2732\n",
            "Epoch 81/200\n",
            "18105/18105 [==============================] - 60s 3ms/step - loss: 0.2625\n",
            "Epoch 82/200\n",
            "18105/18105 [==============================] - 60s 3ms/step - loss: 0.2589\n",
            "Epoch 83/200\n",
            "18105/18105 [==============================] - 60s 3ms/step - loss: 0.2594\n",
            "Epoch 84/200\n",
            "18105/18105 [==============================] - 60s 3ms/step - loss: 0.2647\n",
            "Epoch 85/200\n",
            "18105/18105 [==============================] - 60s 3ms/step - loss: 0.2561\n",
            "Epoch 86/200\n",
            "18105/18105 [==============================] - 60s 3ms/step - loss: 0.2553\n",
            "Epoch 87/200\n",
            "18105/18105 [==============================] - 60s 3ms/step - loss: 0.2526\n",
            "Epoch 88/200\n",
            "18105/18105 [==============================] - 60s 3ms/step - loss: 0.2593\n",
            "Epoch 89/200\n",
            "18105/18105 [==============================] - 61s 3ms/step - loss: 0.2414\n",
            "Epoch 90/200\n",
            "18105/18105 [==============================] - 61s 3ms/step - loss: 0.2445\n",
            "Epoch 91/200\n",
            "18105/18105 [==============================] - 60s 3ms/step - loss: 0.2450\n",
            "Epoch 92/200\n",
            "18105/18105 [==============================] - 60s 3ms/step - loss: 0.2422\n",
            "Epoch 93/200\n",
            "18105/18105 [==============================] - 60s 3ms/step - loss: 0.2399\n",
            "Epoch 94/200\n",
            "18105/18105 [==============================] - 60s 3ms/step - loss: 0.2435\n",
            "Epoch 95/200\n",
            "18105/18105 [==============================] - 61s 3ms/step - loss: 0.2346\n",
            "Epoch 96/200\n",
            "18105/18105 [==============================] - 60s 3ms/step - loss: 0.2321\n",
            "Epoch 97/200\n",
            "18105/18105 [==============================] - 60s 3ms/step - loss: 0.2240\n",
            "Epoch 98/200\n",
            "18105/18105 [==============================] - 60s 3ms/step - loss: 0.2324\n",
            "Epoch 99/200\n",
            "18105/18105 [==============================] - 60s 3ms/step - loss: 0.2259\n",
            "Epoch 100/200\n",
            "18105/18105 [==============================] - 61s 3ms/step - loss: 0.2262\n",
            "Epoch 101/200\n",
            "18105/18105 [==============================] - 60s 3ms/step - loss: 0.2291\n",
            "Epoch 102/200\n",
            "18105/18105 [==============================] - 60s 3ms/step - loss: 0.2254\n",
            "Epoch 103/200\n",
            "18105/18105 [==============================] - 60s 3ms/step - loss: 0.2195\n",
            "Epoch 104/200\n",
            "18105/18105 [==============================] - 60s 3ms/step - loss: 0.2174\n",
            "Epoch 105/200\n",
            "18105/18105 [==============================] - 61s 3ms/step - loss: 0.2180\n",
            "Epoch 106/200\n",
            "18105/18105 [==============================] - 60s 3ms/step - loss: 0.2155\n",
            "Epoch 107/200\n",
            "18105/18105 [==============================] - 61s 3ms/step - loss: 0.2106\n",
            "Epoch 108/200\n",
            "18105/18105 [==============================] - 60s 3ms/step - loss: 0.2076\n",
            "Epoch 109/200\n",
            "14720/18105 [=======================>......] - ETA: 11s - loss: 0.2057Buffered data was truncated after reaching the output size limit."
          ],
          "name": "stdout"
        }
      ]
    },
    {
      "cell_type": "markdown",
      "metadata": {
        "id": "H2J8jVA5QT_m",
        "colab_type": "text"
      },
      "source": [
        "#### Review Results in **TensorBoard**"
      ]
    },
    {
      "cell_type": "code",
      "metadata": {
        "id": "OrKIjtC5Yb-5",
        "colab_type": "code",
        "colab": {}
      },
      "source": [
        "! curl -s http://localhost:4040/api/tunnels | python3 -c \\\n",
        "    \"import sys, json; print(json.load(sys.stdin)['tunnels'][0]['public_url'])\""
      ],
      "execution_count": 0,
      "outputs": []
    },
    {
      "cell_type": "markdown",
      "metadata": {
        "id": "NitbhSy6J26f",
        "colab_type": "text"
      },
      "source": [
        "### Generate Music"
      ]
    },
    {
      "cell_type": "markdown",
      "metadata": {
        "id": "c9-G25mQJhu3",
        "colab_type": "text"
      },
      "source": [
        "Now that we have finished training the network it is time to have some fun with the network we have spent hours training."
      ]
    },
    {
      "cell_type": "code",
      "metadata": {
        "id": "p7MenlUMD5cn",
        "colab_type": "code",
        "colab": {}
      },
      "source": [
        "\"\"\" This module generates notes for a midi file using the\n",
        "    trained neural network \"\"\"\n",
        "import pickle\n",
        "import numpy\n",
        "from music21 import instrument, note, stream, chord\n",
        "from keras.models import Sequential, load_model\n",
        "from keras.layers import Dense\n",
        "from keras.layers import Dropout\n",
        "from keras.layers import LSTM\n",
        "from keras.layers import Activation"
      ],
      "execution_count": 0,
      "outputs": []
    },
    {
      "cell_type": "code",
      "metadata": {
        "id": "JUh4zaXWD5ft",
        "colab_type": "code",
        "colab": {}
      },
      "source": [
        "def generate():\n",
        "    \"\"\" Generate a piano midi file \"\"\"\n",
        "    #load the notes used to train the model\n",
        "    with open('data/notes', 'rb') as filepath:\n",
        "        notes = pickle.load(filepath)\n",
        "\n",
        "    # Get all pitch names\n",
        "    pitchnames = sorted(set(item for item in notes))\n",
        "    # Get all pitch names\n",
        "    n_vocab = len(set(notes))\n",
        "\n",
        "    network_input, normalized_input = prepare_sequences(notes, pitchnames, n_vocab)\n",
        "    model = create_network(normalized_input, n_vocab)\n",
        "    prediction_output = generate_notes(model, network_input, pitchnames, n_vocab)\n",
        "    create_midi(prediction_output)"
      ],
      "execution_count": 0,
      "outputs": []
    },
    {
      "cell_type": "code",
      "metadata": {
        "id": "HYwBdxkLD5iw",
        "colab_type": "code",
        "colab": {}
      },
      "source": [
        "def prepare_sequences(notes, pitchnames, n_vocab):\n",
        "    \"\"\" Prepare the sequences used by the Neural Network \"\"\"\n",
        "    # map between notes and integers and back\n",
        "    note_to_int = dict((note, number) for number, note in enumerate(pitchnames))\n",
        "\n",
        "    sequence_length = 25\n",
        "    network_input = []\n",
        "    output = []\n",
        "    for i in range(0, len(notes) - sequence_length, 1):\n",
        "        sequence_in = notes[i:i + sequence_length]\n",
        "        sequence_out = notes[i + sequence_length]\n",
        "        network_input.append([note_to_int[char] for char in sequence_in])\n",
        "        output.append(note_to_int[sequence_out])\n",
        "\n",
        "    n_patterns = len(network_input)\n",
        "\n",
        "    # reshape the input into a format compatible with LSTM layers\n",
        "    normalized_input = numpy.reshape(network_input, (n_patterns, sequence_length, 1))\n",
        "    # normalize input\n",
        "    normalized_input = normalized_input / float(n_vocab)\n",
        "\n",
        "    return (network_input, normalized_input)"
      ],
      "execution_count": 0,
      "outputs": []
    },
    {
      "cell_type": "markdown",
      "metadata": {
        "id": "YfADOgyNJqOb",
        "colab_type": "text"
      },
      "source": [
        "To be able to use the neural network to generate music you will have to put it into the same state as before. For simplicity we will reuse code from the training section to prepare the data and set up the network model in the same way as before. Except, that instead of training the network we load the weights that we saved during the training section into the model."
      ]
    },
    {
      "cell_type": "code",
      "metadata": {
        "id": "qtMTYPQnD5ln",
        "colab_type": "code",
        "colab": {}
      },
      "source": [
        "def create_network(network_input, n_vocab):\n",
        "    \"\"\" create the structure of the neural network \"\"\"\n",
        "    model = Sequential()\n",
        "    model.add(LSTM(\n",
        "        512,\n",
        "        input_shape=(network_input.shape[1], network_input.shape[2]),\n",
        "        return_sequences=True\n",
        "    ))\n",
        "    model.add(Dropout(0.2))\n",
        "    model.add(LSTM(512, return_sequences=True))\n",
        "    model.add(Dropout(0.3))\n",
        "    model.add(LSTM(512))\n",
        "    model.add(Dense(256))\n",
        "    model.add(Dropout(0.4))\n",
        "    model.add(Dense(n_vocab))\n",
        "    model.add(Activation('softmax'))\n",
        "    model.compile(loss='categorical_crossentropy', optimizer='rmsprop')\n",
        "\n",
        "    # Load the weights to each node\n",
        "    model.load_weights('Real.hdf5')\n",
        "\n",
        "    return model"
      ],
      "execution_count": 0,
      "outputs": []
    },
    {
      "cell_type": "markdown",
      "metadata": {
        "id": "gGx7QVc5KG7h",
        "colab_type": "text"
      },
      "source": [
        "Since we have a full list of note sequences at our disposal we will pick a random index in the list as our starting point, this allows us to rerun the generation code without changing anything and get different results every time."
      ]
    },
    {
      "cell_type": "code",
      "metadata": {
        "id": "C7C3_ta9D53F",
        "colab_type": "code",
        "colab": {}
      },
      "source": [
        "def generate_notes(model, network_input, pitchnames, n_vocab):\n",
        "    \"\"\" Generate notes from the neural network based on a sequence of notes \"\"\"\n",
        "    # pick a random sequence from the input as a starting point for the prediction\n",
        "    start = numpy.random.randint(0, len(network_input)-1)\n",
        "\n",
        "    int_to_note = dict((number, note) for number, note in enumerate(pitchnames))\n",
        "\n",
        "    pattern = network_input[start]\n",
        "    prediction_output = []\n",
        "\n",
        "    # generate 500 notes\n",
        "    for note_index in range(500):\n",
        "        prediction_input = numpy.reshape(pattern, (1, len(pattern), 1))\n",
        "        prediction_input = prediction_input / float(n_vocab)\n",
        "\n",
        "        prediction = model.predict(prediction_input, verbose=0)\n",
        "\n",
        "        index = numpy.argmax(prediction)\n",
        "        result = int_to_note[index]\n",
        "        prediction_output.append(result)\n",
        "\n",
        "        pattern.append(index)\n",
        "        pattern = pattern[1:len(pattern)]\n",
        "\n",
        "    return prediction_output\n"
      ],
      "execution_count": 0,
      "outputs": []
    },
    {
      "cell_type": "markdown",
      "metadata": {
        "id": "TOWd22-mKXwI",
        "colab_type": "text"
      },
      "source": [
        "Now that we have all the encoded representations of the notes and chords in an array we can start decoding them and creating an array of Note and Chord objects."
      ]
    },
    {
      "cell_type": "markdown",
      "metadata": {
        "id": "SSrrBO3RKNzZ",
        "colab_type": "text"
      },
      "source": [
        "At the end of each iteration we increase the offset by 0.5 and append the Note/Chord object created to a list."
      ]
    },
    {
      "cell_type": "code",
      "metadata": {
        "id": "EiK5f4hiChNZ",
        "colab_type": "code",
        "colab": {}
      },
      "source": [
        "def create_midi(prediction_output):\n",
        "    \"\"\" convert the output from the prediction to notes and create a midi file\n",
        "        from the notes \"\"\"\n",
        "    offset = 0\n",
        "    output_notes = []\n",
        "\n",
        "    # create note and chord objects based on the values generated by the model\n",
        "    for pattern in prediction_output:\n",
        "        # pattern is a chord\n",
        "        if ('.' in pattern) or pattern.isdigit():\n",
        "            notes_in_chord = pattern.split('.')\n",
        "            notes = []\n",
        "            for current_note in notes_in_chord:\n",
        "                new_note = note.Note(int(current_note))\n",
        "                new_note.storedInstrument = instrument.Piano()\n",
        "                notes.append(new_note)\n",
        "            new_chord = chord.Chord(notes)\n",
        "            new_chord.offset = offset\n",
        "            output_notes.append(new_chord)\n",
        "        # pattern is a note\n",
        "        else:\n",
        "            new_note = note.Note(pattern)\n",
        "            new_note.offset = offset\n",
        "            new_note.storedInstrument = instrument.Piano()\n",
        "            output_notes.append(new_note)\n",
        "\n",
        "        # increase offset each iteration so that notes do not stack\n",
        "        offset += 0.5\n",
        "\n",
        "    midi_stream = stream.Stream(output_notes)\n",
        "\n",
        "    midi_stream.write('midi', fp='test_output.mid')\n",
        "\n",
        "if __name__ == '__main__':\n",
        "    generate()"
      ],
      "execution_count": 0,
      "outputs": []
    },
    {
      "cell_type": "markdown",
      "metadata": {
        "id": "1qRF1laYKsmi",
        "colab_type": "text"
      },
      "source": [
        "**Good luck!  Cross your fingers the model runs in a reasonable amount of time.**"
      ]
    },
    {
      "cell_type": "markdown",
      "metadata": {
        "colab_type": "text",
        "id": "Q02lJoa8h8bJ"
      },
      "source": [
        "### Conclusion"
      ]
    },
    {
      "cell_type": "markdown",
      "metadata": {
        "id": "pSm5PmW4XESp",
        "colab_type": "text"
      },
      "source": [
        "After fitting both neural networks, processing time and performance was compared across experimental treatments. The performance loss varied significantly between each run depending on where the random sequence started from using the input for the prediction."
      ]
    },
    {
      "cell_type": "markdown",
      "metadata": {
        "id": "GcxAtRf5LIdE",
        "colab_type": "text"
      },
      "source": [
        "\n",
        ">>>> **Summary Table:**\n",
        "\n",
        "\n",
        "\n",
        ">Model | Genre |Corpus Length | Number of Epochs | Processing Time | Loss\n",
        ">--- | --- | --- | --- | --- | ---\n",
        ">Bot A | Electronic | 20055| 200| 4hr 21min | 0.2428\n",
        ">Bot B |Psych-Rock | 11000 | 200| 2hr 35min | 0.1244"
      ]
    },
    {
      "cell_type": "markdown",
      "metadata": {
        "id": "hytcURX-OmoU",
        "colab_type": "text"
      },
      "source": [
        "Training an RNN LSTM model with new midi data is extremely computationally expensive and only accurate for short sequences. The majority of the artificial intelligence music creation algorithms available online use pre-trained models. The RNN LSTM models successfully processed these sequences over time but were relatively expensive and varied in accuracy. The final takeaway for a musician that would like to augment artificial intelligence into their workflow is creating genre-specific music is possible, with the caveat that it may only produce short cohesive sequences."
      ]
    },
    {
      "cell_type": "markdown",
      "metadata": {
        "id": "X2Zs5w5IuIW2",
        "colab_type": "text"
      },
      "source": [
        "**Management problem:** "
      ]
    },
    {
      "cell_type": "markdown",
      "metadata": {
        "id": "mM9xPeZPXGrS",
        "colab_type": "text"
      },
      "source": [
        "In summary, developing a bot to generate genre-specific musical sequences is a challenging undertaking. The network architecture is a key element in building a neural network model for music generation especially selection of the types of layers. It would be interesting to introduce temperature or see if an attention layer is more appropriate for sequenced music generation but that topic remains for future study. The final recommendation is to experiment with the RNN LSTM model for music generation, you never know what new surprises you will find."
      ]
    }
  ]
}