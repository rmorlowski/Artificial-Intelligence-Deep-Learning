{
  "nbformat": 4,
  "nbformat_minor": 0,
  "metadata": {
    "colab": {
      "name": "MNIST_Neural_Networks_Keras.ipynb",
      "version": "0.3.2",
      "provenance": [],
      "collapsed_sections": [],
      "include_colab_link": true
    },
    "kernelspec": {
      "name": "python3",
      "display_name": "Python 3"
    },
    "accelerator": "GPU"
  },
  "cells": [
    {
      "cell_type": "markdown",
      "metadata": {
        "id": "view-in-github",
        "colab_type": "text"
      },
      "source": [
        "<a href=\"https://colab.research.google.com/github/rmorlowski/Artificial-Intelligence-Deep-Learning/blob/master/MNIST_Neural_Networks_Keras.ipynb\" target=\"_parent\"><img src=\"https://colab.research.google.com/assets/colab-badge.svg\" alt=\"Open In Colab\"/></a>"
      ]
    },
    {
      "metadata": {
        "id": "2TAHw3FAAcMV",
        "colab_type": "text"
      },
      "cell_type": "markdown",
      "source": [
        "## MNIST Neural Networks"
      ]
    },
    {
      "metadata": {
        "id": "8Q2wvXVmOjis",
        "colab_type": "text"
      },
      "cell_type": "markdown",
      "source": [
        "This individual assignment involves fitting a neural network to the MNIST data, testing alternative network structures, activation functions, optimization methods, and/or hyperparameter settings. For these models, classification performance, accuracy and processing time will be compared across experiments."
      ]
    },
    {
      "metadata": {
        "id": "5avC3qlPVpW2",
        "colab_type": "text"
      },
      "cell_type": "markdown",
      "source": [
        "**The Benchmark Experiment: ** This assignment concerns a single hidden layer. See what happens when you change the number of nodes in that single hidden layer, going from one to two nodes, and from two to many nodes. Note that having a single layer with a single node is similar to employing what is known as a multinomial logit model (logistic regression if there are only two classes).  Due to the time required to fit each neural network, we will observe only one trial for each cell in the design. Also, we will be using a simple training-and-test split with the split having been performed previously. That is, we use the training and test sets that come with MNIST."
      ]
    },
    {
      "metadata": {
        "id": "j29pMh5PJAXn",
        "colab_type": "text"
      },
      "cell_type": "markdown",
      "source": [
        "Relevant documentation includes:\n",
        "\n",
        "*   [Agéron, handson-ml](https://github.com/ageron/handson-ml/blob/master/11_deep_learning.ipynb)\n",
        "*   [Chollet - Deep Learning with Python](https://github.com/fchollet/deep-learning-with-python-notebooks/blob/master/3.6-classifying-newswires.ipynb)\n",
        "*   [TensorFlow Tutorials](https://www.tensorflow.org/tutorials)\n",
        "*   [Visualizing Weights and Convolutions](https://github.com/keras-team/keras/issues/431)"
      ]
    },
    {
      "metadata": {
        "id": "9x_4iOfYZ5Zq",
        "colab_type": "text"
      },
      "cell_type": "markdown",
      "source": [
        "An example experiment could include two values for the number of nodes per inner layer and two values for the number of inner layers. Various machine learning hyperparameter settings may be used.\n",
        "\n",
        "\n",
        "---\n"
      ]
    },
    {
      "metadata": {
        "id": "ODBgiaZMhup3",
        "colab_type": "text"
      },
      "cell_type": "markdown",
      "source": [
        "### Section 1: Ingest - Data Survey"
      ]
    },
    {
      "metadata": {
        "id": "a7gQpBJChxxv",
        "colab_type": "text"
      },
      "cell_type": "markdown",
      "source": [
        "For this assignment we will develop a neural network classifier that may be used to predict which of the ten digits is being written."
      ]
    },
    {
      "metadata": {
        "id": "nFWyjF4uEjXW",
        "colab_type": "text"
      },
      "cell_type": "markdown",
      "source": [
        "\n",
        "First, let's make sure this notebook works well in both python 2 and 3, import a few common modules, ensure MatplotLib plots figures inline and prepare a function to save the figures:"
      ]
    },
    {
      "metadata": {
        "id": "T5qZnho4Z-3k",
        "colab_type": "code",
        "outputId": "b97ff5c0-7d01-4db1-f0c1-eb2d20fa1e9c",
        "colab": {
          "base_uri": "https://localhost:8080/",
          "height": 34
        }
      },
      "cell_type": "code",
      "source": [
        "import tensorflow as tf\n",
        "tf.test.gpu_device_name()"
      ],
      "execution_count": 57,
      "outputs": [
        {
          "output_type": "execute_result",
          "data": {
            "text/plain": [
              "'/device:GPU:0'"
            ]
          },
          "metadata": {
            "tags": []
          },
          "execution_count": 57
        }
      ]
    },
    {
      "metadata": {
        "id": "zRSYONe_9Stb",
        "colab_type": "code",
        "colab": {}
      },
      "cell_type": "code",
      "source": [
        "import time\n",
        "from sklearn.neural_network import MLPClassifier\n",
        "from tensorboardcolab import *"
      ],
      "execution_count": 0,
      "outputs": []
    },
    {
      "metadata": {
        "id": "4eOm2OjTm8Gq",
        "colab_type": "code",
        "colab": {}
      },
      "cell_type": "code",
      "source": [
        "from keras.datasets import mnist\n",
        "from keras.models import Sequential\n",
        "from keras.layers import Dense\n",
        "from keras.layers import Dropout\n",
        "from keras.utils import np_utils"
      ],
      "execution_count": 0,
      "outputs": []
    },
    {
      "metadata": {
        "id": "2idiFIx8GtEV",
        "colab_type": "code",
        "colab": {}
      },
      "cell_type": "code",
      "source": [
        "# To support both python 2 and python 3\n",
        "from __future__ import division, print_function, unicode_literals\n",
        "\n",
        "# Common imports\n",
        "import numpy as np\n",
        "import os\n",
        "\n",
        "# to make this notebook's output stable across runs\n",
        "np.random.seed(42)\n",
        "\n",
        "# To plot pretty figures\n",
        "%matplotlib inline\n",
        "import matplotlib as mpl\n",
        "import matplotlib.pyplot as plt\n",
        "mpl.rc('axes', labelsize=14)\n",
        "mpl.rc('xtick', labelsize=12)\n",
        "mpl.rc('ytick', labelsize=12)\n",
        "\n",
        "# Where to save the figures\n",
        "PROJECT_ROOT_DIR = \".\"\n",
        "CHAPTER_ID = \"classification\"\n",
        "\n",
        "def save_fig(fig_id, tight_layout=True):\n",
        "    path = os.path.join(PROJECT_ROOT_DIR, \"images\", CHAPTER_ID, fig_id + \".png\")\n",
        "    print(\"Saving figure\", fig_id)\n",
        "    if tight_layout:\n",
        "        plt.tight_layout()\n",
        "    plt.savefig(path, format='png', dpi=300)"
      ],
      "execution_count": 0,
      "outputs": []
    },
    {
      "metadata": {
        "id": "pR0IvY0SwUUg",
        "colab_type": "code",
        "colab": {}
      },
      "cell_type": "code",
      "source": [
        "import pandas as pd\n",
        "import statsmodels.formula.api as smf  # R-like model specification\n",
        "import seaborn as sns\n",
        "from sklearn.metrics import mean_squared_error, r2_score, make_scorer \n",
        "from sklearn.model_selection import cross_val_score, train_test_split"
      ],
      "execution_count": 0,
      "outputs": []
    },
    {
      "metadata": {
        "id": "vfUTlPSRby2t",
        "colab_type": "text"
      },
      "cell_type": "markdown",
      "source": [
        "Setup ngrok and run TensorBoard in Colab"
      ]
    },
    {
      "metadata": {
        "id": "QzZSm6zFblvr",
        "colab_type": "code",
        "outputId": "c8ddc96b-0c65-49e6-fe56-e5e9065f2fc6",
        "colab": {
          "base_uri": "https://localhost:8080/",
          "height": 255
        }
      },
      "cell_type": "code",
      "source": [
        "!wget https://bin.equinox.io/c/4VmDzA7iaHb/ngrok-stable-linux-amd64.zip\n",
        "!unzip ngrok-stable-linux-amd64.zip"
      ],
      "execution_count": 62,
      "outputs": [
        {
          "output_type": "stream",
          "text": [
            "--2019-04-16 19:41:48--  https://bin.equinox.io/c/4VmDzA7iaHb/ngrok-stable-linux-amd64.zip\n",
            "Resolving bin.equinox.io (bin.equinox.io)... 34.206.9.96, 52.203.102.189, 52.207.111.186, ...\n",
            "Connecting to bin.equinox.io (bin.equinox.io)|34.206.9.96|:443... connected.\n",
            "HTTP request sent, awaiting response... 200 OK\n",
            "Length: 14977695 (14M) [application/octet-stream]\n",
            "Saving to: ‘ngrok-stable-linux-amd64.zip.1’\n",
            "\n",
            "ngrok-stable-linux- 100%[===================>]  14.28M  15.5MB/s    in 0.9s    \n",
            "\n",
            "2019-04-16 19:41:50 (15.5 MB/s) - ‘ngrok-stable-linux-amd64.zip.1’ saved [14977695/14977695]\n",
            "\n",
            "Archive:  ngrok-stable-linux-amd64.zip\n",
            "replace ngrok? [y]es, [n]o, [A]ll, [N]one, [r]ename: y\n",
            "  inflating: ngrok                   \n"
          ],
          "name": "stdout"
        }
      ]
    },
    {
      "metadata": {
        "id": "6RmMV8aIbmpG",
        "colab_type": "code",
        "colab": {}
      },
      "cell_type": "code",
      "source": [
        "log_dir = './log'\n",
        "get_ipython().system_raw(\n",
        "    'tensorboard --logdir {} --host 0.0.0.0 --port 6006 &'\n",
        "    .format(log_dir)\n",
        ")"
      ],
      "execution_count": 0,
      "outputs": []
    },
    {
      "metadata": {
        "id": "zaUi4ML4bmx0",
        "colab_type": "code",
        "colab": {}
      },
      "cell_type": "code",
      "source": [
        "get_ipython().system_raw('./ngrok http 6006 &')"
      ],
      "execution_count": 0,
      "outputs": []
    },
    {
      "metadata": {
        "id": "tsRhCuUcG0ay",
        "colab_type": "text"
      },
      "cell_type": "markdown",
      "source": [
        "**MNIST Dataset**"
      ]
    },
    {
      "metadata": {
        "id": "wXA8fwkLqIt8",
        "colab_type": "text"
      },
      "cell_type": "markdown",
      "source": [
        "Gather data for the MNIST dataset.  These data consist of 70 thousand observations. Utilize the first 60 thousand as a model development set and the final 10 thousand as a holdout test set."
      ]
    },
    {
      "metadata": {
        "colab_type": "text",
        "id": "eWi8_Vxuhy2i"
      },
      "cell_type": "markdown",
      "source": [
        "Load Train/Test split of the dataset in preparation for modeling.  Split the MNIST dataset into a training set and a test set (take the first 60,000 instances for training, and the remaining 10,000 for testing)."
      ]
    },
    {
      "metadata": {
        "id": "lCOqvmN-GvKZ",
        "colab_type": "code",
        "colab": {}
      },
      "cell_type": "code",
      "source": [
        "#split train & test data\n",
        "(X_train, y_train), (X_test, y_test) = tf.keras.datasets.mnist.load_data()"
      ],
      "execution_count": 0,
      "outputs": []
    },
    {
      "metadata": {
        "id": "O1BEoQ7kMuDZ",
        "colab_type": "code",
        "outputId": "625e85c6-579c-49ed-c187-4243bb370a36",
        "colab": {
          "base_uri": "https://localhost:8080/",
          "height": 222
        }
      },
      "cell_type": "code",
      "source": [
        "import matplotlib.pyplot as plt\n",
        "\n",
        "fig, ax = plt.subplots(nrows=2, ncols=5, sharex=True, sharey=True,)\n",
        "ax = ax.flatten()\n",
        "for i in range(10):\n",
        "    img = X_train[y_train == i][0].reshape(28, 28)\n",
        "    ax[i].imshow(img, cmap='Greys', interpolation='nearest')\n",
        "\n",
        "ax[0].set_xticks([])\n",
        "ax[0].set_yticks([])\n",
        "plt.tight_layout()\n",
        "# plt.savefig('./figures/mnist_all.png', dpi=300)\n",
        "plt.show()"
      ],
      "execution_count": 66,
      "outputs": [
        {
          "output_type": "display_data",
          "data": {
            "image/png": "[encoded data removed]",
            "text/plain": [
              "<Figure size 432x288 with 10 Axes>"
            ]
          },
          "metadata": {
            "tags": []
          }
        }
      ]
    },
    {
      "metadata": {
        "id": "OsimmacfQft-",
        "colab_type": "code",
        "outputId": "5ae18a81-93d2-4cd5-ed47-11b4675b5dbc",
        "colab": {
          "base_uri": "https://localhost:8080/",
          "height": 267
        }
      },
      "cell_type": "code",
      "source": [
        "# Let's plot an image and histogram to quickly visualize the pixel data.\n",
        "%matplotlib inline\n",
        "\n",
        "# We'll show the image and its pixel value histogram side-by-side.\n",
        "_, (ax1, ax2) = plt.subplots(1, 2)\n",
        "\n",
        "# To interpret the values as a 28x28 image, we need to reshape\n",
        "# the numpy array, which is one dimensional.\n",
        "ax1.imshow(X_train[0].reshape(28, 28), cmap=plt.cm.Greys);\n",
        "\n",
        "ax2.hist(X_train[0], bins=20, range=[0,255]);"
      ],
      "execution_count": 67,
      "outputs": [
        {
          "output_type": "display_data",
          "data": {
            "image/png": "[encoded data removed]",
            "text/plain": [
              "<Figure size 432x288 with 2 Axes>"
            ]
          },
          "metadata": {
            "tags": []
          }
        }
      ]
    },
    {
      "metadata": {
        "id": "etuDSoWaS_vz",
        "colab_type": "text"
      },
      "cell_type": "markdown",
      "source": [
        "The large number of 0 values correspond to the background of the image, another large mass of value 255 is black, and a mix of grayscale transition values in between. Both the image and histogram look sensible. But, it's good practice when training image models to normalize values to be centered around 0.\n",
        "\n",
        "We'll do that next. The normalization code is fairly short, and it may be tempting to assume we haven't made mistakes, but we'll double-check by looking at the rendered input and histogram again. Malformed inputs are a surprisingly common source of errors when developing new models."
      ]
    },
    {
      "metadata": {
        "id": "CdzzNjjiSuQC",
        "colab_type": "text"
      },
      "cell_type": "markdown",
      "source": [
        "#### Scale Data"
      ]
    },
    {
      "metadata": {
        "id": "GjbOErSdost3",
        "colab_type": "code",
        "colab": {}
      },
      "cell_type": "code",
      "source": [
        "# flatten 28*28 images to a 784 vector for each image\n",
        "num_pixels = X_train.shape[1] * X_train.shape[2]\n",
        "X_train = X_train.reshape(X_train.shape[0], num_pixels).astype('float32')\n",
        "X_test = X_test.reshape(X_test.shape[0], num_pixels).astype('float32')"
      ],
      "execution_count": 0,
      "outputs": []
    },
    {
      "metadata": {
        "id": "LzwyklMTR4rM",
        "colab_type": "code",
        "colab": {}
      },
      "cell_type": "code",
      "source": [
        "# scale the data for use in the neural network\n",
        "X_train = X_train / 255\n",
        "X_test = X_test / 255"
      ],
      "execution_count": 0,
      "outputs": []
    },
    {
      "metadata": {
        "id": "inL8C4KzG-eE",
        "colab_type": "code",
        "outputId": "5ded93ec-db92-46c2-8b28-cce787078115",
        "colab": {
          "base_uri": "https://localhost:8080/",
          "height": 34
        }
      },
      "cell_type": "code",
      "source": [
        "#test split 'train'\n",
        "X_train.shape"
      ],
      "execution_count": 70,
      "outputs": [
        {
          "output_type": "execute_result",
          "data": {
            "text/plain": [
              "(60000, 784)"
            ]
          },
          "metadata": {
            "tags": []
          },
          "execution_count": 70
        }
      ]
    },
    {
      "metadata": {
        "id": "2kZDi-ZVG-oA",
        "colab_type": "code",
        "outputId": "86792826-9ceb-4c94-9bff-eaec5f4e0b56",
        "colab": {
          "base_uri": "https://localhost:8080/",
          "height": 34
        }
      },
      "cell_type": "code",
      "source": [
        "#test split 'test'\n",
        "X_test.shape"
      ],
      "execution_count": 71,
      "outputs": [
        {
          "output_type": "execute_result",
          "data": {
            "text/plain": [
              "(10000, 784)"
            ]
          },
          "metadata": {
            "tags": []
          },
          "execution_count": 71
        }
      ]
    },
    {
      "metadata": {
        "colab_type": "text",
        "id": "FXvdz2vJhy2g"
      },
      "cell_type": "markdown",
      "source": [
        "### Section 2: EDA"
      ]
    },
    {
      "metadata": {
        "id": "sFMK56bOruS0",
        "colab_type": "text"
      },
      "cell_type": "markdown",
      "source": [
        "#### Visualize MNIST"
      ]
    },
    {
      "metadata": {
        "id": "oewOpENQRQTY",
        "colab_type": "code",
        "outputId": "fb0b6ab8-a192-4828-d24e-196601378e47",
        "colab": {
          "base_uri": "https://localhost:8080/",
          "height": 267
        }
      },
      "cell_type": "code",
      "source": [
        "# We again plot the image and histogram to check that we \n",
        "# haven't mangled the data.\n",
        "_, (ax1, ax2) = plt.subplots(1, 2)\n",
        "ax1.imshow(X_train[0].reshape(28, 28), cmap=plt.cm.Greys);\n",
        "ax2.hist(X_train[0], bins=20, range=[0, 1]);"
      ],
      "execution_count": 72,
      "outputs": [
        {
          "output_type": "display_data",
          "data": {
            "image/png": "[encoded data removed]",
            "text/plain": [
              "<Figure size 432x288 with 2 Axes>"
            ]
          },
          "metadata": {
            "tags": []
          }
        }
      ]
    },
    {
      "metadata": {
        "id": "-L8SYzUjUIGL",
        "colab_type": "text"
      },
      "cell_type": "markdown",
      "source": [
        "We've retained the correct image data while properly rescaling to the range [0, 1.0]."
      ]
    },
    {
      "metadata": {
        "id": "aOcl2p6kHKhi",
        "colab_type": "code",
        "outputId": "5043c788-9ed9-4922-c872-6b9811e29661",
        "colab": {
          "base_uri": "https://localhost:8080/",
          "height": 221
        }
      },
      "cell_type": "code",
      "source": [
        "#check data in training set as visual:\n",
        "print('Training data shape', X_train.shape)\n",
        "_, (ax1, ax2) = plt.subplots(1, 2)\n",
        "ax1.imshow(X_train[0].reshape(28, 28), cmap=plt.cm.Greys);\n",
        "ax2.imshow(X_train[1].reshape(28, 28), cmap=plt.cm.Greys);"
      ],
      "execution_count": 73,
      "outputs": [
        {
          "output_type": "stream",
          "text": [
            "Training data shape (60000, 784)\n"
          ],
          "name": "stdout"
        },
        {
          "output_type": "display_data",
          "data": {
            "image/png": "[encoded data removed]",
            "text/plain": [
              "<Figure size 432x288 with 2 Axes>"
            ]
          },
          "metadata": {
            "tags": []
          }
        }
      ]
    },
    {
      "metadata": {
        "id": "GLI2BGnFnsaM",
        "colab_type": "code",
        "colab": {}
      },
      "cell_type": "code",
      "source": [
        "# one hot encode outputs\n",
        "y_train = np_utils.to_categorical(y_train)\n",
        "y_test = np_utils.to_categorical(y_test)\n",
        "num_classes = y_test.shape[1]"
      ],
      "execution_count": 0,
      "outputs": []
    },
    {
      "metadata": {
        "id": "hbwKoaCPKdxI",
        "colab_type": "code",
        "colab": {}
      },
      "cell_type": "code",
      "source": [
        "#define confusion matrix plot\n",
        "def plot_confusion_matrix(matrix):\n",
        "    \"\"\"If you prefer color and a colorbar\"\"\"\n",
        "    fig = plt.figure(figsize=(8,8))\n",
        "    ax = fig.add_subplot(111)\n",
        "    cax = ax.matshow(matrix)\n",
        "    fig.colorbar(cax)"
      ],
      "execution_count": 0,
      "outputs": []
    },
    {
      "metadata": {
        "id": "oDSpSw_4-7k7",
        "colab_type": "code",
        "outputId": "e0a044cf-1152-4f70-8965-cea209ccf097",
        "colab": {
          "base_uri": "https://localhost:8080/",
          "height": 34
        }
      },
      "cell_type": "code",
      "source": [
        "X_train.dtype"
      ],
      "execution_count": 76,
      "outputs": [
        {
          "output_type": "execute_result",
          "data": {
            "text/plain": [
              "dtype('float32')"
            ]
          },
          "metadata": {
            "tags": []
          },
          "execution_count": 76
        }
      ]
    },
    {
      "metadata": {
        "colab_type": "text",
        "id": "lRgrtJslkAmu"
      },
      "cell_type": "markdown",
      "source": [
        "### Section 3: Modeling - Neural Networks"
      ]
    },
    {
      "metadata": {
        "id": "kheV-Q6qm6cz",
        "colab_type": "text"
      },
      "cell_type": "markdown",
      "source": [
        "In summary, this assignment asks you to fit a number of neural networks, comparing processing time and performance across experimental treatments."
      ]
    },
    {
      "metadata": {
        "id": "qRNU2hNBoDoS",
        "colab_type": "text"
      },
      "cell_type": "markdown",
      "source": [
        "#### Baseline Keras Model MLP"
      ]
    },
    {
      "metadata": {
        "id": "Jvh1K6K4oECW",
        "colab_type": "code",
        "colab": {}
      },
      "cell_type": "code",
      "source": [
        "# define baseline model\n",
        "def baseline_model():\n",
        "\t# create model\n",
        "\tmodel = Sequential()\n",
        "\tmodel.add(Dense(num_pixels, input_dim=num_pixels, kernel_initializer='normal', activation='relu'))\n",
        "\tmodel.add(Dense(num_classes, kernel_initializer='normal', activation='softmax'))\n",
        "\t# Compile model\n",
        "\tmodel.compile(loss='categorical_crossentropy', optimizer='adam', metrics=['accuracy'])\n",
        "\treturn model"
      ],
      "execution_count": 0,
      "outputs": []
    },
    {
      "metadata": {
        "id": "jgrfMdqoskDy",
        "colab_type": "code",
        "colab": {
          "base_uri": "https://localhost:8080/",
          "height": 221
        },
        "outputId": "9432b25e-b791-4985-e2d1-591a39ec5797"
      },
      "cell_type": "code",
      "source": [
        "print(model.summary())"
      ],
      "execution_count": 85,
      "outputs": [
        {
          "output_type": "stream",
          "text": [
            "_________________________________________________________________\n",
            "Layer (type)                 Output Shape              Param #   \n",
            "=================================================================\n",
            "dense_5 (Dense)              (None, 784)               615440    \n",
            "_________________________________________________________________\n",
            "dense_6 (Dense)              (None, 10)                7850      \n",
            "=================================================================\n",
            "Total params: 623,290\n",
            "Trainable params: 623,290\n",
            "Non-trainable params: 0\n",
            "_________________________________________________________________\n",
            "None\n"
          ],
          "name": "stdout"
        }
      ]
    },
    {
      "metadata": {
        "id": "KNsqy_qsoEJW",
        "colab_type": "code",
        "outputId": "4f625bd9-a0d7-483c-9300-469e09d61143",
        "colab": {
          "base_uri": "https://localhost:8080/",
          "height": 391
        }
      },
      "cell_type": "code",
      "source": [
        "# build the model\n",
        "model = baseline_model()\n",
        "\n",
        "# Fit the model\n",
        "history = model.fit(X_train, y_train, validation_data=(X_test, y_test), epochs=10, batch_size=200, verbose=2)\n",
        "# Final evaluation of the model\n",
        "scores = model.evaluate(X_test, y_test, verbose=0)\n",
        "print(\"Baseline Error: %.2f%%\" % (100-scores[1]*100))"
      ],
      "execution_count": 78,
      "outputs": [
        {
          "output_type": "stream",
          "text": [
            "Train on 60000 samples, validate on 10000 samples\n",
            "Epoch 1/10\n",
            " - 1s - loss: 0.2761 - acc: 0.9213 - val_loss: 0.1414 - val_acc: 0.9581\n",
            "Epoch 2/10\n",
            " - 1s - loss: 0.1091 - acc: 0.9687 - val_loss: 0.0933 - val_acc: 0.9712\n",
            "Epoch 3/10\n",
            " - 1s - loss: 0.0713 - acc: 0.9790 - val_loss: 0.0785 - val_acc: 0.9762\n",
            "Epoch 4/10\n",
            " - 1s - loss: 0.0493 - acc: 0.9857 - val_loss: 0.0680 - val_acc: 0.9806\n",
            "Epoch 5/10\n",
            " - 1s - loss: 0.0358 - acc: 0.9900 - val_loss: 0.0653 - val_acc: 0.9792\n",
            "Epoch 6/10\n",
            " - 1s - loss: 0.0264 - acc: 0.9930 - val_loss: 0.0599 - val_acc: 0.9811\n",
            "Epoch 7/10\n",
            " - 1s - loss: 0.0190 - acc: 0.9954 - val_loss: 0.0636 - val_acc: 0.9808\n",
            "Epoch 8/10\n",
            " - 1s - loss: 0.0154 - acc: 0.9963 - val_loss: 0.0567 - val_acc: 0.9814\n",
            "Epoch 9/10\n",
            " - 1s - loss: 0.0103 - acc: 0.9980 - val_loss: 0.0586 - val_acc: 0.9820\n",
            "Epoch 10/10\n",
            " - 1s - loss: 0.0075 - acc: 0.9987 - val_loss: 0.0658 - val_acc: 0.9796\n",
            "Baseline Error: 2.04%\n"
          ],
          "name": "stdout"
        }
      ]
    },
    {
      "metadata": {
        "id": "cArr3lPUoEQ4",
        "colab_type": "code",
        "colab": {
          "base_uri": "https://localhost:8080/",
          "height": 300
        },
        "outputId": "a0ad36ad-6629-4061-9378-9d78608b9c62"
      },
      "cell_type": "code",
      "source": [
        "# Plotting the training and validation loss\n",
        "import matplotlib.pyplot as plt\n",
        "\n",
        "loss = history.history['loss']\n",
        "val_loss = history.history['val_loss']\n",
        "\n",
        "epochs = range(1, len(loss) + 1)\n",
        "\n",
        "plt.plot(epochs, loss, 'go', label='Training loss')\n",
        "plt.plot(epochs, val_loss, 'b', label='Validation loss')\n",
        "plt.title('Training and validation loss')\n",
        "plt.xlabel('Epochs')\n",
        "plt.ylabel('Loss')\n",
        "plt.legend()\n",
        "\n",
        "plt.show()"
      ],
      "execution_count": 79,
      "outputs": [
        {
          "output_type": "display_data",
          "data": {
            "image/png": "[encoded data removed]",
            "text/plain": [
              "<Figure size 432x288 with 1 Axes>"
            ]
          },
          "metadata": {
            "tags": []
          }
        }
      ]
    },
    {
      "metadata": {
        "id": "xFB6Nqjpio4c",
        "colab_type": "code",
        "colab": {
          "base_uri": "https://localhost:8080/",
          "height": 300
        },
        "outputId": "af6b7226-f4c4-4b54-b4a2-f176ece23f58"
      },
      "cell_type": "code",
      "source": [
        "# Plotting the training and validation accuracy\n",
        "plt.clf()   # clear figure\n",
        "\n",
        "acc = history.history['acc']\n",
        "val_acc = history.history['val_acc']\n",
        "\n",
        "plt.plot(epochs, acc, 'go', label='Training acc')\n",
        "plt.plot(epochs, val_acc, 'b', label='Validation acc')\n",
        "plt.title('Training and validation accuracy')\n",
        "plt.xlabel('Epochs')\n",
        "plt.ylabel('Loss')\n",
        "plt.legend()\n",
        "\n",
        "plt.show()"
      ],
      "execution_count": 80,
      "outputs": [
        {
          "output_type": "display_data",
          "data": {
            "image/png": "[encoded data removed]",
            "text/plain": [
              "<Figure size 432x288 with 1 Axes>"
            ]
          },
          "metadata": {
            "tags": []
          }
        }
      ]
    },
    {
      "metadata": {
        "id": "2MKc_HcqoU-m",
        "colab_type": "code",
        "colab": {}
      },
      "cell_type": "code",
      "source": [
        "# Visualizing weights and convolutions\n",
        "def get_activations(model, model_inputs, print_shape_only=True, layer_name=None):\n",
        "    import keras.backend as K\n",
        "    print('----- activations -----')\n",
        "    activations = []\n",
        "    inp = model.input\n",
        "\n",
        "    model_multi_inputs_cond = True\n",
        "    if not isinstance(inp, list):\n",
        "        # only one input! let's wrap it in a list.\n",
        "        inp = [inp]\n",
        "        model_multi_inputs_cond = False\n",
        "\n",
        "    outputs = [layer.output for layer in model.layers if\n",
        "               layer.name == layer_name or layer_name is None]  # all layer outputs\n",
        "\n",
        "    funcs = [K.function(inp + [K.learning_phase()], [out]) for out in outputs]  # evaluation functions\n",
        "\n",
        "    if model_multi_inputs_cond:\n",
        "        list_inputs = []\n",
        "        list_inputs.extend(model_inputs)\n",
        "        list_inputs.append(1.)\n",
        "    else:\n",
        "        list_inputs = [model_inputs, 1.]\n",
        "\n",
        "    # Learning phase. 1 = Test mode (no dropout or batch normalization)\n",
        "    # layer_outputs = [func([model_inputs, 1.])[0] for func in funcs]\n",
        "    layer_outputs = [func(list_inputs)[0] for func in funcs]\n",
        "    for layer_activations in layer_outputs:\n",
        "        activations.append(layer_activations)\n",
        "        if print_shape_only:\n",
        "            print(layer_activations.shape)\n",
        "        else:\n",
        "            print(layer_activations)\n",
        "    return activations"
      ],
      "execution_count": 0,
      "outputs": []
    },
    {
      "metadata": {
        "id": "TvjhSg6pqjvw",
        "colab_type": "code",
        "colab": {
          "base_uri": "https://localhost:8080/",
          "height": 68
        },
        "outputId": "9849d249-1ac5-4149-c288-5f81b23ed7df"
      },
      "cell_type": "code",
      "source": [
        "activations = get_activations(model, X_test)"
      ],
      "execution_count": 83,
      "outputs": [
        {
          "output_type": "stream",
          "text": [
            "----- activations -----\n",
            "(10000, 784)\n",
            "(10000, 10)\n"
          ],
          "name": "stdout"
        }
      ]
    },
    {
      "metadata": {
        "id": "bgUQ544vrO4U",
        "colab_type": "code",
        "colab": {
          "base_uri": "https://localhost:8080/",
          "height": 136
        },
        "outputId": "167617ea-0f13-4818-8a0a-8422faae62b5"
      },
      "cell_type": "code",
      "source": [
        "print(activations[0])"
      ],
      "execution_count": 84,
      "outputs": [
        {
          "output_type": "stream",
          "text": [
            "[[1.1413105  0.03427291 0.         ... 0.         0.22211531 0.51732314]\n",
            " [0.09886524 0.         1.3459632  ... 0.         0.         0.        ]\n",
            " [0.         1.1000751  0.38208482 ... 0.         0.         0.        ]\n",
            " ...\n",
            " [0.7516961  0.         0.         ... 0.5033345  1.1827773  0.        ]\n",
            " [0.45841402 0.         0.6854541  ... 0.         0.         0.        ]\n",
            " [0.90652484 1.181271   0.36761758 ... 0.         0.         0.        ]]\n"
          ],
          "name": "stdout"
        }
      ]
    },
    {
      "metadata": {
        "id": "bJQLHRnxnNO6",
        "colab_type": "text"
      },
      "cell_type": "markdown",
      "source": [
        "#### Tensorflow DNNClassifier Version - 2D with 10 Neurons per layer"
      ]
    },
    {
      "metadata": {
        "id": "4lOQhxbPJbD4",
        "colab_type": "text"
      },
      "cell_type": "markdown",
      "source": [
        "Begin by setting the neural network parameters, the number of layers, and the number of neurons per layer."
      ]
    },
    {
      "metadata": {
        "id": "Pp99buzKqoJX",
        "colab_type": "code",
        "colab": {}
      },
      "cell_type": "code",
      "source": [
        "#Model 2a - 2D with 10 Neurons each layer\n",
        "%%time\n",
        "feature_cols = [tf.feature_column.numeric_column(\"X\", shape=[28 * 28])]\n",
        "dnn_clf_2a = tf.estimator.DNNClassifier(hidden_units=[10,10], n_classes=10,\n",
        "                                     feature_columns=feature_cols)\n",
        "\n",
        "input_fn_2a = tf.estimator.inputs.numpy_input_fn(\n",
        "    x={\"X\": X_train}, y=y_train, num_epochs=50, batch_size=50, shuffle=True)\n",
        "dnn_clf_2a.train(input_fn=input_fn_2a)"
      ],
      "execution_count": 0,
      "outputs": []
    },
    {
      "metadata": {
        "id": "cR3vKFEbeK6k",
        "colab_type": "code",
        "colab": {}
      },
      "cell_type": "code",
      "source": [
        "#evaluate training accuracy (2a)\n",
        "train_2a_input_fn = tf.estimator.inputs.numpy_input_fn(\n",
        "    x={\"X\": X_train}, y=y_train, shuffle=False)\n",
        "eval_results_train_2a = dnn_clf_2a.evaluate(input_fn=train_2a_input_fn)\n",
        "eval_results_train_2a"
      ],
      "execution_count": 0,
      "outputs": []
    },
    {
      "metadata": {
        "id": "NuVGXwC9NMtm",
        "colab_type": "code",
        "colab": {}
      },
      "cell_type": "code",
      "source": [
        "#evaluate test accuracy (2a)\n",
        "test_2a_input_fn = tf.estimator.inputs.numpy_input_fn(\n",
        "    x={\"X\": X_test}, y=y_test, shuffle=False)\n",
        "eval_results_test_2a = dnn_clf_2a.evaluate(input_fn=test_2a_input_fn)\n",
        "eval_results_test_2a"
      ],
      "execution_count": 0,
      "outputs": []
    },
    {
      "metadata": {
        "id": "SQJtWhGYNPOf",
        "colab_type": "code",
        "colab": {}
      },
      "cell_type": "code",
      "source": [
        "#confusion matrix for 2a predictions\n",
        "raw_predictions_2a = dnn_clf_2a.predict(input_fn=test_2a_input_fn)\n",
        "predictions_2a = [p['class_ids'][0] for p in raw_predictions_2a]\n",
        "confusion_matrix_2a = tf.confusion_matrix(y_test, predictions_2a)\n",
        "\n",
        "with tf.Session():\n",
        "    print('\\nConfusion Matrix model 2a:\\n', tf.Tensor.eval(confusion_matrix_2a,feed_dict=None, session=None))"
      ],
      "execution_count": 0,
      "outputs": []
    },
    {
      "metadata": {
        "id": "-89NkYpgYoz1",
        "colab_type": "text"
      },
      "cell_type": "markdown",
      "source": [
        "#### Tensorflow DNNClassifier Version - 2D with 20 Neurons per layer"
      ]
    },
    {
      "metadata": {
        "id": "_KlQ6r97clx5",
        "colab_type": "text"
      },
      "cell_type": "markdown",
      "source": [
        "(2) Model 2 - 2 layers with 20 nodes per layer"
      ]
    },
    {
      "metadata": {
        "id": "2sQDgaQjeDwI",
        "colab_type": "code",
        "colab": {}
      },
      "cell_type": "code",
      "source": [
        "#Model 2b - 2D with 20 Neurons each layer\n",
        "%%time\n",
        "feature_cols = [tf.feature_column.numeric_column(\"X\", shape=[28 * 28])]\n",
        "dnn_clf_2b = tf.estimator.DNNClassifier(hidden_units=[20,20], n_classes=10,\n",
        "                                     feature_columns=feature_cols)\n",
        "\n",
        "input_fn_2b = tf.estimator.inputs.numpy_input_fn(\n",
        "    x={\"X\": X_train}, y=y_train, num_epochs=50, batch_size=50, shuffle=True)\n",
        "dnn_clf_2b.train(input_fn=input_fn_2b)"
      ],
      "execution_count": 0,
      "outputs": []
    },
    {
      "metadata": {
        "id": "Ko2UUUuOOEbZ",
        "colab_type": "code",
        "colab": {}
      },
      "cell_type": "code",
      "source": [
        "#evaluate training accuracy (2b)\n",
        "train_2b_input_fn = tf.estimator.inputs.numpy_input_fn(\n",
        "    x={\"X\": X_train}, y=y_train, shuffle=False)\n",
        "eval_results_train_2b = dnn_clf_2a.evaluate(input_fn=train_2b_input_fn)\n",
        "eval_results_train_2b"
      ],
      "execution_count": 0,
      "outputs": []
    },
    {
      "metadata": {
        "id": "Fvmg6eZDOEi2",
        "colab_type": "code",
        "colab": {}
      },
      "cell_type": "code",
      "source": [
        "#evaluate test accuracy (2b)\n",
        "test_2b_input_fn = tf.estimator.inputs.numpy_input_fn(\n",
        "    x={\"X\": X_test}, y=y_test, shuffle=False)\n",
        "eval_results_test_2b = dnn_clf_2b.evaluate(input_fn=test_2a_input_fn)\n",
        "eval_results_test_2b"
      ],
      "execution_count": 0,
      "outputs": []
    },
    {
      "metadata": {
        "id": "6pJ8O6-FdWK-",
        "colab_type": "text"
      },
      "cell_type": "markdown",
      "source": [
        "#### Tensorflow DNNClassifier Version - 5D with 20 Neurons per layer"
      ]
    },
    {
      "metadata": {
        "id": "3dxIfEjdHlJv",
        "colab_type": "text"
      },
      "cell_type": "markdown",
      "source": [
        "(3) Model 3 - 5 layers with 20 nodes per layer"
      ]
    },
    {
      "metadata": {
        "id": "DkVqW891dKZs",
        "colab_type": "code",
        "colab": {}
      },
      "cell_type": "code",
      "source": [
        "#Model 5a - 5D with 20 Neurons each layer\n",
        "%%time\n",
        "feature_cols = [tf.feature_column.numeric_column(\"X\", shape=[28 * 28])]\n",
        "dnn_clf_5a = tf.estimator.DNNClassifier(hidden_units=[20,20,20,20,20], n_classes=10,\n",
        "                                     feature_columns=feature_cols)\n",
        "\n",
        "input_fn_5a = tf.estimator.inputs.numpy_input_fn(\n",
        "    x={\"X\": X_train}, y=y_train, num_epochs=50, batch_size=50, shuffle=True)\n",
        "dnn_clf_5a.train(input_fn=input_fn_5a)"
      ],
      "execution_count": 0,
      "outputs": []
    },
    {
      "metadata": {
        "id": "JfEr_dv9PmUm",
        "colab_type": "code",
        "colab": {}
      },
      "cell_type": "code",
      "source": [
        "#evaluate training accuracy (5a)\n",
        "train_5a_input_fn = tf.estimator.inputs.numpy_input_fn(\n",
        "    x={\"X\": X_train}, y=y_train, shuffle=False)\n",
        "eval_results_train_5a = dnn_clf_5a.evaluate(input_fn=train_5a_input_fn)\n",
        "eval_results_train_5a"
      ],
      "execution_count": 0,
      "outputs": []
    },
    {
      "metadata": {
        "id": "anGzNfYBPnP_",
        "colab_type": "code",
        "colab": {}
      },
      "cell_type": "code",
      "source": [
        "#evaluate test accuracy (5a)\n",
        "test_5a_input_fn = tf.estimator.inputs.numpy_input_fn(\n",
        "    x={\"X\": X_test}, y=y_test, shuffle=False)\n",
        "eval_results_test_5a = dnn_clf_5a.evaluate(input_fn=test_5a_input_fn)\n",
        "eval_results_test_5a"
      ],
      "execution_count": 0,
      "outputs": []
    },
    {
      "metadata": {
        "id": "K8yUhlq8Pp69",
        "colab_type": "code",
        "colab": {}
      },
      "cell_type": "code",
      "source": [
        "#confusion matrix for 5a predictions\n",
        "raw_predictions_5a = dnn_clf_5a.predict(input_fn=test_5a_input_fn)\n",
        "predictions_5a = [p['class_ids'][0] for p in raw_predictions_5a]\n",
        "confusion_matrix_5a = tf.confusion_matrix(y_test, predictions_5a)\n",
        "\n",
        "with tf.Session():\n",
        "    print('\\nConfusion Matrix model 5a:\\n', tf.Tensor.eval(confusion_matrix_5a,feed_dict=None, session=None))"
      ],
      "execution_count": 0,
      "outputs": []
    },
    {
      "metadata": {
        "id": "KUFIkeeba3mv",
        "colab_type": "text"
      },
      "cell_type": "markdown",
      "source": [
        "#### Tensorflow DNNClassifier Version - 5D with 50 Neurons per layer"
      ]
    },
    {
      "metadata": {
        "id": "qeO9u0evHqkT",
        "colab_type": "text"
      },
      "cell_type": "markdown",
      "source": [
        "(4) Model 4 - 5 layers with 50 nodes per layer"
      ]
    },
    {
      "metadata": {
        "id": "sHRVTxOlPM4M",
        "colab_type": "code",
        "colab": {}
      },
      "cell_type": "code",
      "source": [
        "#Model 5b - 5D with Mixed Neurons each layer (50,50,50,50,55)\n",
        "%%time\n",
        "feature_cols = [tf.feature_column.numeric_column(\"X\", shape=[28 * 28])]\n",
        "dnn_clf_5b = tf.estimator.DNNClassifier(hidden_units=[50,50,50,50,50], n_classes=10,\n",
        "                                     feature_columns=feature_cols)\n",
        "\n",
        "input_fn_5b = tf.estimator.inputs.numpy_input_fn(\n",
        "    x={\"X\": X_train}, y=y_train, num_epochs=50, batch_size=50, shuffle=True)\n",
        "dnn_clf_5b.train(input_fn=input_fn_5b)"
      ],
      "execution_count": 0,
      "outputs": []
    },
    {
      "metadata": {
        "id": "1dCioIPBPNAZ",
        "colab_type": "code",
        "colab": {}
      },
      "cell_type": "code",
      "source": [
        "#evaluate training accuracy (5b)\n",
        "train_5b_input_fn = tf.estimator.inputs.numpy_input_fn(\n",
        "    x={\"X\": X_train}, y=y_train, shuffle=False)\n",
        "eval_results_train_5b = dnn_clf_5b.evaluate(input_fn=train_5b_input_fn)\n",
        "eval_results_train_5b"
      ],
      "execution_count": 0,
      "outputs": []
    },
    {
      "metadata": {
        "id": "RLVkYIMZP82Y",
        "colab_type": "code",
        "colab": {}
      },
      "cell_type": "code",
      "source": [
        "#evaluate test accuracy (5a)\n",
        "test_5b_input_fn = tf.estimator.inputs.numpy_input_fn(\n",
        "    x={\"X\": X_test}, y=y_test, shuffle=False)\n",
        "eval_results_test_5b = dnn_clf_5b.evaluate(input_fn=test_5b_input_fn)\n",
        "eval_results_test_5b"
      ],
      "execution_count": 0,
      "outputs": []
    },
    {
      "metadata": {
        "id": "uhElVeEIP-1G",
        "colab_type": "code",
        "colab": {}
      },
      "cell_type": "code",
      "source": [
        "#confusion matrix for 5b predictions\n",
        "raw_predictions_5b = dnn_clf_5b.predict(input_fn=test_5b_input_fn)\n",
        "predictions_5b = [p['class_ids'][0] for p in raw_predictions_5b]\n",
        "confusion_matrix_5b = tf.confusion_matrix(y_test, predictions_5b)\n",
        "\n",
        "with tf.Session():\n",
        "    print('\\nConfusion Matrix Model 5b:\\n', tf.Tensor.eval(confusion_matrix_5b,feed_dict=None, session=None))"
      ],
      "execution_count": 0,
      "outputs": []
    },
    {
      "metadata": {
        "id": "w2gxBJAXOku8",
        "colab_type": "code",
        "colab": {}
      },
      "cell_type": "code",
      "source": [
        "tbc=TensorBoardColab()"
      ],
      "execution_count": 0,
      "outputs": []
    },
    {
      "metadata": {
        "colab_type": "text",
        "id": "Q02lJoa8h8bJ"
      },
      "cell_type": "markdown",
      "source": [
        "### Section 4:  Conclusion"
      ]
    },
    {
      "metadata": {
        "id": "X2Zs5w5IuIW2",
        "colab_type": "text"
      },
      "cell_type": "markdown",
      "source": [
        "**Management problem: ** Regarding the management problem for this assignment. Suppose you are asked to develop a neural network model for digit classification. How would you go about training such a model? How would you judge the model's accuracy in digit classification with real data examples, such as customer or client handwritten digits on paper?"
      ]
    },
    {
      "metadata": {
        "id": "pTw7fBUBO3lC",
        "colab_type": "text"
      },
      "cell_type": "markdown",
      "source": [
        ">**Summary Table of Models:**\n",
        "\n",
        "\n",
        ">Number of Layers | Nodes Per Layer | Processing Time | Train Accuracy | Test Accuracy\n",
        ">--- | ---\n",
        ">2 | 10 | 2min 35s | 0.9349 | 0.929\n",
        ">2 | 20 | 2min 42s | 0.9349 | 0.9555\n",
        ">5 | 20 | 2min 57s | 0.9858| 0.9582\n",
        ">5 | 50 | 3min 26s | 0.9944 | 0.9606"
      ]
    },
    {
      "metadata": {
        "colab_type": "text",
        "id": "_vmpE0ikh8bL"
      },
      "cell_type": "markdown",
      "source": [
        "**In Conclusion:**\n",
        "\n",
        "After fitting a number of neural networks, processing time and performance was compared across experimental treatments.\n",
        "\n",
        "The results showed:\n",
        "\n",
        "*    The neural network classification model with 5 layers and 50 nodes per layer resulted in the most accurate predictions for handwritten digits.\n",
        "*    Increasing the number of layers and nodes per layer increased accuracy.\n",
        "*    As the number of layers and nodes increased, the processing time was slower.\n",
        "\n",
        "The final recommendation is to implement the neural network classificaiton model with 5 layers and 50 nodes per layer.  Although this model takes longer to process, it results in the most accurate predictions and is the most trustworthy."
      ]
    }
  ]
}